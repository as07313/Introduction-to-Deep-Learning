{
  "cells": [
    {
      "cell_type": "markdown",
      "metadata": {
        "id": "A0Qye42z6w1V"
      },
      "source": [
        "# CS 316 : Introduction to Deep Learning - Fall 2024\n",
        "## Lab 04 : Linear Regression\n",
        "### Dr. Abdul Samad"
      ]
    },
    {
      "cell_type": "markdown",
      "metadata": {
        "id": "yhl9elIZ6yyg"
      },
      "source": [
        "# Instructions\n",
        "\n",
        "1. Make a copy of this notebook on google colab at start of the lab.\n",
        "\n",
        "2. Please rename your notebook as *Lab_4_aa1234.ipynb* before starting the lab. Notebooks which do not follow appropriate naming convention will not be graded.\n",
        "\n",
        "3. You have to submit this lab during the lab timings. You are allowed to submit till 11:59 PM on the day of your lab with a 30% penalty. No submissions will be accepted afterwards.\n",
        "\n",
        "4. Use of AI is strictly prohibited. Anyone caught using Any AI tool during lab or while grading will be immediately reported to OCVS without any further discussion.\n",
        "\n",
        "5. At the end of the lab, download the notebook (ipynb extension file) and upload it on canvas as a file. Submitting link to notebook or any other file will not be accepted.\n",
        "\n",
        "6. Each task has points assigned to it. Total Lab is of 100 points.\n",
        "\n",
        "7. Use of for loops is strictly prohibited.\n",
        "\n",
        "8. For every theoretical question, there is a separate cell given at the end. You have to write your answer there.\n",
        "\n",
        "9. If you have any questions, please feel free to reach out to the course instructor or RA."
      ]
    },
    {
      "cell_type": "markdown",
      "metadata": {
        "id": "GqAoTxi37G4h"
      },
      "source": [
        "## Task Overview\n"
      ]
    },
    {
      "cell_type": "markdown",
      "metadata": {
        "id": "CH1lujCImySb"
      },
      "source": [
        "So far we have studied about how input layers are connected to hidden neurons and then to output. But we haven't completely applied it on any dataset. We are going to do that in this lab today. Lab is pretty short but at the same time necessary for you as this will help you to understand the full cycle."
      ]
    },
    {
      "cell_type": "markdown",
      "metadata": {
        "id": "JFHfgmHp62B-"
      },
      "source": [
        "## Setup"
      ]
    },
    {
      "cell_type": "markdown",
      "metadata": {
        "id": "Yi5jJIrs7LqO"
      },
      "source": [
        "## [20 Points] Task 01 - Download Dataset"
      ]
    },
    {
      "cell_type": "code",
      "execution_count": 13,
      "metadata": {
        "id": "G1XlnVk16noU"
      },
      "outputs": [],
      "source": [
        "# Importing the essentials\n",
        "%matplotlib inline\n",
        "from IPython import display\n",
        "from matplotlib import pyplot as plt\n",
        "import numpy as np\n",
        "import seaborn as sns\n",
        "import os\n",
        "import random\n",
        "import urllib.request\n",
        "import pandas as pd\n",
        "from keras.datasets import fashion_mnist,cifar10,mnist\n",
        "np.random.seed(42)"
      ]
    },
    {
      "cell_type": "markdown",
      "metadata": {
        "id": "ZYGcbfgA7PsO"
      },
      "source": [
        "A suitable dataset is required in order to obtain a linear regression model with reasonable accuracy. There are numerous datasets available, and many of them can be found online. You can also download the dataset manually, but scripting its retrieval is more convenient and may save time.\n",
        "We'll use the urllib.request package to download the dataset."
      ]
    },
    {
      "cell_type": "markdown",
      "metadata": {
        "id": "3SaGmbeC7fw4"
      },
      "source": [
        "**Your task is to download the Dataset by completing the function `get__dataset`. using the `urllib.request.urlretrieve(url,filename)` method. You can google this function to understand how to use it.**\n",
        "\\\n",
        "**Link to Dataset**: [https://raw.githubusercontent.com/plotly/datasets/master/auto-mpg.csv](https://raw.githubusercontent.com/plotly/datasets/master/auto-mpg.csv)"
      ]
    },
    {
      "cell_type": "code",
      "execution_count": 14,
      "metadata": {
        "id": "U9DsrT6K7gX8",
        "tags": []
      },
      "outputs": [],
      "source": [
        "# TODO: Complete get_dataset\n",
        "def get_dataset(filename):\n",
        "    \"\"\"\n",
        "    Download the boston housing dataset.\n",
        "    If the file already exists, don't download the data again.\n",
        "    Add appropriate error handling as well.\n",
        "\n",
        "    Args:\n",
        "        filename (string): The path where you want to save the file.\n",
        "    Return:\n",
        "        bool : True, if you successfully downloaded the data. False,  if the file already exists.\n",
        "    \"\"\"\n",
        "    # Write your code here.\n",
        "    # BEGIN SOLUTION\n",
        "    if os.path.exists(filename):\n",
        "      return False\n",
        "    else:\n",
        "      url = 'https://raw.githubusercontent.com/plotly/datasets/master/auto-mpg.csv'\n",
        "      urllib.request.urlretrieve(url,filename)\n",
        "      return True\n",
        "\n",
        "\n",
        "\n",
        "\n",
        "\n",
        "    # END SOLUTION"
      ]
    },
    {
      "cell_type": "code",
      "execution_count": 15,
      "metadata": {
        "id": "OGJiVA2L1LBE"
      },
      "outputs": [],
      "source": [
        "# DO NOT EDIT\n",
        "# TEST CODE FOR CHECKING THE FUNCTION.\n",
        "if not os.path.isdir(\"datasets\"):\n",
        "  os.mkdir(\"datasets\")\n",
        "housing_csv = os.path.join(\"datasets\", \"data.csv\")\n",
        "if os.path.exists(housing_csv):\n",
        "  assert get_dataset(housing_csv) == False\n",
        "else:\n",
        "  assert get_dataset(housing_csv) == True"
      ]
    },
    {
      "cell_type": "markdown",
      "metadata": {
        "id": "J65Y2ubP9Wu7"
      },
      "source": [
        "## Exploratory Data Analysis"
      ]
    },
    {
      "cell_type": "markdown",
      "metadata": {
        "id": "v0acpv3D9dEJ"
      },
      "source": [
        "After downloading the csv file, let's observe the data and try to understand what it means."
      ]
    },
    {
      "cell_type": "code",
      "execution_count": 16,
      "metadata": {
        "id": "qrWIRW7O9N0P",
        "colab": {
          "base_uri": "https://localhost:8080/",
          "height": 206
        },
        "outputId": "2e966e5b-82ff-4f71-b2ac-6ba91c0f7f15"
      },
      "outputs": [
        {
          "output_type": "execute_result",
          "data": {
            "text/plain": [
              "    mpg  cylinders  displacement  horsepower  weight  acceleration  model-year\n",
              "0  18.0          8         307.0       130.0    3504          12.0          70\n",
              "1  15.0          8         350.0       165.0    3693          11.5          70\n",
              "2  18.0          8         318.0       150.0    3436          11.0          70\n",
              "3  16.0          8         304.0       150.0    3433          12.0          70\n",
              "4  17.0          8         302.0       140.0    3449          10.5          70"
            ],
            "text/html": [
              "\n",
              "  <div id=\"df-079c57bd-cc59-43de-8766-3387f9d36d13\" class=\"colab-df-container\">\n",
              "    <div>\n",
              "<style scoped>\n",
              "    .dataframe tbody tr th:only-of-type {\n",
              "        vertical-align: middle;\n",
              "    }\n",
              "\n",
              "    .dataframe tbody tr th {\n",
              "        vertical-align: top;\n",
              "    }\n",
              "\n",
              "    .dataframe thead th {\n",
              "        text-align: right;\n",
              "    }\n",
              "</style>\n",
              "<table border=\"1\" class=\"dataframe\">\n",
              "  <thead>\n",
              "    <tr style=\"text-align: right;\">\n",
              "      <th></th>\n",
              "      <th>mpg</th>\n",
              "      <th>cylinders</th>\n",
              "      <th>displacement</th>\n",
              "      <th>horsepower</th>\n",
              "      <th>weight</th>\n",
              "      <th>acceleration</th>\n",
              "      <th>model-year</th>\n",
              "    </tr>\n",
              "  </thead>\n",
              "  <tbody>\n",
              "    <tr>\n",
              "      <th>0</th>\n",
              "      <td>18.0</td>\n",
              "      <td>8</td>\n",
              "      <td>307.0</td>\n",
              "      <td>130.0</td>\n",
              "      <td>3504</td>\n",
              "      <td>12.0</td>\n",
              "      <td>70</td>\n",
              "    </tr>\n",
              "    <tr>\n",
              "      <th>1</th>\n",
              "      <td>15.0</td>\n",
              "      <td>8</td>\n",
              "      <td>350.0</td>\n",
              "      <td>165.0</td>\n",
              "      <td>3693</td>\n",
              "      <td>11.5</td>\n",
              "      <td>70</td>\n",
              "    </tr>\n",
              "    <tr>\n",
              "      <th>2</th>\n",
              "      <td>18.0</td>\n",
              "      <td>8</td>\n",
              "      <td>318.0</td>\n",
              "      <td>150.0</td>\n",
              "      <td>3436</td>\n",
              "      <td>11.0</td>\n",
              "      <td>70</td>\n",
              "    </tr>\n",
              "    <tr>\n",
              "      <th>3</th>\n",
              "      <td>16.0</td>\n",
              "      <td>8</td>\n",
              "      <td>304.0</td>\n",
              "      <td>150.0</td>\n",
              "      <td>3433</td>\n",
              "      <td>12.0</td>\n",
              "      <td>70</td>\n",
              "    </tr>\n",
              "    <tr>\n",
              "      <th>4</th>\n",
              "      <td>17.0</td>\n",
              "      <td>8</td>\n",
              "      <td>302.0</td>\n",
              "      <td>140.0</td>\n",
              "      <td>3449</td>\n",
              "      <td>10.5</td>\n",
              "      <td>70</td>\n",
              "    </tr>\n",
              "  </tbody>\n",
              "</table>\n",
              "</div>\n",
              "    <div class=\"colab-df-buttons\">\n",
              "\n",
              "  <div class=\"colab-df-container\">\n",
              "    <button class=\"colab-df-convert\" onclick=\"convertToInteractive('df-079c57bd-cc59-43de-8766-3387f9d36d13')\"\n",
              "            title=\"Convert this dataframe to an interactive table.\"\n",
              "            style=\"display:none;\">\n",
              "\n",
              "  <svg xmlns=\"http://www.w3.org/2000/svg\" height=\"24px\" viewBox=\"0 -960 960 960\">\n",
              "    <path d=\"M120-120v-720h720v720H120Zm60-500h600v-160H180v160Zm220 220h160v-160H400v160Zm0 220h160v-160H400v160ZM180-400h160v-160H180v160Zm440 0h160v-160H620v160ZM180-180h160v-160H180v160Zm440 0h160v-160H620v160Z\"/>\n",
              "  </svg>\n",
              "    </button>\n",
              "\n",
              "  <style>\n",
              "    .colab-df-container {\n",
              "      display:flex;\n",
              "      gap: 12px;\n",
              "    }\n",
              "\n",
              "    .colab-df-convert {\n",
              "      background-color: #E8F0FE;\n",
              "      border: none;\n",
              "      border-radius: 50%;\n",
              "      cursor: pointer;\n",
              "      display: none;\n",
              "      fill: #1967D2;\n",
              "      height: 32px;\n",
              "      padding: 0 0 0 0;\n",
              "      width: 32px;\n",
              "    }\n",
              "\n",
              "    .colab-df-convert:hover {\n",
              "      background-color: #E2EBFA;\n",
              "      box-shadow: 0px 1px 2px rgba(60, 64, 67, 0.3), 0px 1px 3px 1px rgba(60, 64, 67, 0.15);\n",
              "      fill: #174EA6;\n",
              "    }\n",
              "\n",
              "    .colab-df-buttons div {\n",
              "      margin-bottom: 4px;\n",
              "    }\n",
              "\n",
              "    [theme=dark] .colab-df-convert {\n",
              "      background-color: #3B4455;\n",
              "      fill: #D2E3FC;\n",
              "    }\n",
              "\n",
              "    [theme=dark] .colab-df-convert:hover {\n",
              "      background-color: #434B5C;\n",
              "      box-shadow: 0px 1px 3px 1px rgba(0, 0, 0, 0.15);\n",
              "      filter: drop-shadow(0px 1px 2px rgba(0, 0, 0, 0.3));\n",
              "      fill: #FFFFFF;\n",
              "    }\n",
              "  </style>\n",
              "\n",
              "    <script>\n",
              "      const buttonEl =\n",
              "        document.querySelector('#df-079c57bd-cc59-43de-8766-3387f9d36d13 button.colab-df-convert');\n",
              "      buttonEl.style.display =\n",
              "        google.colab.kernel.accessAllowed ? 'block' : 'none';\n",
              "\n",
              "      async function convertToInteractive(key) {\n",
              "        const element = document.querySelector('#df-079c57bd-cc59-43de-8766-3387f9d36d13');\n",
              "        const dataTable =\n",
              "          await google.colab.kernel.invokeFunction('convertToInteractive',\n",
              "                                                    [key], {});\n",
              "        if (!dataTable) return;\n",
              "\n",
              "        const docLinkHtml = 'Like what you see? Visit the ' +\n",
              "          '<a target=\"_blank\" href=https://colab.research.google.com/notebooks/data_table.ipynb>data table notebook</a>'\n",
              "          + ' to learn more about interactive tables.';\n",
              "        element.innerHTML = '';\n",
              "        dataTable['output_type'] = 'display_data';\n",
              "        await google.colab.output.renderOutput(dataTable, element);\n",
              "        const docLink = document.createElement('div');\n",
              "        docLink.innerHTML = docLinkHtml;\n",
              "        element.appendChild(docLink);\n",
              "      }\n",
              "    </script>\n",
              "  </div>\n",
              "\n",
              "\n",
              "<div id=\"df-d49b05ff-e76b-4cab-9f89-f6ed87605dc7\">\n",
              "  <button class=\"colab-df-quickchart\" onclick=\"quickchart('df-d49b05ff-e76b-4cab-9f89-f6ed87605dc7')\"\n",
              "            title=\"Suggest charts\"\n",
              "            style=\"display:none;\">\n",
              "\n",
              "<svg xmlns=\"http://www.w3.org/2000/svg\" height=\"24px\"viewBox=\"0 0 24 24\"\n",
              "     width=\"24px\">\n",
              "    <g>\n",
              "        <path d=\"M19 3H5c-1.1 0-2 .9-2 2v14c0 1.1.9 2 2 2h14c1.1 0 2-.9 2-2V5c0-1.1-.9-2-2-2zM9 17H7v-7h2v7zm4 0h-2V7h2v10zm4 0h-2v-4h2v4z\"/>\n",
              "    </g>\n",
              "</svg>\n",
              "  </button>\n",
              "\n",
              "<style>\n",
              "  .colab-df-quickchart {\n",
              "      --bg-color: #E8F0FE;\n",
              "      --fill-color: #1967D2;\n",
              "      --hover-bg-color: #E2EBFA;\n",
              "      --hover-fill-color: #174EA6;\n",
              "      --disabled-fill-color: #AAA;\n",
              "      --disabled-bg-color: #DDD;\n",
              "  }\n",
              "\n",
              "  [theme=dark] .colab-df-quickchart {\n",
              "      --bg-color: #3B4455;\n",
              "      --fill-color: #D2E3FC;\n",
              "      --hover-bg-color: #434B5C;\n",
              "      --hover-fill-color: #FFFFFF;\n",
              "      --disabled-bg-color: #3B4455;\n",
              "      --disabled-fill-color: #666;\n",
              "  }\n",
              "\n",
              "  .colab-df-quickchart {\n",
              "    background-color: var(--bg-color);\n",
              "    border: none;\n",
              "    border-radius: 50%;\n",
              "    cursor: pointer;\n",
              "    display: none;\n",
              "    fill: var(--fill-color);\n",
              "    height: 32px;\n",
              "    padding: 0;\n",
              "    width: 32px;\n",
              "  }\n",
              "\n",
              "  .colab-df-quickchart:hover {\n",
              "    background-color: var(--hover-bg-color);\n",
              "    box-shadow: 0 1px 2px rgba(60, 64, 67, 0.3), 0 1px 3px 1px rgba(60, 64, 67, 0.15);\n",
              "    fill: var(--button-hover-fill-color);\n",
              "  }\n",
              "\n",
              "  .colab-df-quickchart-complete:disabled,\n",
              "  .colab-df-quickchart-complete:disabled:hover {\n",
              "    background-color: var(--disabled-bg-color);\n",
              "    fill: var(--disabled-fill-color);\n",
              "    box-shadow: none;\n",
              "  }\n",
              "\n",
              "  .colab-df-spinner {\n",
              "    border: 2px solid var(--fill-color);\n",
              "    border-color: transparent;\n",
              "    border-bottom-color: var(--fill-color);\n",
              "    animation:\n",
              "      spin 1s steps(1) infinite;\n",
              "  }\n",
              "\n",
              "  @keyframes spin {\n",
              "    0% {\n",
              "      border-color: transparent;\n",
              "      border-bottom-color: var(--fill-color);\n",
              "      border-left-color: var(--fill-color);\n",
              "    }\n",
              "    20% {\n",
              "      border-color: transparent;\n",
              "      border-left-color: var(--fill-color);\n",
              "      border-top-color: var(--fill-color);\n",
              "    }\n",
              "    30% {\n",
              "      border-color: transparent;\n",
              "      border-left-color: var(--fill-color);\n",
              "      border-top-color: var(--fill-color);\n",
              "      border-right-color: var(--fill-color);\n",
              "    }\n",
              "    40% {\n",
              "      border-color: transparent;\n",
              "      border-right-color: var(--fill-color);\n",
              "      border-top-color: var(--fill-color);\n",
              "    }\n",
              "    60% {\n",
              "      border-color: transparent;\n",
              "      border-right-color: var(--fill-color);\n",
              "    }\n",
              "    80% {\n",
              "      border-color: transparent;\n",
              "      border-right-color: var(--fill-color);\n",
              "      border-bottom-color: var(--fill-color);\n",
              "    }\n",
              "    90% {\n",
              "      border-color: transparent;\n",
              "      border-bottom-color: var(--fill-color);\n",
              "    }\n",
              "  }\n",
              "</style>\n",
              "\n",
              "  <script>\n",
              "    async function quickchart(key) {\n",
              "      const quickchartButtonEl =\n",
              "        document.querySelector('#' + key + ' button');\n",
              "      quickchartButtonEl.disabled = true;  // To prevent multiple clicks.\n",
              "      quickchartButtonEl.classList.add('colab-df-spinner');\n",
              "      try {\n",
              "        const charts = await google.colab.kernel.invokeFunction(\n",
              "            'suggestCharts', [key], {});\n",
              "      } catch (error) {\n",
              "        console.error('Error during call to suggestCharts:', error);\n",
              "      }\n",
              "      quickchartButtonEl.classList.remove('colab-df-spinner');\n",
              "      quickchartButtonEl.classList.add('colab-df-quickchart-complete');\n",
              "    }\n",
              "    (() => {\n",
              "      let quickchartButtonEl =\n",
              "        document.querySelector('#df-d49b05ff-e76b-4cab-9f89-f6ed87605dc7 button');\n",
              "      quickchartButtonEl.style.display =\n",
              "        google.colab.kernel.accessAllowed ? 'block' : 'none';\n",
              "    })();\n",
              "  </script>\n",
              "</div>\n",
              "\n",
              "    </div>\n",
              "  </div>\n"
            ],
            "application/vnd.google.colaboratory.intrinsic+json": {
              "type": "dataframe",
              "variable_name": "housing_dataset",
              "summary": "{\n  \"name\": \"housing_dataset\",\n  \"rows\": 398,\n  \"fields\": [\n    {\n      \"column\": \"mpg\",\n      \"properties\": {\n        \"dtype\": \"number\",\n        \"std\": 7.815984312565782,\n        \"min\": 9.0,\n        \"max\": 46.6,\n        \"num_unique_values\": 129,\n        \"samples\": [\n          17.7,\n          30.5,\n          30.0\n        ],\n        \"semantic_type\": \"\",\n        \"description\": \"\"\n      }\n    },\n    {\n      \"column\": \"cylinders\",\n      \"properties\": {\n        \"dtype\": \"number\",\n        \"std\": 1,\n        \"min\": 3,\n        \"max\": 8,\n        \"num_unique_values\": 5,\n        \"samples\": [\n          4,\n          5,\n          6\n        ],\n        \"semantic_type\": \"\",\n        \"description\": \"\"\n      }\n    },\n    {\n      \"column\": \"displacement\",\n      \"properties\": {\n        \"dtype\": \"number\",\n        \"std\": 104.26983817119591,\n        \"min\": 68.0,\n        \"max\": 455.0,\n        \"num_unique_values\": 82,\n        \"samples\": [\n          122.0,\n          307.0,\n          360.0\n        ],\n        \"semantic_type\": \"\",\n        \"description\": \"\"\n      }\n    },\n    {\n      \"column\": \"horsepower\",\n      \"properties\": {\n        \"dtype\": \"number\",\n        \"std\": 38.402030387202295,\n        \"min\": 46.0,\n        \"max\": 230.0,\n        \"num_unique_values\": 93,\n        \"samples\": [\n          92.0,\n          100.0,\n          52.0\n        ],\n        \"semantic_type\": \"\",\n        \"description\": \"\"\n      }\n    },\n    {\n      \"column\": \"weight\",\n      \"properties\": {\n        \"dtype\": \"number\",\n        \"std\": 846,\n        \"min\": 1613,\n        \"max\": 5140,\n        \"num_unique_values\": 351,\n        \"samples\": [\n          3730,\n          1995,\n          2215\n        ],\n        \"semantic_type\": \"\",\n        \"description\": \"\"\n      }\n    },\n    {\n      \"column\": \"acceleration\",\n      \"properties\": {\n        \"dtype\": \"number\",\n        \"std\": 2.757688929812676,\n        \"min\": 8.0,\n        \"max\": 24.8,\n        \"num_unique_values\": 95,\n        \"samples\": [\n          14.7,\n          18.0,\n          14.3\n        ],\n        \"semantic_type\": \"\",\n        \"description\": \"\"\n      }\n    },\n    {\n      \"column\": \"model-year\",\n      \"properties\": {\n        \"dtype\": \"number\",\n        \"std\": 3,\n        \"min\": 70,\n        \"max\": 82,\n        \"num_unique_values\": 13,\n        \"samples\": [\n          81,\n          79,\n          70\n        ],\n        \"semantic_type\": \"\",\n        \"description\": \"\"\n      }\n    }\n  ]\n}"
            }
          },
          "metadata": {},
          "execution_count": 16
        }
      ],
      "source": [
        "# DO NOT EDIT\n",
        "# Load the dataset\n",
        "housing_dataset = pd.read_csv(housing_csv)\n",
        "# View the top rows of the dataset\n",
        "housing_dataset.head()"
      ]
    },
    {
      "cell_type": "markdown",
      "metadata": {
        "id": "moND4Guj9hIB"
      },
      "source": [
        "Most of the variables are unlikely to have a significant impact on Chance of admit. To avoid dealing with irrelevant columns, try finding out which variables have strong correlation with data. It has been done in below given code. No need to do it for now. Since all variables have strong connection, we are not dropping any column for now."
      ]
    },
    {
      "cell_type": "code",
      "execution_count": 17,
      "metadata": {
        "colab": {
          "base_uri": "https://localhost:8080/",
          "height": 771
        },
        "id": "lzl9ajyh9iiJ",
        "outputId": "56e17636-9129-45d9-b4d8-9bd9a7ed7117"
      },
      "outputs": [
        {
          "output_type": "stream",
          "name": "stderr",
          "text": [
            "<ipython-input-17-d4516aff7c63>:3: DeprecationWarning: `set_matplotlib_formats` is deprecated since IPython 7.23, directly use `matplotlib_inline.backend_inline.set_matplotlib_formats()`\n",
            "  display.set_matplotlib_formats('svg')\n"
          ]
        },
        {
          "output_type": "display_data",
          "data": {
            "text/plain": [
              "<Figure size 800x800 with 2 Axes>"
            ],
            "image/svg+xml": "<?xml version=\"1.0\" encoding=\"utf-8\" standalone=\"no\"?>\n<!DOCTYPE svg PUBLIC \"-//W3C//DTD SVG 1.1//EN\"\n  \"http://www.w3.org/Graphics/SVG/1.1/DTD/svg11.dtd\">\n<svg xmlns:xlink=\"http://www.w3.org/1999/xlink\" width=\"470.339438pt\" height=\"536.112969pt\" viewBox=\"0 0 470.339438 536.112969\" xmlns=\"http://www.w3.org/2000/svg\" version=\"1.1\">\n <metadata>\n  <rdf:RDF xmlns:dc=\"http://purl.org/dc/elements/1.1/\" xmlns:cc=\"http://creativecommons.org/ns#\" xmlns:rdf=\"http://www.w3.org/1999/02/22-rdf-syntax-ns#\">\n   <cc:Work>\n    <dc:type rdf:resource=\"http://purl.org/dc/dcmitype/StillImage\"/>\n    <dc:date>2024-09-13T16:07:20.596028</dc:date>\n    <dc:format>image/svg+xml</dc:format>\n    <dc:creator>\n     <cc:Agent>\n      <dc:title>Matplotlib v3.7.1, https://matplotlib.org/</dc:title>\n     </cc:Agent>\n    </dc:creator>\n   </cc:Work>\n  </rdf:RDF>\n </metadata>\n <defs>\n  <style type=\"text/css\">*{stroke-linejoin: round; stroke-linecap: butt}</style>\n </defs>\n <g id=\"figure_1\">\n  <g id=\"patch_1\">\n   <path d=\"M 0 536.112969 \nL 470.339438 536.112969 \nL 470.339438 0 \nL 0 0 \nz\n\" style=\"fill: #ffffff\"/>\n  </g>\n  <g id=\"axes_1\">\n   <g id=\"patch_2\">\n    <path d=\"M 23.878125 454.519219 \nL 380.998125 454.519219 \nL 380.998125 10.999219 \nL 23.878125 10.999219 \nz\n\" style=\"fill: #ffffff\"/>\n   </g>\n   <g id=\"QuadMesh_1\">\n    <path d=\"M 23.878125 10.999219 \nL 74.895268 10.999219 \nL 74.895268 74.359219 \nL 23.878125 74.359219 \nL 23.878125 10.999219 \n\" clip-path=\"url(#p0a324275c5)\" style=\"fill: #faebdd\"/>\n    <path d=\"M 74.895268 10.999219 \nL 125.912411 10.999219 \nL 125.912411 74.359219 \nL 74.895268 74.359219 \nL 74.895268 10.999219 \n\" clip-path=\"url(#p0a324275c5)\" style=\"fill: #0a091f\"/>\n    <path d=\"M 125.912411 10.999219 \nL 176.929554 10.999219 \nL 176.929554 74.359219 \nL 125.912411 74.359219 \nL 125.912411 10.999219 \n\" clip-path=\"url(#p0a324275c5)\" style=\"fill: #07071d\"/>\n    <path d=\"M 176.929554 10.999219 \nL 227.946696 10.999219 \nL 227.946696 74.359219 \nL 176.929554 74.359219 \nL 176.929554 10.999219 \n\" clip-path=\"url(#p0a324275c5)\" style=\"fill: #0a091f\"/>\n    <path d=\"M 227.946696 10.999219 \nL 278.963839 10.999219 \nL 278.963839 74.359219 \nL 227.946696 74.359219 \nL 227.946696 10.999219 \n\" clip-path=\"url(#p0a324275c5)\" style=\"fill: #03051a\"/>\n    <path d=\"M 278.963839 10.999219 \nL 329.980982 10.999219 \nL 329.980982 74.359219 \nL 278.963839 74.359219 \nL 278.963839 10.999219 \n\" clip-path=\"url(#p0a324275c5)\" style=\"fill: #f26747\"/>\n    <path d=\"M 329.980982 10.999219 \nL 380.998125 10.999219 \nL 380.998125 74.359219 \nL 329.980982 74.359219 \nL 329.980982 10.999219 \n\" clip-path=\"url(#p0a324275c5)\" style=\"fill: #f59067\"/>\n    <path d=\"M 23.878125 74.359219 \nL 74.895268 74.359219 \nL 74.895268 137.719219 \nL 23.878125 137.719219 \nL 23.878125 74.359219 \n\" clip-path=\"url(#p0a324275c5)\" style=\"fill: #0a091f\"/>\n    <path d=\"M 74.895268 74.359219 \nL 125.912411 74.359219 \nL 125.912411 137.719219 \nL 74.895268 137.719219 \nL 74.895268 74.359219 \n\" clip-path=\"url(#p0a324275c5)\" style=\"fill: #faebdd\"/>\n    <path d=\"M 125.912411 74.359219 \nL 176.929554 74.359219 \nL 176.929554 137.719219 \nL 125.912411 137.719219 \nL 125.912411 74.359219 \n\" clip-path=\"url(#p0a324275c5)\" style=\"fill: #f9e2d0\"/>\n    <path d=\"M 176.929554 74.359219 \nL 227.946696 74.359219 \nL 227.946696 137.719219 \nL 176.929554 137.719219 \nL 176.929554 74.359219 \n\" clip-path=\"url(#p0a324275c5)\" style=\"fill: #f7caac\"/>\n    <path d=\"M 227.946696 74.359219 \nL 278.963839 74.359219 \nL 278.963839 137.719219 \nL 227.946696 137.719219 \nL 227.946696 74.359219 \n\" clip-path=\"url(#p0a324275c5)\" style=\"fill: #f8d7c0\"/>\n    <path d=\"M 278.963839 74.359219 \nL 329.980982 74.359219 \nL 329.980982 137.719219 \nL 278.963839 137.719219 \nL 278.963839 74.359219 \n\" clip-path=\"url(#p0a324275c5)\" style=\"fill: #421b45\"/>\n    <path d=\"M 329.980982 74.359219 \nL 380.998125 74.359219 \nL 380.998125 137.719219 \nL 329.980982 137.719219 \nL 329.980982 74.359219 \n\" clip-path=\"url(#p0a324275c5)\" style=\"fill: #661f54\"/>\n    <path d=\"M 23.878125 137.719219 \nL 74.895268 137.719219 \nL 74.895268 201.079219 \nL 23.878125 201.079219 \nL 23.878125 137.719219 \n\" clip-path=\"url(#p0a324275c5)\" style=\"fill: #07071d\"/>\n    <path d=\"M 74.895268 137.719219 \nL 125.912411 137.719219 \nL 125.912411 201.079219 \nL 74.895268 201.079219 \nL 74.895268 137.719219 \n\" clip-path=\"url(#p0a324275c5)\" style=\"fill: #f9e2d0\"/>\n    <path d=\"M 125.912411 137.719219 \nL 176.929554 137.719219 \nL 176.929554 201.079219 \nL 125.912411 201.079219 \nL 125.912411 137.719219 \n\" clip-path=\"url(#p0a324275c5)\" style=\"fill: #faebdd\"/>\n    <path d=\"M 176.929554 137.719219 \nL 227.946696 137.719219 \nL 227.946696 201.079219 \nL 176.929554 201.079219 \nL 176.929554 137.719219 \n\" clip-path=\"url(#p0a324275c5)\" style=\"fill: #f8d7c0\"/>\n    <path d=\"M 227.946696 137.719219 \nL 278.963839 137.719219 \nL 278.963839 201.079219 \nL 227.946696 201.079219 \nL 227.946696 137.719219 \n\" clip-path=\"url(#p0a324275c5)\" style=\"fill: #f9ddc9\"/>\n    <path d=\"M 278.963839 137.719219 \nL 329.980982 137.719219 \nL 329.980982 201.079219 \nL 278.963839 201.079219 \nL 278.963839 137.719219 \n\" clip-path=\"url(#p0a324275c5)\" style=\"fill: #3c1a42\"/>\n    <path d=\"M 329.980982 137.719219 \nL 380.998125 137.719219 \nL 380.998125 201.079219 \nL 329.980982 201.079219 \nL 329.980982 137.719219 \n\" clip-path=\"url(#p0a324275c5)\" style=\"fill: #611f53\"/>\n    <path d=\"M 23.878125 201.079219 \nL 74.895268 201.079219 \nL 74.895268 264.439219 \nL 23.878125 264.439219 \nL 23.878125 201.079219 \n\" clip-path=\"url(#p0a324275c5)\" style=\"fill: #0a091f\"/>\n    <path d=\"M 74.895268 201.079219 \nL 125.912411 201.079219 \nL 125.912411 264.439219 \nL 74.895268 264.439219 \nL 74.895268 201.079219 \n\" clip-path=\"url(#p0a324275c5)\" style=\"fill: #f7caac\"/>\n    <path d=\"M 125.912411 201.079219 \nL 176.929554 201.079219 \nL 176.929554 264.439219 \nL 125.912411 264.439219 \nL 125.912411 201.079219 \n\" clip-path=\"url(#p0a324275c5)\" style=\"fill: #f8d7c0\"/>\n    <path d=\"M 176.929554 201.079219 \nL 227.946696 201.079219 \nL 227.946696 264.439219 \nL 176.929554 264.439219 \nL 176.929554 201.079219 \n\" clip-path=\"url(#p0a324275c5)\" style=\"fill: #faebdd\"/>\n    <path d=\"M 227.946696 201.079219 \nL 278.963839 201.079219 \nL 278.963839 264.439219 \nL 227.946696 264.439219 \nL 227.946696 201.079219 \n\" clip-path=\"url(#p0a324275c5)\" style=\"fill: #f7cfb3\"/>\n    <path d=\"M 278.963839 201.079219 \nL 329.980982 201.079219 \nL 329.980982 264.439219 \nL 278.963839 264.439219 \nL 278.963839 201.079219 \n\" clip-path=\"url(#p0a324275c5)\" style=\"fill: #1d112c\"/>\n    <path d=\"M 329.980982 201.079219 \nL 380.998125 201.079219 \nL 380.998125 264.439219 \nL 329.980982 264.439219 \nL 329.980982 201.079219 \n\" clip-path=\"url(#p0a324275c5)\" style=\"fill: #561e4f\"/>\n    <path d=\"M 23.878125 264.439219 \nL 74.895268 264.439219 \nL 74.895268 327.799219 \nL 23.878125 327.799219 \nL 23.878125 264.439219 \n\" clip-path=\"url(#p0a324275c5)\" style=\"fill: #03051a\"/>\n    <path d=\"M 74.895268 264.439219 \nL 125.912411 264.439219 \nL 125.912411 327.799219 \nL 74.895268 327.799219 \nL 74.895268 264.439219 \n\" clip-path=\"url(#p0a324275c5)\" style=\"fill: #f8d7c0\"/>\n    <path d=\"M 125.912411 264.439219 \nL 176.929554 264.439219 \nL 176.929554 327.799219 \nL 125.912411 327.799219 \nL 125.912411 264.439219 \n\" clip-path=\"url(#p0a324275c5)\" style=\"fill: #f9ddc9\"/>\n    <path d=\"M 176.929554 264.439219 \nL 227.946696 264.439219 \nL 227.946696 327.799219 \nL 176.929554 327.799219 \nL 176.929554 264.439219 \n\" clip-path=\"url(#p0a324275c5)\" style=\"fill: #f7cfb3\"/>\n    <path d=\"M 227.946696 264.439219 \nL 278.963839 264.439219 \nL 278.963839 327.799219 \nL 227.946696 327.799219 \nL 227.946696 264.439219 \n\" clip-path=\"url(#p0a324275c5)\" style=\"fill: #faebdd\"/>\n    <path d=\"M 278.963839 264.439219 \nL 329.980982 264.439219 \nL 329.980982 327.799219 \nL 278.963839 327.799219 \nL 278.963839 264.439219 \n\" clip-path=\"url(#p0a324275c5)\" style=\"fill: #561e4f\"/>\n    <path d=\"M 329.980982 264.439219 \nL 380.998125 264.439219 \nL 380.998125 327.799219 \nL 329.980982 327.799219 \nL 329.980982 264.439219 \n\" clip-path=\"url(#p0a324275c5)\" style=\"fill: #6e1f57\"/>\n    <path d=\"M 23.878125 327.799219 \nL 74.895268 327.799219 \nL 74.895268 391.159219 \nL 23.878125 391.159219 \nL 23.878125 327.799219 \n\" clip-path=\"url(#p0a324275c5)\" style=\"fill: #f26747\"/>\n    <path d=\"M 74.895268 327.799219 \nL 125.912411 327.799219 \nL 125.912411 391.159219 \nL 74.895268 391.159219 \nL 74.895268 327.799219 \n\" clip-path=\"url(#p0a324275c5)\" style=\"fill: #421b45\"/>\n    <path d=\"M 125.912411 327.799219 \nL 176.929554 327.799219 \nL 176.929554 391.159219 \nL 125.912411 391.159219 \nL 125.912411 327.799219 \n\" clip-path=\"url(#p0a324275c5)\" style=\"fill: #3c1a42\"/>\n    <path d=\"M 176.929554 327.799219 \nL 227.946696 327.799219 \nL 227.946696 391.159219 \nL 176.929554 391.159219 \nL 176.929554 327.799219 \n\" clip-path=\"url(#p0a324275c5)\" style=\"fill: #1d112c\"/>\n    <path d=\"M 227.946696 327.799219 \nL 278.963839 327.799219 \nL 278.963839 391.159219 \nL 227.946696 391.159219 \nL 227.946696 327.799219 \n\" clip-path=\"url(#p0a324275c5)\" style=\"fill: #561e4f\"/>\n    <path d=\"M 278.963839 327.799219 \nL 329.980982 327.799219 \nL 329.980982 391.159219 \nL 278.963839 391.159219 \nL 278.963839 327.799219 \n\" clip-path=\"url(#p0a324275c5)\" style=\"fill: #faebdd\"/>\n    <path d=\"M 329.980982 327.799219 \nL 380.998125 327.799219 \nL 380.998125 391.159219 \nL 329.980982 391.159219 \nL 329.980982 327.799219 \n\" clip-path=\"url(#p0a324275c5)\" style=\"fill: #ea443e\"/>\n    <path d=\"M 23.878125 391.159219 \nL 74.895268 391.159219 \nL 74.895268 454.519219 \nL 23.878125 454.519219 \nL 23.878125 391.159219 \n\" clip-path=\"url(#p0a324275c5)\" style=\"fill: #f59067\"/>\n    <path d=\"M 74.895268 391.159219 \nL 125.912411 391.159219 \nL 125.912411 454.519219 \nL 74.895268 454.519219 \nL 74.895268 391.159219 \n\" clip-path=\"url(#p0a324275c5)\" style=\"fill: #661f54\"/>\n    <path d=\"M 125.912411 391.159219 \nL 176.929554 391.159219 \nL 176.929554 454.519219 \nL 125.912411 454.519219 \nL 125.912411 391.159219 \n\" clip-path=\"url(#p0a324275c5)\" style=\"fill: #611f53\"/>\n    <path d=\"M 176.929554 391.159219 \nL 227.946696 391.159219 \nL 227.946696 454.519219 \nL 176.929554 454.519219 \nL 176.929554 391.159219 \n\" clip-path=\"url(#p0a324275c5)\" style=\"fill: #561e4f\"/>\n    <path d=\"M 227.946696 391.159219 \nL 278.963839 391.159219 \nL 278.963839 454.519219 \nL 227.946696 454.519219 \nL 227.946696 391.159219 \n\" clip-path=\"url(#p0a324275c5)\" style=\"fill: #6e1f57\"/>\n    <path d=\"M 278.963839 391.159219 \nL 329.980982 391.159219 \nL 329.980982 454.519219 \nL 278.963839 454.519219 \nL 278.963839 391.159219 \n\" clip-path=\"url(#p0a324275c5)\" style=\"fill: #ea443e\"/>\n    <path d=\"M 329.980982 391.159219 \nL 380.998125 391.159219 \nL 380.998125 454.519219 \nL 329.980982 454.519219 \nL 329.980982 391.159219 \n\" clip-path=\"url(#p0a324275c5)\" style=\"fill: #faebdd\"/>\n   </g>\n   <g id=\"matplotlib.axis_1\">\n    <g id=\"xtick_1\">\n     <g id=\"line2d_1\">\n      <defs>\n       <path id=\"m1d3fb409a2\" d=\"M 0 0 \nL 0 3.5 \n\" style=\"stroke: #000000; stroke-width: 0.8\"/>\n      </defs>\n      <g>\n       <use xlink:href=\"#m1d3fb409a2\" x=\"49.386696\" y=\"454.519219\" style=\"stroke: #000000; stroke-width: 0.8\"/>\n      </g>\n     </g>\n     <g id=\"text_1\">\n      <!-- mpg -->\n      <g transform=\"translate(52.146071 483.956719) rotate(-90) scale(0.1 -0.1)\">\n       <defs>\n        <path id=\"DejaVuSans-6d\" d=\"M 3328 2828 \nQ 3544 3216 3844 3400 \nQ 4144 3584 4550 3584 \nQ 5097 3584 5394 3201 \nQ 5691 2819 5691 2113 \nL 5691 0 \nL 5113 0 \nL 5113 2094 \nQ 5113 2597 4934 2840 \nQ 4756 3084 4391 3084 \nQ 3944 3084 3684 2787 \nQ 3425 2491 3425 1978 \nL 3425 0 \nL 2847 0 \nL 2847 2094 \nQ 2847 2600 2669 2842 \nQ 2491 3084 2119 3084 \nQ 1678 3084 1418 2786 \nQ 1159 2488 1159 1978 \nL 1159 0 \nL 581 0 \nL 581 3500 \nL 1159 3500 \nL 1159 2956 \nQ 1356 3278 1631 3431 \nQ 1906 3584 2284 3584 \nQ 2666 3584 2933 3390 \nQ 3200 3197 3328 2828 \nz\n\" transform=\"scale(0.015625)\"/>\n        <path id=\"DejaVuSans-70\" d=\"M 1159 525 \nL 1159 -1331 \nL 581 -1331 \nL 581 3500 \nL 1159 3500 \nL 1159 2969 \nQ 1341 3281 1617 3432 \nQ 1894 3584 2278 3584 \nQ 2916 3584 3314 3078 \nQ 3713 2572 3713 1747 \nQ 3713 922 3314 415 \nQ 2916 -91 2278 -91 \nQ 1894 -91 1617 61 \nQ 1341 213 1159 525 \nz\nM 3116 1747 \nQ 3116 2381 2855 2742 \nQ 2594 3103 2138 3103 \nQ 1681 3103 1420 2742 \nQ 1159 2381 1159 1747 \nQ 1159 1113 1420 752 \nQ 1681 391 2138 391 \nQ 2594 391 2855 752 \nQ 3116 1113 3116 1747 \nz\n\" transform=\"scale(0.015625)\"/>\n        <path id=\"DejaVuSans-67\" d=\"M 2906 1791 \nQ 2906 2416 2648 2759 \nQ 2391 3103 1925 3103 \nQ 1463 3103 1205 2759 \nQ 947 2416 947 1791 \nQ 947 1169 1205 825 \nQ 1463 481 1925 481 \nQ 2391 481 2648 825 \nQ 2906 1169 2906 1791 \nz\nM 3481 434 \nQ 3481 -459 3084 -895 \nQ 2688 -1331 1869 -1331 \nQ 1566 -1331 1297 -1286 \nQ 1028 -1241 775 -1147 \nL 775 -588 \nQ 1028 -725 1275 -790 \nQ 1522 -856 1778 -856 \nQ 2344 -856 2625 -561 \nQ 2906 -266 2906 331 \nL 2906 616 \nQ 2728 306 2450 153 \nQ 2172 0 1784 0 \nQ 1141 0 747 490 \nQ 353 981 353 1791 \nQ 353 2603 747 3093 \nQ 1141 3584 1784 3584 \nQ 2172 3584 2450 3431 \nQ 2728 3278 2906 2969 \nL 2906 3500 \nL 3481 3500 \nL 3481 434 \nz\n\" transform=\"scale(0.015625)\"/>\n       </defs>\n       <use xlink:href=\"#DejaVuSans-6d\"/>\n       <use xlink:href=\"#DejaVuSans-70\" x=\"97.412109\"/>\n       <use xlink:href=\"#DejaVuSans-67\" x=\"160.888672\"/>\n      </g>\n     </g>\n    </g>\n    <g id=\"xtick_2\">\n     <g id=\"line2d_2\">\n      <g>\n       <use xlink:href=\"#m1d3fb409a2\" x=\"100.403839\" y=\"454.519219\" style=\"stroke: #000000; stroke-width: 0.8\"/>\n      </g>\n     </g>\n     <g id=\"text_2\">\n      <!-- cylinders -->\n      <g transform=\"translate(103.163214 506.652031) rotate(-90) scale(0.1 -0.1)\">\n       <defs>\n        <path id=\"DejaVuSans-63\" d=\"M 3122 3366 \nL 3122 2828 \nQ 2878 2963 2633 3030 \nQ 2388 3097 2138 3097 \nQ 1578 3097 1268 2742 \nQ 959 2388 959 1747 \nQ 959 1106 1268 751 \nQ 1578 397 2138 397 \nQ 2388 397 2633 464 \nQ 2878 531 3122 666 \nL 3122 134 \nQ 2881 22 2623 -34 \nQ 2366 -91 2075 -91 \nQ 1284 -91 818 406 \nQ 353 903 353 1747 \nQ 353 2603 823 3093 \nQ 1294 3584 2113 3584 \nQ 2378 3584 2631 3529 \nQ 2884 3475 3122 3366 \nz\n\" transform=\"scale(0.015625)\"/>\n        <path id=\"DejaVuSans-79\" d=\"M 2059 -325 \nQ 1816 -950 1584 -1140 \nQ 1353 -1331 966 -1331 \nL 506 -1331 \nL 506 -850 \nL 844 -850 \nQ 1081 -850 1212 -737 \nQ 1344 -625 1503 -206 \nL 1606 56 \nL 191 3500 \nL 800 3500 \nL 1894 763 \nL 2988 3500 \nL 3597 3500 \nL 2059 -325 \nz\n\" transform=\"scale(0.015625)\"/>\n        <path id=\"DejaVuSans-6c\" d=\"M 603 4863 \nL 1178 4863 \nL 1178 0 \nL 603 0 \nL 603 4863 \nz\n\" transform=\"scale(0.015625)\"/>\n        <path id=\"DejaVuSans-69\" d=\"M 603 3500 \nL 1178 3500 \nL 1178 0 \nL 603 0 \nL 603 3500 \nz\nM 603 4863 \nL 1178 4863 \nL 1178 4134 \nL 603 4134 \nL 603 4863 \nz\n\" transform=\"scale(0.015625)\"/>\n        <path id=\"DejaVuSans-6e\" d=\"M 3513 2113 \nL 3513 0 \nL 2938 0 \nL 2938 2094 \nQ 2938 2591 2744 2837 \nQ 2550 3084 2163 3084 \nQ 1697 3084 1428 2787 \nQ 1159 2491 1159 1978 \nL 1159 0 \nL 581 0 \nL 581 3500 \nL 1159 3500 \nL 1159 2956 \nQ 1366 3272 1645 3428 \nQ 1925 3584 2291 3584 \nQ 2894 3584 3203 3211 \nQ 3513 2838 3513 2113 \nz\n\" transform=\"scale(0.015625)\"/>\n        <path id=\"DejaVuSans-64\" d=\"M 2906 2969 \nL 2906 4863 \nL 3481 4863 \nL 3481 0 \nL 2906 0 \nL 2906 525 \nQ 2725 213 2448 61 \nQ 2172 -91 1784 -91 \nQ 1150 -91 751 415 \nQ 353 922 353 1747 \nQ 353 2572 751 3078 \nQ 1150 3584 1784 3584 \nQ 2172 3584 2448 3432 \nQ 2725 3281 2906 2969 \nz\nM 947 1747 \nQ 947 1113 1208 752 \nQ 1469 391 1925 391 \nQ 2381 391 2643 752 \nQ 2906 1113 2906 1747 \nQ 2906 2381 2643 2742 \nQ 2381 3103 1925 3103 \nQ 1469 3103 1208 2742 \nQ 947 2381 947 1747 \nz\n\" transform=\"scale(0.015625)\"/>\n        <path id=\"DejaVuSans-65\" d=\"M 3597 1894 \nL 3597 1613 \nL 953 1613 \nQ 991 1019 1311 708 \nQ 1631 397 2203 397 \nQ 2534 397 2845 478 \nQ 3156 559 3463 722 \nL 3463 178 \nQ 3153 47 2828 -22 \nQ 2503 -91 2169 -91 \nQ 1331 -91 842 396 \nQ 353 884 353 1716 \nQ 353 2575 817 3079 \nQ 1281 3584 2069 3584 \nQ 2775 3584 3186 3129 \nQ 3597 2675 3597 1894 \nz\nM 3022 2063 \nQ 3016 2534 2758 2815 \nQ 2500 3097 2075 3097 \nQ 1594 3097 1305 2825 \nQ 1016 2553 972 2059 \nL 3022 2063 \nz\n\" transform=\"scale(0.015625)\"/>\n        <path id=\"DejaVuSans-72\" d=\"M 2631 2963 \nQ 2534 3019 2420 3045 \nQ 2306 3072 2169 3072 \nQ 1681 3072 1420 2755 \nQ 1159 2438 1159 1844 \nL 1159 0 \nL 581 0 \nL 581 3500 \nL 1159 3500 \nL 1159 2956 \nQ 1341 3275 1631 3429 \nQ 1922 3584 2338 3584 \nQ 2397 3584 2469 3576 \nQ 2541 3569 2628 3553 \nL 2631 2963 \nz\n\" transform=\"scale(0.015625)\"/>\n        <path id=\"DejaVuSans-73\" d=\"M 2834 3397 \nL 2834 2853 \nQ 2591 2978 2328 3040 \nQ 2066 3103 1784 3103 \nQ 1356 3103 1142 2972 \nQ 928 2841 928 2578 \nQ 928 2378 1081 2264 \nQ 1234 2150 1697 2047 \nL 1894 2003 \nQ 2506 1872 2764 1633 \nQ 3022 1394 3022 966 \nQ 3022 478 2636 193 \nQ 2250 -91 1575 -91 \nQ 1294 -91 989 -36 \nQ 684 19 347 128 \nL 347 722 \nQ 666 556 975 473 \nQ 1284 391 1588 391 \nQ 1994 391 2212 530 \nQ 2431 669 2431 922 \nQ 2431 1156 2273 1281 \nQ 2116 1406 1581 1522 \nL 1381 1569 \nQ 847 1681 609 1914 \nQ 372 2147 372 2553 \nQ 372 3047 722 3315 \nQ 1072 3584 1716 3584 \nQ 2034 3584 2315 3537 \nQ 2597 3491 2834 3397 \nz\n\" transform=\"scale(0.015625)\"/>\n       </defs>\n       <use xlink:href=\"#DejaVuSans-63\"/>\n       <use xlink:href=\"#DejaVuSans-79\" x=\"54.980469\"/>\n       <use xlink:href=\"#DejaVuSans-6c\" x=\"114.160156\"/>\n       <use xlink:href=\"#DejaVuSans-69\" x=\"141.943359\"/>\n       <use xlink:href=\"#DejaVuSans-6e\" x=\"169.726562\"/>\n       <use xlink:href=\"#DejaVuSans-64\" x=\"233.105469\"/>\n       <use xlink:href=\"#DejaVuSans-65\" x=\"296.582031\"/>\n       <use xlink:href=\"#DejaVuSans-72\" x=\"358.105469\"/>\n       <use xlink:href=\"#DejaVuSans-73\" x=\"399.21875\"/>\n      </g>\n     </g>\n    </g>\n    <g id=\"xtick_3\">\n     <g id=\"line2d_3\">\n      <g>\n       <use xlink:href=\"#m1d3fb409a2\" x=\"151.420982\" y=\"454.519219\" style=\"stroke: #000000; stroke-width: 0.8\"/>\n      </g>\n     </g>\n     <g id=\"text_3\">\n      <!-- displacement -->\n      <g transform=\"translate(154.180357 528.912969) rotate(-90) scale(0.1 -0.1)\">\n       <defs>\n        <path id=\"DejaVuSans-61\" d=\"M 2194 1759 \nQ 1497 1759 1228 1600 \nQ 959 1441 959 1056 \nQ 959 750 1161 570 \nQ 1363 391 1709 391 \nQ 2188 391 2477 730 \nQ 2766 1069 2766 1631 \nL 2766 1759 \nL 2194 1759 \nz\nM 3341 1997 \nL 3341 0 \nL 2766 0 \nL 2766 531 \nQ 2569 213 2275 61 \nQ 1981 -91 1556 -91 \nQ 1019 -91 701 211 \nQ 384 513 384 1019 \nQ 384 1609 779 1909 \nQ 1175 2209 1959 2209 \nL 2766 2209 \nL 2766 2266 \nQ 2766 2663 2505 2880 \nQ 2244 3097 1772 3097 \nQ 1472 3097 1187 3025 \nQ 903 2953 641 2809 \nL 641 3341 \nQ 956 3463 1253 3523 \nQ 1550 3584 1831 3584 \nQ 2591 3584 2966 3190 \nQ 3341 2797 3341 1997 \nz\n\" transform=\"scale(0.015625)\"/>\n        <path id=\"DejaVuSans-74\" d=\"M 1172 4494 \nL 1172 3500 \nL 2356 3500 \nL 2356 3053 \nL 1172 3053 \nL 1172 1153 \nQ 1172 725 1289 603 \nQ 1406 481 1766 481 \nL 2356 481 \nL 2356 0 \nL 1766 0 \nQ 1100 0 847 248 \nQ 594 497 594 1153 \nL 594 3053 \nL 172 3053 \nL 172 3500 \nL 594 3500 \nL 594 4494 \nL 1172 4494 \nz\n\" transform=\"scale(0.015625)\"/>\n       </defs>\n       <use xlink:href=\"#DejaVuSans-64\"/>\n       <use xlink:href=\"#DejaVuSans-69\" x=\"63.476562\"/>\n       <use xlink:href=\"#DejaVuSans-73\" x=\"91.259766\"/>\n       <use xlink:href=\"#DejaVuSans-70\" x=\"143.359375\"/>\n       <use xlink:href=\"#DejaVuSans-6c\" x=\"206.835938\"/>\n       <use xlink:href=\"#DejaVuSans-61\" x=\"234.619141\"/>\n       <use xlink:href=\"#DejaVuSans-63\" x=\"295.898438\"/>\n       <use xlink:href=\"#DejaVuSans-65\" x=\"350.878906\"/>\n       <use xlink:href=\"#DejaVuSans-6d\" x=\"412.402344\"/>\n       <use xlink:href=\"#DejaVuSans-65\" x=\"509.814453\"/>\n       <use xlink:href=\"#DejaVuSans-6e\" x=\"571.337891\"/>\n       <use xlink:href=\"#DejaVuSans-74\" x=\"634.716797\"/>\n      </g>\n     </g>\n    </g>\n    <g id=\"xtick_4\">\n     <g id=\"line2d_4\">\n      <g>\n       <use xlink:href=\"#m1d3fb409a2\" x=\"202.438125\" y=\"454.519219\" style=\"stroke: #000000; stroke-width: 0.8\"/>\n      </g>\n     </g>\n     <g id=\"text_4\">\n      <!-- horsepower -->\n      <g transform=\"translate(205.1975 520.358281) rotate(-90) scale(0.1 -0.1)\">\n       <defs>\n        <path id=\"DejaVuSans-68\" d=\"M 3513 2113 \nL 3513 0 \nL 2938 0 \nL 2938 2094 \nQ 2938 2591 2744 2837 \nQ 2550 3084 2163 3084 \nQ 1697 3084 1428 2787 \nQ 1159 2491 1159 1978 \nL 1159 0 \nL 581 0 \nL 581 4863 \nL 1159 4863 \nL 1159 2956 \nQ 1366 3272 1645 3428 \nQ 1925 3584 2291 3584 \nQ 2894 3584 3203 3211 \nQ 3513 2838 3513 2113 \nz\n\" transform=\"scale(0.015625)\"/>\n        <path id=\"DejaVuSans-6f\" d=\"M 1959 3097 \nQ 1497 3097 1228 2736 \nQ 959 2375 959 1747 \nQ 959 1119 1226 758 \nQ 1494 397 1959 397 \nQ 2419 397 2687 759 \nQ 2956 1122 2956 1747 \nQ 2956 2369 2687 2733 \nQ 2419 3097 1959 3097 \nz\nM 1959 3584 \nQ 2709 3584 3137 3096 \nQ 3566 2609 3566 1747 \nQ 3566 888 3137 398 \nQ 2709 -91 1959 -91 \nQ 1206 -91 779 398 \nQ 353 888 353 1747 \nQ 353 2609 779 3096 \nQ 1206 3584 1959 3584 \nz\n\" transform=\"scale(0.015625)\"/>\n        <path id=\"DejaVuSans-77\" d=\"M 269 3500 \nL 844 3500 \nL 1563 769 \nL 2278 3500 \nL 2956 3500 \nL 3675 769 \nL 4391 3500 \nL 4966 3500 \nL 4050 0 \nL 3372 0 \nL 2619 2869 \nL 1863 0 \nL 1184 0 \nL 269 3500 \nz\n\" transform=\"scale(0.015625)\"/>\n       </defs>\n       <use xlink:href=\"#DejaVuSans-68\"/>\n       <use xlink:href=\"#DejaVuSans-6f\" x=\"63.378906\"/>\n       <use xlink:href=\"#DejaVuSans-72\" x=\"124.560547\"/>\n       <use xlink:href=\"#DejaVuSans-73\" x=\"165.673828\"/>\n       <use xlink:href=\"#DejaVuSans-65\" x=\"217.773438\"/>\n       <use xlink:href=\"#DejaVuSans-70\" x=\"279.296875\"/>\n       <use xlink:href=\"#DejaVuSans-6f\" x=\"342.773438\"/>\n       <use xlink:href=\"#DejaVuSans-77\" x=\"403.955078\"/>\n       <use xlink:href=\"#DejaVuSans-65\" x=\"485.742188\"/>\n       <use xlink:href=\"#DejaVuSans-72\" x=\"547.265625\"/>\n      </g>\n     </g>\n    </g>\n    <g id=\"xtick_5\">\n     <g id=\"line2d_5\">\n      <g>\n       <use xlink:href=\"#m1d3fb409a2\" x=\"253.455268\" y=\"454.519219\" style=\"stroke: #000000; stroke-width: 0.8\"/>\n      </g>\n     </g>\n     <g id=\"text_5\">\n      <!-- weight -->\n      <g transform=\"translate(256.214643 495.234844) rotate(-90) scale(0.1 -0.1)\">\n       <use xlink:href=\"#DejaVuSans-77\"/>\n       <use xlink:href=\"#DejaVuSans-65\" x=\"81.787109\"/>\n       <use xlink:href=\"#DejaVuSans-69\" x=\"143.310547\"/>\n       <use xlink:href=\"#DejaVuSans-67\" x=\"171.09375\"/>\n       <use xlink:href=\"#DejaVuSans-68\" x=\"234.570312\"/>\n       <use xlink:href=\"#DejaVuSans-74\" x=\"297.949219\"/>\n      </g>\n     </g>\n    </g>\n    <g id=\"xtick_6\">\n     <g id=\"line2d_6\">\n      <g>\n       <use xlink:href=\"#m1d3fb409a2\" x=\"304.472411\" y=\"454.519219\" style=\"stroke: #000000; stroke-width: 0.8\"/>\n      </g>\n     </g>\n     <g id=\"text_6\">\n      <!-- acceleration -->\n      <g transform=\"translate(307.231786 523.122344) rotate(-90) scale(0.1 -0.1)\">\n       <use xlink:href=\"#DejaVuSans-61\"/>\n       <use xlink:href=\"#DejaVuSans-63\" x=\"61.279297\"/>\n       <use xlink:href=\"#DejaVuSans-63\" x=\"116.259766\"/>\n       <use xlink:href=\"#DejaVuSans-65\" x=\"171.240234\"/>\n       <use xlink:href=\"#DejaVuSans-6c\" x=\"232.763672\"/>\n       <use xlink:href=\"#DejaVuSans-65\" x=\"260.546875\"/>\n       <use xlink:href=\"#DejaVuSans-72\" x=\"322.070312\"/>\n       <use xlink:href=\"#DejaVuSans-61\" x=\"363.183594\"/>\n       <use xlink:href=\"#DejaVuSans-74\" x=\"424.462891\"/>\n       <use xlink:href=\"#DejaVuSans-69\" x=\"463.671875\"/>\n       <use xlink:href=\"#DejaVuSans-6f\" x=\"491.455078\"/>\n       <use xlink:href=\"#DejaVuSans-6e\" x=\"552.636719\"/>\n      </g>\n     </g>\n    </g>\n    <g id=\"xtick_7\">\n     <g id=\"line2d_7\">\n      <g>\n       <use xlink:href=\"#m1d3fb409a2\" x=\"355.489554\" y=\"454.519219\" style=\"stroke: #000000; stroke-width: 0.8\"/>\n      </g>\n     </g>\n     <g id=\"text_7\">\n      <!-- model-year -->\n      <g transform=\"translate(358.248929 518.402031) rotate(-90) scale(0.1 -0.1)\">\n       <defs>\n        <path id=\"DejaVuSans-2d\" d=\"M 313 2009 \nL 1997 2009 \nL 1997 1497 \nL 313 1497 \nL 313 2009 \nz\n\" transform=\"scale(0.015625)\"/>\n       </defs>\n       <use xlink:href=\"#DejaVuSans-6d\"/>\n       <use xlink:href=\"#DejaVuSans-6f\" x=\"97.412109\"/>\n       <use xlink:href=\"#DejaVuSans-64\" x=\"158.59375\"/>\n       <use xlink:href=\"#DejaVuSans-65\" x=\"222.070312\"/>\n       <use xlink:href=\"#DejaVuSans-6c\" x=\"283.59375\"/>\n       <use xlink:href=\"#DejaVuSans-2d\" x=\"311.376953\"/>\n       <use xlink:href=\"#DejaVuSans-79\" x=\"345.710938\"/>\n       <use xlink:href=\"#DejaVuSans-65\" x=\"404.890625\"/>\n       <use xlink:href=\"#DejaVuSans-61\" x=\"466.414062\"/>\n       <use xlink:href=\"#DejaVuSans-72\" x=\"527.693359\"/>\n      </g>\n     </g>\n    </g>\n   </g>\n   <g id=\"matplotlib.axis_2\">\n    <g id=\"ytick_1\">\n     <g id=\"line2d_8\">\n      <defs>\n       <path id=\"mb36cc48996\" d=\"M 0 0 \nL -3.5 0 \n\" style=\"stroke: #000000; stroke-width: 0.8\"/>\n      </defs>\n      <g>\n       <use xlink:href=\"#mb36cc48996\" x=\"23.878125\" y=\"42.679219\" style=\"stroke: #000000; stroke-width: 0.8\"/>\n      </g>\n     </g>\n     <g id=\"text_8\">\n      <!-- mpg -->\n      <g transform=\"translate(14.798438 53.897969) rotate(-90) scale(0.1 -0.1)\">\n       <use xlink:href=\"#DejaVuSans-6d\"/>\n       <use xlink:href=\"#DejaVuSans-70\" x=\"97.412109\"/>\n       <use xlink:href=\"#DejaVuSans-67\" x=\"160.888672\"/>\n      </g>\n     </g>\n    </g>\n    <g id=\"ytick_2\">\n     <g id=\"line2d_9\">\n      <g>\n       <use xlink:href=\"#mb36cc48996\" x=\"23.878125\" y=\"106.039219\" style=\"stroke: #000000; stroke-width: 0.8\"/>\n      </g>\n     </g>\n     <g id=\"text_9\">\n      <!-- cylinders -->\n      <g transform=\"translate(14.798438 128.605625) rotate(-90) scale(0.1 -0.1)\">\n       <use xlink:href=\"#DejaVuSans-63\"/>\n       <use xlink:href=\"#DejaVuSans-79\" x=\"54.980469\"/>\n       <use xlink:href=\"#DejaVuSans-6c\" x=\"114.160156\"/>\n       <use xlink:href=\"#DejaVuSans-69\" x=\"141.943359\"/>\n       <use xlink:href=\"#DejaVuSans-6e\" x=\"169.726562\"/>\n       <use xlink:href=\"#DejaVuSans-64\" x=\"233.105469\"/>\n       <use xlink:href=\"#DejaVuSans-65\" x=\"296.582031\"/>\n       <use xlink:href=\"#DejaVuSans-72\" x=\"358.105469\"/>\n       <use xlink:href=\"#DejaVuSans-73\" x=\"399.21875\"/>\n      </g>\n     </g>\n    </g>\n    <g id=\"ytick_3\">\n     <g id=\"line2d_10\">\n      <g>\n       <use xlink:href=\"#mb36cc48996\" x=\"23.878125\" y=\"169.399219\" style=\"stroke: #000000; stroke-width: 0.8\"/>\n      </g>\n     </g>\n     <g id=\"text_10\">\n      <!-- displacement -->\n      <g transform=\"translate(14.798438 203.096094) rotate(-90) scale(0.1 -0.1)\">\n       <use xlink:href=\"#DejaVuSans-64\"/>\n       <use xlink:href=\"#DejaVuSans-69\" x=\"63.476562\"/>\n       <use xlink:href=\"#DejaVuSans-73\" x=\"91.259766\"/>\n       <use xlink:href=\"#DejaVuSans-70\" x=\"143.359375\"/>\n       <use xlink:href=\"#DejaVuSans-6c\" x=\"206.835938\"/>\n       <use xlink:href=\"#DejaVuSans-61\" x=\"234.619141\"/>\n       <use xlink:href=\"#DejaVuSans-63\" x=\"295.898438\"/>\n       <use xlink:href=\"#DejaVuSans-65\" x=\"350.878906\"/>\n       <use xlink:href=\"#DejaVuSans-6d\" x=\"412.402344\"/>\n       <use xlink:href=\"#DejaVuSans-65\" x=\"509.814453\"/>\n       <use xlink:href=\"#DejaVuSans-6e\" x=\"571.337891\"/>\n       <use xlink:href=\"#DejaVuSans-74\" x=\"634.716797\"/>\n      </g>\n     </g>\n    </g>\n    <g id=\"ytick_4\">\n     <g id=\"line2d_11\">\n      <g>\n       <use xlink:href=\"#mb36cc48996\" x=\"23.878125\" y=\"232.759219\" style=\"stroke: #000000; stroke-width: 0.8\"/>\n      </g>\n     </g>\n     <g id=\"text_11\">\n      <!-- horsepower -->\n      <g transform=\"translate(14.798438 262.17875) rotate(-90) scale(0.1 -0.1)\">\n       <use xlink:href=\"#DejaVuSans-68\"/>\n       <use xlink:href=\"#DejaVuSans-6f\" x=\"63.378906\"/>\n       <use xlink:href=\"#DejaVuSans-72\" x=\"124.560547\"/>\n       <use xlink:href=\"#DejaVuSans-73\" x=\"165.673828\"/>\n       <use xlink:href=\"#DejaVuSans-65\" x=\"217.773438\"/>\n       <use xlink:href=\"#DejaVuSans-70\" x=\"279.296875\"/>\n       <use xlink:href=\"#DejaVuSans-6f\" x=\"342.773438\"/>\n       <use xlink:href=\"#DejaVuSans-77\" x=\"403.955078\"/>\n       <use xlink:href=\"#DejaVuSans-65\" x=\"485.742188\"/>\n       <use xlink:href=\"#DejaVuSans-72\" x=\"547.265625\"/>\n      </g>\n     </g>\n    </g>\n    <g id=\"ytick_5\">\n     <g id=\"line2d_12\">\n      <g>\n       <use xlink:href=\"#mb36cc48996\" x=\"23.878125\" y=\"296.119219\" style=\"stroke: #000000; stroke-width: 0.8\"/>\n      </g>\n     </g>\n     <g id=\"text_12\">\n      <!-- weight -->\n      <g transform=\"translate(14.798438 312.977031) rotate(-90) scale(0.1 -0.1)\">\n       <use xlink:href=\"#DejaVuSans-77\"/>\n       <use xlink:href=\"#DejaVuSans-65\" x=\"81.787109\"/>\n       <use xlink:href=\"#DejaVuSans-69\" x=\"143.310547\"/>\n       <use xlink:href=\"#DejaVuSans-67\" x=\"171.09375\"/>\n       <use xlink:href=\"#DejaVuSans-68\" x=\"234.570312\"/>\n       <use xlink:href=\"#DejaVuSans-74\" x=\"297.949219\"/>\n      </g>\n     </g>\n    </g>\n    <g id=\"ytick_6\">\n     <g id=\"line2d_13\">\n      <g>\n       <use xlink:href=\"#mb36cc48996\" x=\"23.878125\" y=\"359.479219\" style=\"stroke: #000000; stroke-width: 0.8\"/>\n      </g>\n     </g>\n     <g id=\"text_13\">\n      <!-- acceleration -->\n      <g transform=\"translate(14.798438 390.280781) rotate(-90) scale(0.1 -0.1)\">\n       <use xlink:href=\"#DejaVuSans-61\"/>\n       <use xlink:href=\"#DejaVuSans-63\" x=\"61.279297\"/>\n       <use xlink:href=\"#DejaVuSans-63\" x=\"116.259766\"/>\n       <use xlink:href=\"#DejaVuSans-65\" x=\"171.240234\"/>\n       <use xlink:href=\"#DejaVuSans-6c\" x=\"232.763672\"/>\n       <use xlink:href=\"#DejaVuSans-65\" x=\"260.546875\"/>\n       <use xlink:href=\"#DejaVuSans-72\" x=\"322.070312\"/>\n       <use xlink:href=\"#DejaVuSans-61\" x=\"363.183594\"/>\n       <use xlink:href=\"#DejaVuSans-74\" x=\"424.462891\"/>\n       <use xlink:href=\"#DejaVuSans-69\" x=\"463.671875\"/>\n       <use xlink:href=\"#DejaVuSans-6f\" x=\"491.455078\"/>\n       <use xlink:href=\"#DejaVuSans-6e\" x=\"552.636719\"/>\n      </g>\n     </g>\n    </g>\n    <g id=\"ytick_7\">\n     <g id=\"line2d_14\">\n      <g>\n       <use xlink:href=\"#mb36cc48996\" x=\"23.878125\" y=\"422.839219\" style=\"stroke: #000000; stroke-width: 0.8\"/>\n      </g>\n     </g>\n     <g id=\"text_14\">\n      <!-- model-year -->\n      <g transform=\"translate(14.798438 451.280625) rotate(-90) scale(0.1 -0.1)\">\n       <use xlink:href=\"#DejaVuSans-6d\"/>\n       <use xlink:href=\"#DejaVuSans-6f\" x=\"97.412109\"/>\n       <use xlink:href=\"#DejaVuSans-64\" x=\"158.59375\"/>\n       <use xlink:href=\"#DejaVuSans-65\" x=\"222.070312\"/>\n       <use xlink:href=\"#DejaVuSans-6c\" x=\"283.59375\"/>\n       <use xlink:href=\"#DejaVuSans-2d\" x=\"311.376953\"/>\n       <use xlink:href=\"#DejaVuSans-79\" x=\"345.710938\"/>\n       <use xlink:href=\"#DejaVuSans-65\" x=\"404.890625\"/>\n       <use xlink:href=\"#DejaVuSans-61\" x=\"466.414062\"/>\n       <use xlink:href=\"#DejaVuSans-72\" x=\"527.693359\"/>\n      </g>\n     </g>\n    </g>\n   </g>\n   <g id=\"text_15\">\n    <!-- 1 -->\n    <g style=\"fill: #262626\" transform=\"translate(46.205446 45.438594) scale(0.1 -0.1)\">\n     <defs>\n      <path id=\"DejaVuSans-31\" d=\"M 794 531 \nL 1825 531 \nL 1825 4091 \nL 703 3866 \nL 703 4441 \nL 1819 4666 \nL 2450 4666 \nL 2450 531 \nL 3481 531 \nL 3481 0 \nL 794 0 \nL 794 531 \nz\n\" transform=\"scale(0.015625)\"/>\n     </defs>\n     <use xlink:href=\"#DejaVuSans-31\"/>\n    </g>\n   </g>\n   <g id=\"text_16\">\n    <!-- -0.78 -->\n    <g style=\"fill: #ffffff\" transform=\"translate(87.467121 45.438594) scale(0.1 -0.1)\">\n     <defs>\n      <path id=\"DejaVuSans-30\" d=\"M 2034 4250 \nQ 1547 4250 1301 3770 \nQ 1056 3291 1056 2328 \nQ 1056 1369 1301 889 \nQ 1547 409 2034 409 \nQ 2525 409 2770 889 \nQ 3016 1369 3016 2328 \nQ 3016 3291 2770 3770 \nQ 2525 4250 2034 4250 \nz\nM 2034 4750 \nQ 2819 4750 3233 4129 \nQ 3647 3509 3647 2328 \nQ 3647 1150 3233 529 \nQ 2819 -91 2034 -91 \nQ 1250 -91 836 529 \nQ 422 1150 422 2328 \nQ 422 3509 836 4129 \nQ 1250 4750 2034 4750 \nz\n\" transform=\"scale(0.015625)\"/>\n      <path id=\"DejaVuSans-2e\" d=\"M 684 794 \nL 1344 794 \nL 1344 0 \nL 684 0 \nL 684 794 \nz\n\" transform=\"scale(0.015625)\"/>\n      <path id=\"DejaVuSans-37\" d=\"M 525 4666 \nL 3525 4666 \nL 3525 4397 \nL 1831 0 \nL 1172 0 \nL 2766 4134 \nL 525 4134 \nL 525 4666 \nz\n\" transform=\"scale(0.015625)\"/>\n      <path id=\"DejaVuSans-38\" d=\"M 2034 2216 \nQ 1584 2216 1326 1975 \nQ 1069 1734 1069 1313 \nQ 1069 891 1326 650 \nQ 1584 409 2034 409 \nQ 2484 409 2743 651 \nQ 3003 894 3003 1313 \nQ 3003 1734 2745 1975 \nQ 2488 2216 2034 2216 \nz\nM 1403 2484 \nQ 997 2584 770 2862 \nQ 544 3141 544 3541 \nQ 544 4100 942 4425 \nQ 1341 4750 2034 4750 \nQ 2731 4750 3128 4425 \nQ 3525 4100 3525 3541 \nQ 3525 3141 3298 2862 \nQ 3072 2584 2669 2484 \nQ 3125 2378 3379 2068 \nQ 3634 1759 3634 1313 \nQ 3634 634 3220 271 \nQ 2806 -91 2034 -91 \nQ 1263 -91 848 271 \nQ 434 634 434 1313 \nQ 434 1759 690 2068 \nQ 947 2378 1403 2484 \nz\nM 1172 3481 \nQ 1172 3119 1398 2916 \nQ 1625 2713 2034 2713 \nQ 2441 2713 2670 2916 \nQ 2900 3119 2900 3481 \nQ 2900 3844 2670 4047 \nQ 2441 4250 2034 4250 \nQ 1625 4250 1398 4047 \nQ 1172 3844 1172 3481 \nz\n\" transform=\"scale(0.015625)\"/>\n     </defs>\n     <use xlink:href=\"#DejaVuSans-2d\"/>\n     <use xlink:href=\"#DejaVuSans-30\" x=\"36.083984\"/>\n     <use xlink:href=\"#DejaVuSans-2e\" x=\"99.707031\"/>\n     <use xlink:href=\"#DejaVuSans-37\" x=\"131.494141\"/>\n     <use xlink:href=\"#DejaVuSans-38\" x=\"195.117188\"/>\n    </g>\n   </g>\n   <g id=\"text_17\">\n    <!-- -0.8 -->\n    <g style=\"fill: #ffffff\" transform=\"translate(141.665513 45.438594) scale(0.1 -0.1)\">\n     <use xlink:href=\"#DejaVuSans-2d\"/>\n     <use xlink:href=\"#DejaVuSans-30\" x=\"36.083984\"/>\n     <use xlink:href=\"#DejaVuSans-2e\" x=\"99.707031\"/>\n     <use xlink:href=\"#DejaVuSans-38\" x=\"131.494141\"/>\n    </g>\n   </g>\n   <g id=\"text_18\">\n    <!-- -0.78 -->\n    <g style=\"fill: #ffffff\" transform=\"translate(189.501406 45.438594) scale(0.1 -0.1)\">\n     <use xlink:href=\"#DejaVuSans-2d\"/>\n     <use xlink:href=\"#DejaVuSans-30\" x=\"36.083984\"/>\n     <use xlink:href=\"#DejaVuSans-2e\" x=\"99.707031\"/>\n     <use xlink:href=\"#DejaVuSans-37\" x=\"131.494141\"/>\n     <use xlink:href=\"#DejaVuSans-38\" x=\"195.117188\"/>\n    </g>\n   </g>\n   <g id=\"text_19\">\n    <!-- -0.83 -->\n    <g style=\"fill: #ffffff\" transform=\"translate(240.518549 45.438594) scale(0.1 -0.1)\">\n     <defs>\n      <path id=\"DejaVuSans-33\" d=\"M 2597 2516 \nQ 3050 2419 3304 2112 \nQ 3559 1806 3559 1356 \nQ 3559 666 3084 287 \nQ 2609 -91 1734 -91 \nQ 1441 -91 1130 -33 \nQ 819 25 488 141 \nL 488 750 \nQ 750 597 1062 519 \nQ 1375 441 1716 441 \nQ 2309 441 2620 675 \nQ 2931 909 2931 1356 \nQ 2931 1769 2642 2001 \nQ 2353 2234 1838 2234 \nL 1294 2234 \nL 1294 2753 \nL 1863 2753 \nQ 2328 2753 2575 2939 \nQ 2822 3125 2822 3475 \nQ 2822 3834 2567 4026 \nQ 2313 4219 1838 4219 \nQ 1578 4219 1281 4162 \nQ 984 4106 628 3988 \nL 628 4550 \nQ 988 4650 1302 4700 \nQ 1616 4750 1894 4750 \nQ 2613 4750 3031 4423 \nQ 3450 4097 3450 3541 \nQ 3450 3153 3228 2886 \nQ 3006 2619 2597 2516 \nz\n\" transform=\"scale(0.015625)\"/>\n     </defs>\n     <use xlink:href=\"#DejaVuSans-2d\"/>\n     <use xlink:href=\"#DejaVuSans-30\" x=\"36.083984\"/>\n     <use xlink:href=\"#DejaVuSans-2e\" x=\"99.707031\"/>\n     <use xlink:href=\"#DejaVuSans-38\" x=\"131.494141\"/>\n     <use xlink:href=\"#DejaVuSans-33\" x=\"195.117188\"/>\n    </g>\n   </g>\n   <g id=\"text_20\">\n    <!-- 0.42 -->\n    <g style=\"fill: #ffffff\" transform=\"translate(293.339598 45.438594) scale(0.1 -0.1)\">\n     <defs>\n      <path id=\"DejaVuSans-34\" d=\"M 2419 4116 \nL 825 1625 \nL 2419 1625 \nL 2419 4116 \nz\nM 2253 4666 \nL 3047 4666 \nL 3047 1625 \nL 3713 1625 \nL 3713 1100 \nL 3047 1100 \nL 3047 0 \nL 2419 0 \nL 2419 1100 \nL 313 1100 \nL 313 1709 \nL 2253 4666 \nz\n\" transform=\"scale(0.015625)\"/>\n      <path id=\"DejaVuSans-32\" d=\"M 1228 531 \nL 3431 531 \nL 3431 0 \nL 469 0 \nL 469 531 \nQ 828 903 1448 1529 \nQ 2069 2156 2228 2338 \nQ 2531 2678 2651 2914 \nQ 2772 3150 2772 3378 \nQ 2772 3750 2511 3984 \nQ 2250 4219 1831 4219 \nQ 1534 4219 1204 4116 \nQ 875 4013 500 3803 \nL 500 4441 \nQ 881 4594 1212 4672 \nQ 1544 4750 1819 4750 \nQ 2544 4750 2975 4387 \nQ 3406 4025 3406 3419 \nQ 3406 3131 3298 2873 \nQ 3191 2616 2906 2266 \nQ 2828 2175 2409 1742 \nQ 1991 1309 1228 531 \nz\n\" transform=\"scale(0.015625)\"/>\n     </defs>\n     <use xlink:href=\"#DejaVuSans-30\"/>\n     <use xlink:href=\"#DejaVuSans-2e\" x=\"63.623047\"/>\n     <use xlink:href=\"#DejaVuSans-34\" x=\"95.410156\"/>\n     <use xlink:href=\"#DejaVuSans-32\" x=\"159.033203\"/>\n    </g>\n   </g>\n   <g id=\"text_21\">\n    <!-- 0.58 -->\n    <g style=\"fill: #ffffff\" transform=\"translate(344.356741 45.438594) scale(0.1 -0.1)\">\n     <defs>\n      <path id=\"DejaVuSans-35\" d=\"M 691 4666 \nL 3169 4666 \nL 3169 4134 \nL 1269 4134 \nL 1269 2991 \nQ 1406 3038 1543 3061 \nQ 1681 3084 1819 3084 \nQ 2600 3084 3056 2656 \nQ 3513 2228 3513 1497 \nQ 3513 744 3044 326 \nQ 2575 -91 1722 -91 \nQ 1428 -91 1123 -41 \nQ 819 9 494 109 \nL 494 744 \nQ 775 591 1075 516 \nQ 1375 441 1709 441 \nQ 2250 441 2565 725 \nQ 2881 1009 2881 1497 \nQ 2881 1984 2565 2268 \nQ 2250 2553 1709 2553 \nQ 1456 2553 1204 2497 \nQ 953 2441 691 2322 \nL 691 4666 \nz\n\" transform=\"scale(0.015625)\"/>\n     </defs>\n     <use xlink:href=\"#DejaVuSans-30\"/>\n     <use xlink:href=\"#DejaVuSans-2e\" x=\"63.623047\"/>\n     <use xlink:href=\"#DejaVuSans-35\" x=\"95.410156\"/>\n     <use xlink:href=\"#DejaVuSans-38\" x=\"159.033203\"/>\n    </g>\n   </g>\n   <g id=\"text_22\">\n    <!-- -0.78 -->\n    <g style=\"fill: #ffffff\" transform=\"translate(36.449978 108.798594) scale(0.1 -0.1)\">\n     <use xlink:href=\"#DejaVuSans-2d\"/>\n     <use xlink:href=\"#DejaVuSans-30\" x=\"36.083984\"/>\n     <use xlink:href=\"#DejaVuSans-2e\" x=\"99.707031\"/>\n     <use xlink:href=\"#DejaVuSans-37\" x=\"131.494141\"/>\n     <use xlink:href=\"#DejaVuSans-38\" x=\"195.117188\"/>\n    </g>\n   </g>\n   <g id=\"text_23\">\n    <!-- 1 -->\n    <g style=\"fill: #262626\" transform=\"translate(97.222589 108.798594) scale(0.1 -0.1)\">\n     <use xlink:href=\"#DejaVuSans-31\"/>\n    </g>\n   </g>\n   <g id=\"text_24\">\n    <!-- 0.95 -->\n    <g style=\"fill: #262626\" transform=\"translate(140.28817 108.798594) scale(0.1 -0.1)\">\n     <defs>\n      <path id=\"DejaVuSans-39\" d=\"M 703 97 \nL 703 672 \nQ 941 559 1184 500 \nQ 1428 441 1663 441 \nQ 2288 441 2617 861 \nQ 2947 1281 2994 2138 \nQ 2813 1869 2534 1725 \nQ 2256 1581 1919 1581 \nQ 1219 1581 811 2004 \nQ 403 2428 403 3163 \nQ 403 3881 828 4315 \nQ 1253 4750 1959 4750 \nQ 2769 4750 3195 4129 \nQ 3622 3509 3622 2328 \nQ 3622 1225 3098 567 \nQ 2575 -91 1691 -91 \nQ 1453 -91 1209 -44 \nQ 966 3 703 97 \nz\nM 1959 2075 \nQ 2384 2075 2632 2365 \nQ 2881 2656 2881 3163 \nQ 2881 3666 2632 3958 \nQ 2384 4250 1959 4250 \nQ 1534 4250 1286 3958 \nQ 1038 3666 1038 3163 \nQ 1038 2656 1286 2365 \nQ 1534 2075 1959 2075 \nz\n\" transform=\"scale(0.015625)\"/>\n     </defs>\n     <use xlink:href=\"#DejaVuSans-30\"/>\n     <use xlink:href=\"#DejaVuSans-2e\" x=\"63.623047\"/>\n     <use xlink:href=\"#DejaVuSans-39\" x=\"95.410156\"/>\n     <use xlink:href=\"#DejaVuSans-35\" x=\"159.033203\"/>\n    </g>\n   </g>\n   <g id=\"text_25\">\n    <!-- 0.84 -->\n    <g style=\"fill: #262626\" transform=\"translate(191.305313 108.798594) scale(0.1 -0.1)\">\n     <use xlink:href=\"#DejaVuSans-30\"/>\n     <use xlink:href=\"#DejaVuSans-2e\" x=\"63.623047\"/>\n     <use xlink:href=\"#DejaVuSans-38\" x=\"95.410156\"/>\n     <use xlink:href=\"#DejaVuSans-34\" x=\"159.033203\"/>\n    </g>\n   </g>\n   <g id=\"text_26\">\n    <!-- 0.9 -->\n    <g style=\"fill: #262626\" transform=\"translate(245.503705 108.798594) scale(0.1 -0.1)\">\n     <use xlink:href=\"#DejaVuSans-30\"/>\n     <use xlink:href=\"#DejaVuSans-2e\" x=\"63.623047\"/>\n     <use xlink:href=\"#DejaVuSans-39\" x=\"95.410156\"/>\n    </g>\n   </g>\n   <g id=\"text_27\">\n    <!-- -0.51 -->\n    <g style=\"fill: #ffffff\" transform=\"translate(291.535692 108.798594) scale(0.1 -0.1)\">\n     <use xlink:href=\"#DejaVuSans-2d\"/>\n     <use xlink:href=\"#DejaVuSans-30\" x=\"36.083984\"/>\n     <use xlink:href=\"#DejaVuSans-2e\" x=\"99.707031\"/>\n     <use xlink:href=\"#DejaVuSans-35\" x=\"131.494141\"/>\n     <use xlink:href=\"#DejaVuSans-31\" x=\"195.117188\"/>\n    </g>\n   </g>\n   <g id=\"text_28\">\n    <!-- -0.35 -->\n    <g style=\"fill: #ffffff\" transform=\"translate(342.552835 108.798594) scale(0.1 -0.1)\">\n     <use xlink:href=\"#DejaVuSans-2d\"/>\n     <use xlink:href=\"#DejaVuSans-30\" x=\"36.083984\"/>\n     <use xlink:href=\"#DejaVuSans-2e\" x=\"99.707031\"/>\n     <use xlink:href=\"#DejaVuSans-33\" x=\"131.494141\"/>\n     <use xlink:href=\"#DejaVuSans-35\" x=\"195.117188\"/>\n    </g>\n   </g>\n   <g id=\"text_29\">\n    <!-- -0.8 -->\n    <g style=\"fill: #ffffff\" transform=\"translate(39.631228 172.158594) scale(0.1 -0.1)\">\n     <use xlink:href=\"#DejaVuSans-2d\"/>\n     <use xlink:href=\"#DejaVuSans-30\" x=\"36.083984\"/>\n     <use xlink:href=\"#DejaVuSans-2e\" x=\"99.707031\"/>\n     <use xlink:href=\"#DejaVuSans-38\" x=\"131.494141\"/>\n    </g>\n   </g>\n   <g id=\"text_30\">\n    <!-- 0.95 -->\n    <g style=\"fill: #262626\" transform=\"translate(89.271027 172.158594) scale(0.1 -0.1)\">\n     <use xlink:href=\"#DejaVuSans-30\"/>\n     <use xlink:href=\"#DejaVuSans-2e\" x=\"63.623047\"/>\n     <use xlink:href=\"#DejaVuSans-39\" x=\"95.410156\"/>\n     <use xlink:href=\"#DejaVuSans-35\" x=\"159.033203\"/>\n    </g>\n   </g>\n   <g id=\"text_31\">\n    <!-- 1 -->\n    <g style=\"fill: #262626\" transform=\"translate(148.239732 172.158594) scale(0.1 -0.1)\">\n     <use xlink:href=\"#DejaVuSans-31\"/>\n    </g>\n   </g>\n   <g id=\"text_32\">\n    <!-- 0.9 -->\n    <g style=\"fill: #262626\" transform=\"translate(194.486563 172.158594) scale(0.1 -0.1)\">\n     <use xlink:href=\"#DejaVuSans-30\"/>\n     <use xlink:href=\"#DejaVuSans-2e\" x=\"63.623047\"/>\n     <use xlink:href=\"#DejaVuSans-39\" x=\"95.410156\"/>\n    </g>\n   </g>\n   <g id=\"text_33\">\n    <!-- 0.93 -->\n    <g style=\"fill: #262626\" transform=\"translate(242.322455 172.158594) scale(0.1 -0.1)\">\n     <use xlink:href=\"#DejaVuSans-30\"/>\n     <use xlink:href=\"#DejaVuSans-2e\" x=\"63.623047\"/>\n     <use xlink:href=\"#DejaVuSans-39\" x=\"95.410156\"/>\n     <use xlink:href=\"#DejaVuSans-33\" x=\"159.033203\"/>\n    </g>\n   </g>\n   <g id=\"text_34\">\n    <!-- -0.54 -->\n    <g style=\"fill: #ffffff\" transform=\"translate(291.535692 172.158594) scale(0.1 -0.1)\">\n     <use xlink:href=\"#DejaVuSans-2d\"/>\n     <use xlink:href=\"#DejaVuSans-30\" x=\"36.083984\"/>\n     <use xlink:href=\"#DejaVuSans-2e\" x=\"99.707031\"/>\n     <use xlink:href=\"#DejaVuSans-35\" x=\"131.494141\"/>\n     <use xlink:href=\"#DejaVuSans-34\" x=\"195.117188\"/>\n    </g>\n   </g>\n   <g id=\"text_35\">\n    <!-- -0.37 -->\n    <g style=\"fill: #ffffff\" transform=\"translate(342.552835 172.158594) scale(0.1 -0.1)\">\n     <use xlink:href=\"#DejaVuSans-2d\"/>\n     <use xlink:href=\"#DejaVuSans-30\" x=\"36.083984\"/>\n     <use xlink:href=\"#DejaVuSans-2e\" x=\"99.707031\"/>\n     <use xlink:href=\"#DejaVuSans-33\" x=\"131.494141\"/>\n     <use xlink:href=\"#DejaVuSans-37\" x=\"195.117188\"/>\n    </g>\n   </g>\n   <g id=\"text_36\">\n    <!-- -0.78 -->\n    <g style=\"fill: #ffffff\" transform=\"translate(36.449978 235.518594) scale(0.1 -0.1)\">\n     <use xlink:href=\"#DejaVuSans-2d\"/>\n     <use xlink:href=\"#DejaVuSans-30\" x=\"36.083984\"/>\n     <use xlink:href=\"#DejaVuSans-2e\" x=\"99.707031\"/>\n     <use xlink:href=\"#DejaVuSans-37\" x=\"131.494141\"/>\n     <use xlink:href=\"#DejaVuSans-38\" x=\"195.117188\"/>\n    </g>\n   </g>\n   <g id=\"text_37\">\n    <!-- 0.84 -->\n    <g style=\"fill: #262626\" transform=\"translate(89.271027 235.518594) scale(0.1 -0.1)\">\n     <use xlink:href=\"#DejaVuSans-30\"/>\n     <use xlink:href=\"#DejaVuSans-2e\" x=\"63.623047\"/>\n     <use xlink:href=\"#DejaVuSans-38\" x=\"95.410156\"/>\n     <use xlink:href=\"#DejaVuSans-34\" x=\"159.033203\"/>\n    </g>\n   </g>\n   <g id=\"text_38\">\n    <!-- 0.9 -->\n    <g style=\"fill: #262626\" transform=\"translate(143.46942 235.518594) scale(0.1 -0.1)\">\n     <use xlink:href=\"#DejaVuSans-30\"/>\n     <use xlink:href=\"#DejaVuSans-2e\" x=\"63.623047\"/>\n     <use xlink:href=\"#DejaVuSans-39\" x=\"95.410156\"/>\n    </g>\n   </g>\n   <g id=\"text_39\">\n    <!-- 1 -->\n    <g style=\"fill: #262626\" transform=\"translate(199.256875 235.518594) scale(0.1 -0.1)\">\n     <use xlink:href=\"#DejaVuSans-31\"/>\n    </g>\n   </g>\n   <g id=\"text_40\">\n    <!-- 0.86 -->\n    <g style=\"fill: #262626\" transform=\"translate(242.322455 235.518594) scale(0.1 -0.1)\">\n     <defs>\n      <path id=\"DejaVuSans-36\" d=\"M 2113 2584 \nQ 1688 2584 1439 2293 \nQ 1191 2003 1191 1497 \nQ 1191 994 1439 701 \nQ 1688 409 2113 409 \nQ 2538 409 2786 701 \nQ 3034 994 3034 1497 \nQ 3034 2003 2786 2293 \nQ 2538 2584 2113 2584 \nz\nM 3366 4563 \nL 3366 3988 \nQ 3128 4100 2886 4159 \nQ 2644 4219 2406 4219 \nQ 1781 4219 1451 3797 \nQ 1122 3375 1075 2522 \nQ 1259 2794 1537 2939 \nQ 1816 3084 2150 3084 \nQ 2853 3084 3261 2657 \nQ 3669 2231 3669 1497 \nQ 3669 778 3244 343 \nQ 2819 -91 2113 -91 \nQ 1303 -91 875 529 \nQ 447 1150 447 2328 \nQ 447 3434 972 4092 \nQ 1497 4750 2381 4750 \nQ 2619 4750 2861 4703 \nQ 3103 4656 3366 4563 \nz\n\" transform=\"scale(0.015625)\"/>\n     </defs>\n     <use xlink:href=\"#DejaVuSans-30\"/>\n     <use xlink:href=\"#DejaVuSans-2e\" x=\"63.623047\"/>\n     <use xlink:href=\"#DejaVuSans-38\" x=\"95.410156\"/>\n     <use xlink:href=\"#DejaVuSans-36\" x=\"159.033203\"/>\n    </g>\n   </g>\n   <g id=\"text_41\">\n    <!-- -0.69 -->\n    <g style=\"fill: #ffffff\" transform=\"translate(291.535692 235.518594) scale(0.1 -0.1)\">\n     <use xlink:href=\"#DejaVuSans-2d\"/>\n     <use xlink:href=\"#DejaVuSans-30\" x=\"36.083984\"/>\n     <use xlink:href=\"#DejaVuSans-2e\" x=\"99.707031\"/>\n     <use xlink:href=\"#DejaVuSans-36\" x=\"131.494141\"/>\n     <use xlink:href=\"#DejaVuSans-39\" x=\"195.117188\"/>\n    </g>\n   </g>\n   <g id=\"text_42\">\n    <!-- -0.42 -->\n    <g style=\"fill: #ffffff\" transform=\"translate(342.552835 235.518594) scale(0.1 -0.1)\">\n     <use xlink:href=\"#DejaVuSans-2d\"/>\n     <use xlink:href=\"#DejaVuSans-30\" x=\"36.083984\"/>\n     <use xlink:href=\"#DejaVuSans-2e\" x=\"99.707031\"/>\n     <use xlink:href=\"#DejaVuSans-34\" x=\"131.494141\"/>\n     <use xlink:href=\"#DejaVuSans-32\" x=\"195.117188\"/>\n    </g>\n   </g>\n   <g id=\"text_43\">\n    <!-- -0.83 -->\n    <g style=\"fill: #ffffff\" transform=\"translate(36.449978 298.878594) scale(0.1 -0.1)\">\n     <use xlink:href=\"#DejaVuSans-2d\"/>\n     <use xlink:href=\"#DejaVuSans-30\" x=\"36.083984\"/>\n     <use xlink:href=\"#DejaVuSans-2e\" x=\"99.707031\"/>\n     <use xlink:href=\"#DejaVuSans-38\" x=\"131.494141\"/>\n     <use xlink:href=\"#DejaVuSans-33\" x=\"195.117188\"/>\n    </g>\n   </g>\n   <g id=\"text_44\">\n    <!-- 0.9 -->\n    <g style=\"fill: #262626\" transform=\"translate(92.452277 298.878594) scale(0.1 -0.1)\">\n     <use xlink:href=\"#DejaVuSans-30\"/>\n     <use xlink:href=\"#DejaVuSans-2e\" x=\"63.623047\"/>\n     <use xlink:href=\"#DejaVuSans-39\" x=\"95.410156\"/>\n    </g>\n   </g>\n   <g id=\"text_45\">\n    <!-- 0.93 -->\n    <g style=\"fill: #262626\" transform=\"translate(140.28817 298.878594) scale(0.1 -0.1)\">\n     <use xlink:href=\"#DejaVuSans-30\"/>\n     <use xlink:href=\"#DejaVuSans-2e\" x=\"63.623047\"/>\n     <use xlink:href=\"#DejaVuSans-39\" x=\"95.410156\"/>\n     <use xlink:href=\"#DejaVuSans-33\" x=\"159.033203\"/>\n    </g>\n   </g>\n   <g id=\"text_46\">\n    <!-- 0.86 -->\n    <g style=\"fill: #262626\" transform=\"translate(191.305313 298.878594) scale(0.1 -0.1)\">\n     <use xlink:href=\"#DejaVuSans-30\"/>\n     <use xlink:href=\"#DejaVuSans-2e\" x=\"63.623047\"/>\n     <use xlink:href=\"#DejaVuSans-38\" x=\"95.410156\"/>\n     <use xlink:href=\"#DejaVuSans-36\" x=\"159.033203\"/>\n    </g>\n   </g>\n   <g id=\"text_47\">\n    <!-- 1 -->\n    <g style=\"fill: #262626\" transform=\"translate(250.274018 298.878594) scale(0.1 -0.1)\">\n     <use xlink:href=\"#DejaVuSans-31\"/>\n    </g>\n   </g>\n   <g id=\"text_48\">\n    <!-- -0.42 -->\n    <g style=\"fill: #ffffff\" transform=\"translate(291.535692 298.878594) scale(0.1 -0.1)\">\n     <use xlink:href=\"#DejaVuSans-2d\"/>\n     <use xlink:href=\"#DejaVuSans-30\" x=\"36.083984\"/>\n     <use xlink:href=\"#DejaVuSans-2e\" x=\"99.707031\"/>\n     <use xlink:href=\"#DejaVuSans-34\" x=\"131.494141\"/>\n     <use xlink:href=\"#DejaVuSans-32\" x=\"195.117188\"/>\n    </g>\n   </g>\n   <g id=\"text_49\">\n    <!-- -0.31 -->\n    <g style=\"fill: #ffffff\" transform=\"translate(342.552835 298.878594) scale(0.1 -0.1)\">\n     <use xlink:href=\"#DejaVuSans-2d\"/>\n     <use xlink:href=\"#DejaVuSans-30\" x=\"36.083984\"/>\n     <use xlink:href=\"#DejaVuSans-2e\" x=\"99.707031\"/>\n     <use xlink:href=\"#DejaVuSans-33\" x=\"131.494141\"/>\n     <use xlink:href=\"#DejaVuSans-31\" x=\"195.117188\"/>\n    </g>\n   </g>\n   <g id=\"text_50\">\n    <!-- 0.42 -->\n    <g style=\"fill: #ffffff\" transform=\"translate(38.253884 362.238594) scale(0.1 -0.1)\">\n     <use xlink:href=\"#DejaVuSans-30\"/>\n     <use xlink:href=\"#DejaVuSans-2e\" x=\"63.623047\"/>\n     <use xlink:href=\"#DejaVuSans-34\" x=\"95.410156\"/>\n     <use xlink:href=\"#DejaVuSans-32\" x=\"159.033203\"/>\n    </g>\n   </g>\n   <g id=\"text_51\">\n    <!-- -0.51 -->\n    <g style=\"fill: #ffffff\" transform=\"translate(87.467121 362.238594) scale(0.1 -0.1)\">\n     <use xlink:href=\"#DejaVuSans-2d\"/>\n     <use xlink:href=\"#DejaVuSans-30\" x=\"36.083984\"/>\n     <use xlink:href=\"#DejaVuSans-2e\" x=\"99.707031\"/>\n     <use xlink:href=\"#DejaVuSans-35\" x=\"131.494141\"/>\n     <use xlink:href=\"#DejaVuSans-31\" x=\"195.117188\"/>\n    </g>\n   </g>\n   <g id=\"text_52\">\n    <!-- -0.54 -->\n    <g style=\"fill: #ffffff\" transform=\"translate(138.484263 362.238594) scale(0.1 -0.1)\">\n     <use xlink:href=\"#DejaVuSans-2d\"/>\n     <use xlink:href=\"#DejaVuSans-30\" x=\"36.083984\"/>\n     <use xlink:href=\"#DejaVuSans-2e\" x=\"99.707031\"/>\n     <use xlink:href=\"#DejaVuSans-35\" x=\"131.494141\"/>\n     <use xlink:href=\"#DejaVuSans-34\" x=\"195.117188\"/>\n    </g>\n   </g>\n   <g id=\"text_53\">\n    <!-- -0.69 -->\n    <g style=\"fill: #ffffff\" transform=\"translate(189.501406 362.238594) scale(0.1 -0.1)\">\n     <use xlink:href=\"#DejaVuSans-2d\"/>\n     <use xlink:href=\"#DejaVuSans-30\" x=\"36.083984\"/>\n     <use xlink:href=\"#DejaVuSans-2e\" x=\"99.707031\"/>\n     <use xlink:href=\"#DejaVuSans-36\" x=\"131.494141\"/>\n     <use xlink:href=\"#DejaVuSans-39\" x=\"195.117188\"/>\n    </g>\n   </g>\n   <g id=\"text_54\">\n    <!-- -0.42 -->\n    <g style=\"fill: #ffffff\" transform=\"translate(240.518549 362.238594) scale(0.1 -0.1)\">\n     <use xlink:href=\"#DejaVuSans-2d\"/>\n     <use xlink:href=\"#DejaVuSans-30\" x=\"36.083984\"/>\n     <use xlink:href=\"#DejaVuSans-2e\" x=\"99.707031\"/>\n     <use xlink:href=\"#DejaVuSans-34\" x=\"131.494141\"/>\n     <use xlink:href=\"#DejaVuSans-32\" x=\"195.117188\"/>\n    </g>\n   </g>\n   <g id=\"text_55\">\n    <!-- 1 -->\n    <g style=\"fill: #262626\" transform=\"translate(301.291161 362.238594) scale(0.1 -0.1)\">\n     <use xlink:href=\"#DejaVuSans-31\"/>\n    </g>\n   </g>\n   <g id=\"text_56\">\n    <!-- 0.29 -->\n    <g style=\"fill: #ffffff\" transform=\"translate(344.356741 362.238594) scale(0.1 -0.1)\">\n     <use xlink:href=\"#DejaVuSans-30\"/>\n     <use xlink:href=\"#DejaVuSans-2e\" x=\"63.623047\"/>\n     <use xlink:href=\"#DejaVuSans-32\" x=\"95.410156\"/>\n     <use xlink:href=\"#DejaVuSans-39\" x=\"159.033203\"/>\n    </g>\n   </g>\n   <g id=\"text_57\">\n    <!-- 0.58 -->\n    <g style=\"fill: #ffffff\" transform=\"translate(38.253884 425.598594) scale(0.1 -0.1)\">\n     <use xlink:href=\"#DejaVuSans-30\"/>\n     <use xlink:href=\"#DejaVuSans-2e\" x=\"63.623047\"/>\n     <use xlink:href=\"#DejaVuSans-35\" x=\"95.410156\"/>\n     <use xlink:href=\"#DejaVuSans-38\" x=\"159.033203\"/>\n    </g>\n   </g>\n   <g id=\"text_58\">\n    <!-- -0.35 -->\n    <g style=\"fill: #ffffff\" transform=\"translate(87.467121 425.598594) scale(0.1 -0.1)\">\n     <use xlink:href=\"#DejaVuSans-2d\"/>\n     <use xlink:href=\"#DejaVuSans-30\" x=\"36.083984\"/>\n     <use xlink:href=\"#DejaVuSans-2e\" x=\"99.707031\"/>\n     <use xlink:href=\"#DejaVuSans-33\" x=\"131.494141\"/>\n     <use xlink:href=\"#DejaVuSans-35\" x=\"195.117188\"/>\n    </g>\n   </g>\n   <g id=\"text_59\">\n    <!-- -0.37 -->\n    <g style=\"fill: #ffffff\" transform=\"translate(138.484263 425.598594) scale(0.1 -0.1)\">\n     <use xlink:href=\"#DejaVuSans-2d\"/>\n     <use xlink:href=\"#DejaVuSans-30\" x=\"36.083984\"/>\n     <use xlink:href=\"#DejaVuSans-2e\" x=\"99.707031\"/>\n     <use xlink:href=\"#DejaVuSans-33\" x=\"131.494141\"/>\n     <use xlink:href=\"#DejaVuSans-37\" x=\"195.117188\"/>\n    </g>\n   </g>\n   <g id=\"text_60\">\n    <!-- -0.42 -->\n    <g style=\"fill: #ffffff\" transform=\"translate(189.501406 425.598594) scale(0.1 -0.1)\">\n     <use xlink:href=\"#DejaVuSans-2d\"/>\n     <use xlink:href=\"#DejaVuSans-30\" x=\"36.083984\"/>\n     <use xlink:href=\"#DejaVuSans-2e\" x=\"99.707031\"/>\n     <use xlink:href=\"#DejaVuSans-34\" x=\"131.494141\"/>\n     <use xlink:href=\"#DejaVuSans-32\" x=\"195.117188\"/>\n    </g>\n   </g>\n   <g id=\"text_61\">\n    <!-- -0.31 -->\n    <g style=\"fill: #ffffff\" transform=\"translate(240.518549 425.598594) scale(0.1 -0.1)\">\n     <use xlink:href=\"#DejaVuSans-2d\"/>\n     <use xlink:href=\"#DejaVuSans-30\" x=\"36.083984\"/>\n     <use xlink:href=\"#DejaVuSans-2e\" x=\"99.707031\"/>\n     <use xlink:href=\"#DejaVuSans-33\" x=\"131.494141\"/>\n     <use xlink:href=\"#DejaVuSans-31\" x=\"195.117188\"/>\n    </g>\n   </g>\n   <g id=\"text_62\">\n    <!-- 0.29 -->\n    <g style=\"fill: #ffffff\" transform=\"translate(293.339598 425.598594) scale(0.1 -0.1)\">\n     <use xlink:href=\"#DejaVuSans-30\"/>\n     <use xlink:href=\"#DejaVuSans-2e\" x=\"63.623047\"/>\n     <use xlink:href=\"#DejaVuSans-32\" x=\"95.410156\"/>\n     <use xlink:href=\"#DejaVuSans-39\" x=\"159.033203\"/>\n    </g>\n   </g>\n   <g id=\"text_63\">\n    <!-- 1 -->\n    <g style=\"fill: #262626\" transform=\"translate(352.308304 425.598594) scale(0.1 -0.1)\">\n     <use xlink:href=\"#DejaVuSans-31\"/>\n    </g>\n   </g>\n  </g>\n  <g id=\"axes_2\">\n   <g id=\"patch_3\">\n    <path d=\"M 403.318125 454.519219 \nL 425.494125 454.519219 \nL 425.494125 10.999219 \nL 403.318125 10.999219 \nz\n\" style=\"fill: #ffffff\"/>\n   </g>\n   <image xlink:href=\"data:image/png;base64,\niVBORw0KGgoAAAANSUhEUgAAAB8AAAJoCAYAAACeFjppAAAC5UlEQVR4nO2d27XDIBDEWLxpIv33mXRhfUhqYA+gGZP4Pub5fH8H4lKD8eE74HB45cOt3Sycddt3jnbl1jNnt/1at90btYRD8Dbc3qIGYBbOuvKEQ/A2nPfMu70i1O0I3pzX7QjiqJmF4+aLhesyQdCZ+4YnHELCISScb3jCIfSJxTfc+/k84RDEwtXtBEUNIeF8w73bLv75du1nNVo46bZ7S6bLBIJXOG/J0MJxVDK+4TUcAn3mHEUNoW73DffmXN3t0pXT285R1HzDvTn3ft/el/0IdTuCOWrg8ITzDRcL1zWKQB01q3DakqFznnDvQ585hzhqdTuBWDhtzosaQlFDoIWTRg3edux/FeArB4dXMr7hYuHqdgJvzs1Rsz7PixqCN2ptO0INh1DDIbRy3/Ada8MlHIJ3272XCe/zvKgheKNWzhH2Hs64ouYbLu52bcnQOdc2HDi8qPmGd5lAEAs3XuHA4a3cN7yoISQcAi2cduXgxb2oIdBR4zALB769pxtOunK64TgSDsFbMgmHsOBf5TMLp815UUMoaghFzTd8B3yxRkeNG96Z+4bX7Qhm4cDxRQ2hbkfoMoFgFs667UUNQR01bjgdtYR7H7Nw1obznjm77cfacAmH4N1278rhhrNuu1c475knHELCIeyAv86RcAjeM084hD0JB+DNeVFDKGoICecb7t32HfDtfWfuG+7d9j2Xm59wCF2jELxnTr+8lzZcwiF4t33HepnwnnndjpBwCN6PSwmHUMMhdI3yDRcLpy2ZhEMwX6Osr7YSDsG7cnrbpTn3XiaKGoL5jaI1auUcwbzy7u0AauGkK084BPPK63YAs3DWldM5l267VzjvmSccQsIhmIWzrrycI3iF8555wiEkHIJYuJkHG96Z+4Z7t71uR0g4BPrMpU+1hEPwlkzCIXRvRyhqCAnnG64WTtvt1jOnhZNu+07CAYiF0zac96mWcAjekumRipBwCOqGkz5S/w3gMI9i6kteAAAAAElFTkSuQmCC\" id=\"image41ed5fef1a\" transform=\"scale(1 -1) translate(0 -443.52)\" x=\"403.2\" y=\"-10.8\" width=\"22.32\" height=\"443.52\"/>\n   <g id=\"matplotlib.axis_3\"/>\n   <g id=\"matplotlib.axis_4\">\n    <g id=\"ytick_8\">\n     <g id=\"line2d_15\">\n      <defs>\n       <path id=\"mc633d64372\" d=\"M 0 0 \nL 3.5 0 \n\" style=\"stroke: #000000; stroke-width: 0.8\"/>\n      </defs>\n      <g>\n       <use xlink:href=\"#mc633d64372\" x=\"425.494125\" y=\"435.130366\" style=\"stroke: #000000; stroke-width: 0.8\"/>\n      </g>\n     </g>\n     <g id=\"text_64\">\n      <!-- −0.75 -->\n      <g transform=\"translate(432.494125 438.929585) scale(0.1 -0.1)\">\n       <defs>\n        <path id=\"DejaVuSans-2212\" d=\"M 678 2272 \nL 4684 2272 \nL 4684 1741 \nL 678 1741 \nL 678 2272 \nz\n\" transform=\"scale(0.015625)\"/>\n       </defs>\n       <use xlink:href=\"#DejaVuSans-2212\"/>\n       <use xlink:href=\"#DejaVuSans-30\" x=\"83.789062\"/>\n       <use xlink:href=\"#DejaVuSans-2e\" x=\"147.412109\"/>\n       <use xlink:href=\"#DejaVuSans-37\" x=\"179.199219\"/>\n       <use xlink:href=\"#DejaVuSans-35\" x=\"242.822266\"/>\n      </g>\n     </g>\n    </g>\n    <g id=\"ytick_9\">\n     <g id=\"line2d_16\">\n      <g>\n       <use xlink:href=\"#mc633d64372\" x=\"425.494125\" y=\"374.540202\" style=\"stroke: #000000; stroke-width: 0.8\"/>\n      </g>\n     </g>\n     <g id=\"text_65\">\n      <!-- −0.50 -->\n      <g transform=\"translate(432.494125 378.339421) scale(0.1 -0.1)\">\n       <use xlink:href=\"#DejaVuSans-2212\"/>\n       <use xlink:href=\"#DejaVuSans-30\" x=\"83.789062\"/>\n       <use xlink:href=\"#DejaVuSans-2e\" x=\"147.412109\"/>\n       <use xlink:href=\"#DejaVuSans-35\" x=\"179.199219\"/>\n       <use xlink:href=\"#DejaVuSans-30\" x=\"242.822266\"/>\n      </g>\n     </g>\n    </g>\n    <g id=\"ytick_10\">\n     <g id=\"line2d_17\">\n      <g>\n       <use xlink:href=\"#mc633d64372\" x=\"425.494125\" y=\"313.950038\" style=\"stroke: #000000; stroke-width: 0.8\"/>\n      </g>\n     </g>\n     <g id=\"text_66\">\n      <!-- −0.25 -->\n      <g transform=\"translate(432.494125 317.749257) scale(0.1 -0.1)\">\n       <use xlink:href=\"#DejaVuSans-2212\"/>\n       <use xlink:href=\"#DejaVuSans-30\" x=\"83.789062\"/>\n       <use xlink:href=\"#DejaVuSans-2e\" x=\"147.412109\"/>\n       <use xlink:href=\"#DejaVuSans-32\" x=\"179.199219\"/>\n       <use xlink:href=\"#DejaVuSans-35\" x=\"242.822266\"/>\n      </g>\n     </g>\n    </g>\n    <g id=\"ytick_11\">\n     <g id=\"line2d_18\">\n      <g>\n       <use xlink:href=\"#mc633d64372\" x=\"425.494125\" y=\"253.359874\" style=\"stroke: #000000; stroke-width: 0.8\"/>\n      </g>\n     </g>\n     <g id=\"text_67\">\n      <!-- 0.00 -->\n      <g transform=\"translate(432.494125 257.159093) scale(0.1 -0.1)\">\n       <use xlink:href=\"#DejaVuSans-30\"/>\n       <use xlink:href=\"#DejaVuSans-2e\" x=\"63.623047\"/>\n       <use xlink:href=\"#DejaVuSans-30\" x=\"95.410156\"/>\n       <use xlink:href=\"#DejaVuSans-30\" x=\"159.033203\"/>\n      </g>\n     </g>\n    </g>\n    <g id=\"ytick_12\">\n     <g id=\"line2d_19\">\n      <g>\n       <use xlink:href=\"#mc633d64372\" x=\"425.494125\" y=\"192.769711\" style=\"stroke: #000000; stroke-width: 0.8\"/>\n      </g>\n     </g>\n     <g id=\"text_68\">\n      <!-- 0.25 -->\n      <g transform=\"translate(432.494125 196.568929) scale(0.1 -0.1)\">\n       <use xlink:href=\"#DejaVuSans-30\"/>\n       <use xlink:href=\"#DejaVuSans-2e\" x=\"63.623047\"/>\n       <use xlink:href=\"#DejaVuSans-32\" x=\"95.410156\"/>\n       <use xlink:href=\"#DejaVuSans-35\" x=\"159.033203\"/>\n      </g>\n     </g>\n    </g>\n    <g id=\"ytick_13\">\n     <g id=\"line2d_20\">\n      <g>\n       <use xlink:href=\"#mc633d64372\" x=\"425.494125\" y=\"132.179547\" style=\"stroke: #000000; stroke-width: 0.8\"/>\n      </g>\n     </g>\n     <g id=\"text_69\">\n      <!-- 0.50 -->\n      <g transform=\"translate(432.494125 135.978765) scale(0.1 -0.1)\">\n       <use xlink:href=\"#DejaVuSans-30\"/>\n       <use xlink:href=\"#DejaVuSans-2e\" x=\"63.623047\"/>\n       <use xlink:href=\"#DejaVuSans-35\" x=\"95.410156\"/>\n       <use xlink:href=\"#DejaVuSans-30\" x=\"159.033203\"/>\n      </g>\n     </g>\n    </g>\n    <g id=\"ytick_14\">\n     <g id=\"line2d_21\">\n      <g>\n       <use xlink:href=\"#mc633d64372\" x=\"425.494125\" y=\"71.589383\" style=\"stroke: #000000; stroke-width: 0.8\"/>\n      </g>\n     </g>\n     <g id=\"text_70\">\n      <!-- 0.75 -->\n      <g transform=\"translate(432.494125 75.388601) scale(0.1 -0.1)\">\n       <use xlink:href=\"#DejaVuSans-30\"/>\n       <use xlink:href=\"#DejaVuSans-2e\" x=\"63.623047\"/>\n       <use xlink:href=\"#DejaVuSans-37\" x=\"95.410156\"/>\n       <use xlink:href=\"#DejaVuSans-35\" x=\"159.033203\"/>\n      </g>\n     </g>\n    </g>\n    <g id=\"ytick_15\">\n     <g id=\"line2d_22\">\n      <g>\n       <use xlink:href=\"#mc633d64372\" x=\"425.494125\" y=\"10.999219\" style=\"stroke: #000000; stroke-width: 0.8\"/>\n      </g>\n     </g>\n     <g id=\"text_71\">\n      <!-- 1.00 -->\n      <g transform=\"translate(432.494125 14.798437) scale(0.1 -0.1)\">\n       <use xlink:href=\"#DejaVuSans-31\"/>\n       <use xlink:href=\"#DejaVuSans-2e\" x=\"63.623047\"/>\n       <use xlink:href=\"#DejaVuSans-30\" x=\"95.410156\"/>\n       <use xlink:href=\"#DejaVuSans-30\" x=\"159.033203\"/>\n      </g>\n     </g>\n    </g>\n   </g>\n   <g id=\"LineCollection_1\"/>\n   <g id=\"patch_4\">\n    <path d=\"M 403.318125 454.519219 \nL 414.406125 454.519219 \nL 425.494125 454.519219 \nL 425.494125 10.999219 \nL 414.406125 10.999219 \nL 403.318125 10.999219 \nL 403.318125 454.519219 \nz\n\" style=\"fill: none\"/>\n   </g>\n  </g>\n </g>\n <defs>\n  <clipPath id=\"p0a324275c5\">\n   <rect x=\"23.878125\" y=\"10.999219\" width=\"357.12\" height=\"443.52\"/>\n  </clipPath>\n </defs>\n</svg>\n"
          },
          "metadata": {}
        }
      ],
      "source": [
        "# DO NOT EDIT\n",
        "%matplotlib inline\n",
        "display.set_matplotlib_formats('svg')\n",
        "plt.figure(figsize=(8,8))\n",
        "correlation_matrix = housing_dataset.corr().round(2)\n",
        "sns.heatmap(data=correlation_matrix, annot=True)\n",
        "plt.show()"
      ]
    },
    {
      "cell_type": "markdown",
      "source": [
        "### In some ases, the some solumns don't correlate with our output. We drop those columns before training. This is part of data cleaning. In this case, we are not dropping any columns. Try exploring how will you drop some columns from thie heatmap after submitting lab at your home."
      ],
      "metadata": {
        "id": "G8KY3MwGwcno"
      }
    },
    {
      "cell_type": "code",
      "execution_count": 18,
      "metadata": {
        "colab": {
          "base_uri": "https://localhost:8080/"
        },
        "id": "4oSuzh5y9kmn",
        "outputId": "5e7bcf47-4d78-46c0-b2a1-a8e190eba42a"
      },
      "outputs": [
        {
          "output_type": "stream",
          "name": "stdout",
          "text": [
            "Index(['mpg', 'cylinders', 'displacement', 'horsepower', 'weight',\n",
            "       'acceleration', 'model-year'],\n",
            "      dtype='object')\n",
            "(398, 1) (398, 6)\n"
          ]
        }
      ],
      "source": [
        "# DO NOT EDIT\n",
        "# Extract only the relevant columns. X: Input, Y: Output\n",
        "# iloc specifies the position of the column we want to select. :, part means all rows. ,-1 means last column\n",
        "output = housing_dataset.iloc[:,-2]\n",
        "print(housing_dataset.columns)\n",
        "Y = np.array(output.values).reshape(-1,1)\n",
        "X = np.array(housing_dataset.drop(columns=['mpg'],axis=1))\n",
        "print(Y.shape,X.shape)"
      ]
    },
    {
      "cell_type": "markdown",
      "metadata": {
        "id": "WSO48LNL99g-"
      },
      "source": [
        "## [20 Points] Task 02 - Train Test Split"
      ]
    },
    {
      "cell_type": "markdown",
      "metadata": {
        "id": "nsoKMqpB9_yu"
      },
      "source": [
        "To determine whether regression is effective, we can split our data into a training and test set and compare performance. Before splitting data, make sure to shuffle it because data is sometimes arranged in a specific order, such as all low-end houses first. If the data is not properly shuffled, it may fail to learn patterns. So, to avoid bias in your training data, shuffle it before splitting.\n",
        "\n",
        "<center>\n",
        "\n",
        "![Google Drive Image](https://drive.google.com/uc?export=view&id=13ZwKJ0RyGZo76LI9NBVVRQc83T5moGcq)\n",
        "\n",
        "</center>\n",
        "\n",
        "\n",
        "\n",
        "\n",
        "\n",
        "\n"
      ]
    },
    {
      "cell_type": "markdown",
      "metadata": {
        "id": "687CG0A5-B3q"
      },
      "source": [
        "**Your task is to split the dataset into training and test dataset by completing the function `train_test_split(inputs,outputs,test_size,seed)`**"
      ]
    },
    {
      "cell_type": "markdown",
      "metadata": {
        "id": "RH_3cHAI-D9O"
      },
      "source": [
        "**Important note on seed**: Reproducability is extremely important. Sometimes, you might find a good seed for a split. When dealing with random shuffling, you will get different results everytime you run. You can set a global seed by using `np.random.seed(42)` however that sets the global seed. It is useful over here to not change the global seed here, since if you want to reproduce the same result, you will have to run the entire code again. The solution to this problem is that you create a generator with a specific seed and use that for generation. [You can find more about setting seeds here](https://builtin.com/data-science/numpy-random-seed)"
      ]
    },
    {
      "cell_type": "code",
      "execution_count": 19,
      "metadata": {
        "id": "kHhzToqz96sI",
        "tags": []
      },
      "outputs": [],
      "source": [
        "# TODO: Complete train_test_split\n",
        "def train_test_split(inputs,outputs,test_size,seed = 0):\n",
        "    \"\"\"\n",
        "    Splits the data into training and test sets.\n",
        "    Return 4 numpy arrays. X_train, X_test, Y_train, Y_test\n",
        "    where training data is test_size proportion of data provided.\n",
        "\n",
        "    Args:\n",
        "        inputs [np.array] : numpy array of input data\n",
        "        outputs [np.array]: numpy array of output labels\n",
        "        test_size [float]: proportion of data to be used as test data. e.g. 0.2 means 20% of data is used for test data.\n",
        "        seed [int]: A seed to create random number generator. (For reproducability)\n",
        "    \"\"\"\n",
        "    rng = np.random.default_rng(seed)\n",
        "    assert(len(inputs) == len(outputs))\n",
        "    assert(test_size <= 1.0)\n",
        "    assert(test_size >= 0.0)\n",
        "    num_samples = len(inputs)\n",
        "    num_train = int(num_samples * (1.0 - test_size))\n",
        "    # Write your code here\n",
        "    # Create index using np.arange\n",
        "    # Shuffle the dataset using rng.shuffle\n",
        "    # Split the dataset into train, test\n",
        "    # BEGIN SOLUTION\n",
        "    index = np.arange(num_samples)\n",
        "    rng.shuffle(index)\n",
        "    X_train = inputs[index[:num_train]]\n",
        "    X_test = inputs[index[num_train:]]\n",
        "    Y_train = outputs[index[:num_train]]\n",
        "    Y_test = outputs[index[num_train:]]\n",
        "\n",
        "    print(index)\n",
        "    print(\"-------\")\n",
        "    print(inputs[index])\n",
        "\n",
        "\n",
        "    # END SOLUTION\n",
        "    return X_train, X_test, Y_train, Y_test"
      ]
    },
    {
      "cell_type": "code",
      "execution_count": 20,
      "metadata": {
        "colab": {
          "base_uri": "https://localhost:8080/"
        },
        "id": "m_s0otM3dqPm",
        "outputId": "6a8e9c8c-8c3b-4eca-efbf-f7a6dce864d4"
      },
      "outputs": [
        {
          "output_type": "stream",
          "name": "stdout",
          "text": [
            "[4 6 2 7 3 5 9 0 8 1]\n",
            "-------\n",
            "[ 5.  7.  3.  8.  4.  6. 10.  1.  9.  2.]\n",
            "x_train: [5. 7. 3. 8. 4.], x_test: [ 6. 10.  1.  9.  2.], y_train: [ 7  9  5 10  6], y_test: [ 8 12  3 11  4]\n"
          ]
        }
      ],
      "source": [
        "# DO NOT EDIT\n",
        "# TEST CODE FOR CHECKING THE FUNCTION.\n",
        "x_input = np.array([1.0,2.0,3.0,4.0,5.0,6.0,7.0,8.0,9.0,10.0])\n",
        "y_output = np.array([3,4,5,6,7,8,9,10,11,12])\n",
        "seed = 0\n",
        "split = 0.5\n",
        "x_train,x_test,y_train,y_test = train_test_split(x_input,y_output,split,seed)\n",
        "print(f'x_train: {x_train}, x_test: {x_test}, y_train: {y_train}, y_test: {y_test}')\n",
        "assert np.allclose(x_train,np.array([5.0,7.0,3.0,8.0,4.0]))\n",
        "assert np.allclose(x_test,np.array([6.0,10.0,1.0,9.0,2.0]))\n",
        "assert np.allclose(y_train,np.array([ 7,  9,  5, 10,  6]))\n",
        "assert np.allclose(y_test,np.array([8,12,3,11,4]))"
      ]
    },
    {
      "cell_type": "markdown",
      "metadata": {
        "id": "1hD7JlLTykTA"
      },
      "source": [
        "To understand how we can use regression for this dataset have a look at these set of equations you would have used previously.\n"
      ]
    },
    {
      "cell_type": "markdown",
      "source": [
        "# RELU Activation Function"
      ],
      "metadata": {
        "id": "29a8pGCK8jub"
      }
    },
    {
      "cell_type": "code",
      "source": [
        "# DO NOT EDIT\n",
        "def ReLU(preactivation):\n",
        "  activation=np.where(preactivation>=0,preactivation,0)\n",
        "  return activation\n",
        "\n",
        "def relu_derivative(x):\n",
        "  return np.where(x > 0, 1, 0)"
      ],
      "metadata": {
        "id": "mUcEZ10V8kqD"
      },
      "execution_count": 21,
      "outputs": []
    },
    {
      "cell_type": "markdown",
      "metadata": {
        "id": "yhNMXpldI0BB"
      },
      "source": [
        "## [20 Points] Task 03 - Deep Neural Network Model\n",
        "\n"
      ]
    },
    {
      "cell_type": "markdown",
      "metadata": {
        "id": "bNrneq1DJ59e"
      },
      "source": [
        "Before we performming operations, we must define our model, relating its inputs and parameters to its outputs. Recall that to calculate the output of the  model, we simply take the matrix-vector dot product of the input features $\\mathbf{x}$ and the model weights ($\\mathbf{\\theta_1}$), and add the offset (also called bias or $\\theta_0$) to each example. Then we apply activation function to it and pass it to next layer.\n",
        "\n",
        "<center>\n",
        "\n",
        "![Google Drive Image](https://drive.google.com/uc?export=view&id=1ITJmAMpeuKdl3IDwu-nfrSknX17hF4fU)\n",
        "\n",
        "</center>\n",
        "\n",
        "For your lab, you will be building a neural network with 3 hidden layers. First layer has 2 neurons, second has 3 and 3rd has 2. There will be 1 output layer. However, the dimension of input layer is something which depends on dataset. You need to find that out.\n",
        "\n",
        "\n"
      ]
    },
    {
      "cell_type": "markdown",
      "metadata": {
        "id": "IqQ56hw1LIpi"
      },
      "source": [
        "**In this task you are required to initialse the model weights and bias (thetas) by implementing the function `initialise_model`.**\n",
        "You have to initialize weights and biases using np.random.randn function. Scale your weights with a factor of 0.01 after initialization as input values are of that range."
      ]
    },
    {
      "cell_type": "code",
      "execution_count": 22,
      "metadata": {
        "id": "gdNt-ie6Lmrr",
        "colab": {
          "base_uri": "https://localhost:8080/"
        },
        "outputId": "694571d7-3983-4e5a-9ed0-5114fa87065d"
      },
      "outputs": [
        {
          "output_type": "stream",
          "name": "stdout",
          "text": [
            "(1, 2)\n",
            "(2, 3)\n",
            "(3, 2)\n",
            "(2, 1)\n",
            "(1, 2)\n",
            "(1, 3)\n",
            "(1, 2)\n",
            "(1, 1)\n",
            "(array([[ 0.00496714, -0.00138264]]), array([[0.00647689, 0.0152303 ]]), array([[-0.00234153, -0.00234137,  0.01579213],\n",
            "       [ 0.00767435, -0.00469474,  0.0054256 ]]), array([[-0.00463418, -0.0046573 ,  0.00241962]]), array([[-0.0191328 , -0.01724918],\n",
            "       [-0.00562288, -0.01012831],\n",
            "       [ 0.00314247, -0.00908024]]), array([[-0.01412304,  0.01465649]]), array([[-0.00225776],\n",
            "       [ 0.00067528]]), array([[-0.01424748]]))\n"
          ]
        }
      ],
      "source": [
        "# TODO: Complete initialise_model\n",
        "def initialise_model(input_size,hidden_size1,hidden_size2,hidden_size3,output_size):\n",
        "    \"\"\"\n",
        "    Args:\n",
        "        input_size: Size of the input layer\n",
        "        hidden_size1: Size of the first hidden layer\n",
        "        hidden_size2: Size of the second hidden layer\n",
        "        output_size: Size of the output layer\n",
        "    \"\"\"\n",
        "    # Write your code here.\n",
        "    # BEGIN SOLUTION\n",
        "    weights1 = np.random.randn(input_size, hidden_size1) * 0.01  # (2,1)\n",
        "    bias1 = np.random.randn(1,hidden_size1) * 0.01  # (1,2)\n",
        "\n",
        "    weights2 = np.random.randn(hidden_size1, hidden_size2) * 0.01 # (3,2)\n",
        "    bias2 = np.random.randn(1, hidden_size2) * 0.01  #(1,3)\n",
        "\n",
        "    weights3 = np.random.randn(hidden_size2, hidden_size3) * 0.01 #(2,3)\n",
        "    bias3 = np.random.randn(1, hidden_size3) * 0.01 # (1,2)\n",
        "\n",
        "    weights4 = np.random.randn(hidden_size3, output_size) * 0.01 #()\n",
        "    bias4 = np.random.randn(1,output_size) * 0.01 # (1,2)\n",
        "\n",
        "    #\n",
        "    print(weights1.shape)\n",
        "    print(weights2.shape)\n",
        "    print(weights3.shape)\n",
        "    print(weights4.shape)\n",
        "\n",
        "\n",
        "    print(bias1.shape)\n",
        "    print(bias2.shape)\n",
        "    print(bias3.shape)\n",
        "    print(bias4.shape)\n",
        "\n",
        "    # END SOLUTION\n",
        "    return weights1,bias1,weights2,bias2,weights3,bias3,weights4,bias4\n",
        "\n",
        "#### This line is just for testing\n",
        "#### Remove the comment from print function and run it.\n",
        "print(initialise_model(1,2,3,2,1))"
      ]
    },
    {
      "cell_type": "markdown",
      "metadata": {
        "id": "tgXfsr4DXncO"
      },
      "source": [
        "## [20 Points] Task 04 - Linear Output\n",
        "\n"
      ]
    },
    {
      "cell_type": "markdown",
      "metadata": {
        "id": "LwSW0mfUXzjY"
      },
      "source": [
        "When going forward, convention for multiplication is to multiple x with weights and then add bias. Complete the below given code to do that.\n",
        "\n",
        "Function returns the linear output of the model\n",
        "Args:\n",
        "x: Input data (numpy array)\n",
        "weights1: Weights for the first hidden layer (numpy array)\n",
        "weights2: Weights for the second hidden layer (numpy array)\n",
        "weights3: Weights for the output layer (numpy array)\n",
        "bias1: Biases for the first hidden layer (numpy array)\n",
        "bias2: Biases for the second hidden layer (numpy array)\n",
        "bias3: Biases for the output layer (numpy array)"
      ]
    },
    {
      "cell_type": "code",
      "execution_count": 23,
      "metadata": {
        "id": "74kQBe83YUR5"
      },
      "outputs": [],
      "source": [
        "#TODO: Complete forward\n",
        "def forward(x,weights1,bias1,weights2,bias2,weights3,bias3,weights4,bias4):\n",
        "\n",
        "    # Write your code here\n",
        "    # BEGIN SOLUTION\n",
        "    hidden_layer_1 = ReLU(np.dot(x,weights1) + bias1)  #\n",
        "\n",
        "    hidden_layer_2 = ReLU(np.dot(hidden_layer_1,weights2) + bias2)\n",
        "\n",
        "    hidden_layer_3 = ReLU(np.dot(hidden_layer_2,weights3) + bias3)\n",
        "\n",
        "    output = np.dot(hidden_layer_3,weights4) + bias4\n",
        "\n",
        "    # END SOLUTION\n",
        "    return hidden_layer_1,hidden_layer_2,hidden_layer_3,output\n"
      ]
    },
    {
      "cell_type": "code",
      "source": [
        "# DO NOT EDIT\n",
        "# TEST CODE FOR CHECKING THE FUNCTION.\n",
        "x_input = np.array([[1.0,2.0]])\n",
        "weights1 = np.array([[0.3,0.4],[0.5,0.6]])\n",
        "weights2 = np.array([[0.7,0.8,0.9],[0.1,0.2,0.3]])\n",
        "weights3 = np.array([[0.4,0.5],[0.6,0.7],[0.6,0.7]])\n",
        "weights4 = np.array([[0.8],[0.9]])\n",
        "bias1 = np.array([[0.1,0.2]])\n",
        "bias2 = np.array([[0.3,0.4,0.5]])\n",
        "bias3 = np.array([[0.5,0.6]])\n",
        "bias4 = np.array([[0.7]])\n",
        "hidden_layer_1,hidden_layer_2,hidden_layer_3,output = forward(x_input,weights1,bias1,weights2,bias2,weights3,bias3,weights4,bias4)\n",
        "print(f'hidden_layer_1: {hidden_layer_1}, hidden_layer_2: {hidden_layer_2}, hidden_layer_3: {hidden_layer_3}, output: {output}')\n",
        "assert np.allclose(hidden_layer_1,np.array([[1.4, 1.8]]))\n",
        "assert np.allclose(hidden_layer_2,np.array([[1.46, 1.88,2.3]]))\n",
        "assert np.allclose(hidden_layer_3,np.array([[3.592, 4.256]]))\n",
        "assert np.allclose(output,np.array([[7.404]]))\n"
      ],
      "metadata": {
        "colab": {
          "base_uri": "https://localhost:8080/"
        },
        "id": "F3oLPTGVq9k3",
        "outputId": "490b6b93-b317-48bc-edc8-1099cfb7be1e"
      },
      "execution_count": 24,
      "outputs": [
        {
          "output_type": "stream",
          "name": "stdout",
          "text": [
            "hidden_layer_1: [[1.4 1.8]], hidden_layer_2: [[1.46 1.88 2.3 ]], hidden_layer_3: [[3.592 4.256]], output: [[7.404]]\n"
          ]
        }
      ]
    },
    {
      "cell_type": "markdown",
      "metadata": {
        "id": "0oxiSRMWEy3P"
      },
      "source": [
        "## Evaluation"
      ]
    },
    {
      "cell_type": "markdown",
      "metadata": {
        "id": "YDT6bO-9FTx9"
      },
      "source": [
        "Mean Squared error is defined as\n",
        "\n",
        "$$\\text{MSE} = \\dfrac{1}{n}\\sum\\limits_{i=1}^{n}(y_i-\\hat{y}_i)^2$$\n",
        "\n",
        "where $y_i$ is your actual value and $\\hat{y}_i$ is the predicted value. You have already completed this in previous lab."
      ]
    },
    {
      "cell_type": "code",
      "execution_count": 25,
      "metadata": {
        "id": "VkYrcJMvE_II",
        "tags": []
      },
      "outputs": [],
      "source": [
        "def mean_squared_error(y_actual,y_prediction):\n",
        "    \"\"\"\n",
        "    Returns mean squared error using prediction and actual data\n",
        "    Args:\n",
        "        y_actual [np.array]     : Actual output vector\n",
        "        y_prediction [np.array] : Predicted output vector\n",
        "    \"\"\"\n",
        "    #print(y_actual,y_prediction)\n",
        "    return np.mean(np.square(y_actual - y_prediction))"
      ]
    },
    {
      "cell_type": "markdown",
      "metadata": {
        "id": "bjKZQ40RG25b"
      },
      "source": [
        "## Gradient Descent\n",
        "\n"
      ]
    },
    {
      "cell_type": "markdown",
      "metadata": {
        "id": "tUV7PHLGg69w"
      },
      "source": [
        "**This has been calculated for you. We will study more about Gradient Descent later in the course.**\n",
        "\n",
        "Calculates gradients for the weights and biases using backpropagation.\n",
        "\n",
        "Args:\n",
        "\n",
        "  X: Input data (numpy array)\n",
        "\n",
        "  y: Target labels (numpy array)\n",
        "\n",
        "  output: Output of the neural network (numpy array)\n",
        "\n",
        "  hidden_layer_1: Output of the first hidden layer (numpy array)\n",
        "\n",
        "  hidden_layer_2: Output of the second hidden layer (numpy array)\n",
        "\n",
        "  weights1: Weights for the first hidden layer (numpy array)\n",
        "\n",
        "  weights2: Weights for the second hidden layer (numpy array)\n",
        "\n",
        "  weights3: Weights for the output layer (numpy array)\n",
        "\n",
        "  weights4: Weights for the output layer (numpy array)\n",
        "\n",
        "  bias1: Biases for the first hidden layer (numpy array)\n",
        "\n",
        "  bias2: Biases for the second hidden layer (numpy array)\n",
        "\n",
        "  bias3: Biases for the output layer (numpy array)\n",
        "\n",
        "  bias4: Biases for the output layer (numpy array)\n",
        "\n",
        "Returns:\n",
        "  Dictionary containing gradients for weights and biases"
      ]
    },
    {
      "cell_type": "code",
      "execution_count": 26,
      "metadata": {
        "id": "Gct9i0yIiDdY"
      },
      "outputs": [],
      "source": [
        "def gradient_descent(X, y, output, hidden_layer_1, hidden_layer_2, hidden_layer_3, weights1, weights2, weights3,weights4, bias1, bias2, bias3,bias4):\n",
        "    \"\"\"\n",
        "    Calculates gradients for the weights and biases using backpropagation with ReLU activation.\n",
        "\n",
        "  Args:\n",
        "    X: Input data (numpy array)\n",
        "    y: Target labels (numpy array)\n",
        "    output: Output of the neural network (numpy array)\n",
        "    weights1: Weights for the first hidden layer (numpy array)\n",
        "    weights2: Weights for the second hidden layer (numpy array)\n",
        "    bias1: Biases for the first hidden layer (numpy array)\n",
        "    bias2: Biases for the second hidden layer (numpy array)\n",
        "\n",
        "  Returns:\n",
        "    gradients for weights and biases\n",
        "  \"\"\"\n",
        "    # Calculate the error\n",
        "    delta_output = output - y\n",
        "\n",
        "    # Calculate the error for the third hidden layer\n",
        "    delta_hidden_3 = np.dot(delta_output, weights4.T) * relu_derivative(hidden_layer_3)\n",
        "\n",
        "    # Calculate the error for the second hidden layer\n",
        "    delta_hidden_2 = np.dot(delta_hidden_3, weights3.T) * relu_derivative(hidden_layer_2)\n",
        "\n",
        "    # Calculate the error for the first hidden layer\n",
        "    delta_hidden_1 = np.dot(delta_hidden_2, weights2.T) * relu_derivative(hidden_layer_1)\n",
        "\n",
        "    # Calculate gradients\n",
        "    d_weights1 = np.dot(X.T, delta_hidden_1)\n",
        "    d_weights2 = np.dot(hidden_layer_1.T, delta_hidden_2)\n",
        "    d_weights3 = np.dot(hidden_layer_2.T, delta_hidden_3)\n",
        "    d_weights4 = np.dot(hidden_layer_3.T, delta_output)\n",
        "    d_bias1 = np.sum(delta_hidden_1, axis=0)\n",
        "    d_bias2 = np.sum(delta_hidden_2, axis=0)\n",
        "    d_bias3 = np.sum(delta_hidden_3, axis=0)\n",
        "    d_bias4 = np.sum(delta_output, axis=0)\n",
        "    #print(d_bias1.shape)\n",
        "    return d_weights1,d_weights2,d_weights3,d_weights4,d_bias1,d_bias2,d_bias3,d_bias4"
      ]
    },
    {
      "cell_type": "markdown",
      "metadata": {
        "id": "ZL5yNmmUnTKD"
      },
      "source": [
        "## [20 points] Task 05 - Main Loop"
      ]
    },
    {
      "cell_type": "markdown",
      "metadata": {
        "id": "JyQc4LaMoDmQ"
      },
      "source": [
        "Now that we have all of the parts in place, we are ready to **implement the main training loop.**\n",
        "\n",
        "In each iteration, we will use the entire batch of training examples,\n",
        "and pass them through our model to obtain a set of predictions.\n",
        "After calculating the loss, we initiate the backwards pass through the network,\n",
        "storing the gradients with respect to each parameter.\n",
        "Finally, we will use the gradient descent optimization algorithm\n",
        "to update the model parameters.\n",
        "\n",
        "In summary, we will execute the following loop:\n",
        "\n",
        "* Split dataset (already completed)\n",
        "* Initialize parameters (weightsand biases) (complete this)\n",
        "* Repeat until done\n",
        "    * Compute output, hidden_layer1,hidden_layer2 using forward function\n",
        "    * Compute gradient (call gradient descent functon for this and send parameters)\n",
        "    * Update parameters (already completed): This is done by multiplying learning rate with weights received from gradient descent and subtracting them from original values\n",
        "\n",
        "In each *epoch*, we will iterate through the entire dataset once\n",
        "passing through every example in the training dataset. The number of epochs `num_epochs` and the learning rate `lr` are both hyperparameters.\n",
        "\n",
        "\n",
        "\n"
      ]
    },
    {
      "cell_type": "markdown",
      "metadata": {
        "id": "pepWnKZPn0N6"
      },
      "source": [
        "**In this task, you have to implement the linear regression by completing the function `main`**."
      ]
    },
    {
      "cell_type": "code",
      "execution_count": 27,
      "metadata": {
        "id": "4EJX-Wb0oXEe"
      },
      "outputs": [],
      "source": [
        "#TODO: Complete the function main\n",
        "def main(X,y,num_epochs,lr):\n",
        "    \"\"\"\n",
        "    Returns the final model weight and bias. Also, plots a graph of the num_epochs vs mean squared error.\n",
        "    Args:\n",
        "        X [np.array]: Inputs\n",
        "        y [np.array]: Outputs\n",
        "        num_epochs [int]: Number of epochs\n",
        "        lr [floar]: Learning Rate\n",
        "    \"\"\"\n",
        "    # Split the data into train & test dataset. Split should 0.2 and seed should be equal to 0\n",
        "    X_train,X_test,Y_train,Y_test = train_test_split(X,y,0.2,0)\n",
        "    hidden_size1=2\n",
        "    hidden_size2=3\n",
        "    hidden_size3=2\n",
        "    output_size=1\n",
        "    # Initialize Weights\n",
        "    weights1,bias1,weights2,bias2,weights3,bias3,weights4,bias4 = initialise_model(X_train.shape[1],hidden_size1,hidden_size2,hidden_size3,output_size)\n",
        "\n",
        "\n",
        "\n",
        "\n",
        "\n",
        "\n",
        "    # Initialise empty L list\n",
        "    L = []\n",
        "    # Main Loop\n",
        "    for epoch in range(num_epochs+1):\n",
        "        # Write your code here\n",
        "        # BEGIN SOLUTION\n",
        "        # Compute the linear output using the training data\n",
        "        hidden_layer_1,hidden_layer_2,hidden_layer_3,output = forward(X_train,weights1,bias1,weights2,bias2,weights3,bias3,weights4,bias4)\n",
        "\n",
        "\n",
        "\n",
        "\n",
        "        # Compute the loss on the training output\n",
        "        loss = mean_squared_error(Y_train,output)\n",
        "\n",
        "\n",
        "\n",
        "\n",
        "        # Compute grad_w, grad_b\n",
        "        d_weights1,d_weights2,d_weights3,d_weights4,d_bias1,d_bias2,d_bias3,d_bias4 = gradient_descent(X_train,Y_train, output, hidden_layer_1, hidden_layer_2, hidden_layer_3, weights1, weights2, weights3,weights4, bias1, bias2, bias3,bias4)\n",
        "\n",
        "\n",
        "\n",
        "\n",
        "        # END SOLUTION\n",
        "        print(d_weights1,d_weights2,d_weights3,d_weights4,d_bias1,d_bias2,d_bias3,d_bias4)\n",
        "        # Store loss value in Python list\n",
        "        print(loss)\n",
        "        L.append(loss)\n",
        "        # Update w,b\n",
        "        weights1 -= lr*d_weights1\n",
        "        bias1 -= lr*d_bias1\n",
        "        weights2 -= lr*d_weights2\n",
        "        bias2 -= lr*d_bias2\n",
        "        weights3 -= lr*d_weights3\n",
        "        bias3 -= lr*d_bias3\n",
        "\n",
        "\n",
        "    # Plot\n",
        "    plt.plot([epoch for epoch in range(num_epochs+1)],L)\n",
        "    plt.xlabel('Epochs')\n",
        "    plt.ylabel('Mean Squared Loss')\n",
        "    plt.title('Epochs vs Mean Squared Loss')\n",
        "    plt.show()\n",
        "    return weights1,bias1,weights2,bias2,weights3,bias3,weights4,bias4"
      ]
    },
    {
      "cell_type": "code",
      "execution_count": 41,
      "metadata": {
        "id": "8ldOHswXuGNc",
        "colab": {
          "base_uri": "https://localhost:8080/",
          "height": 1000
        },
        "outputId": "0b47e10c-d36a-4277-ed72-bc55586f2a7d"
      },
      "outputs": [
        {
          "output_type": "stream",
          "name": "stdout",
          "text": [
            "[133 202 292  88  55  36 366 385 248 189  18 128 119 204 265  19 298 354\n",
            " 337 141  38  71 364   5 244 164  83 358 155 305 320 213 269 300 159 345\n",
            " 136 327 348 379 357 220  85  39 147 124 232  84 368 370 250 321 208 346\n",
            "  44   2 200 295 222  89 148 157  90  54 324 271 144 373 371 162 387 259\n",
            " 267 285  63 107 223 255 359  93 256  31   0 382 126 316 236 111  75 262\n",
            " 160 342 109 349 391  70 306 286 353 363 261 137 309 304 195 201 281 299\n",
            "  45  92 361 376 242  47 221  10 142 153 392 274 182  41 114 234 123 284\n",
            "  98 374  33 150 347 196 341  17 116 326 190 145 117 312 229 106 210 380\n",
            "  42 227 330 198 161  12  26  64 322  53 308  25   8 121  68 253 378  74\n",
            " 372 214 167 166 272  65 140 331 230  43 297 181 251   6  94 278 310  61\n",
            " 203 103 178 186 291 396 252  13  97 293 206 132 158 173 246 118 130 199\n",
            "  72 225  32 336 329  37  28 149 205   9 264 334 212  99   4  52 290  48\n",
            "  46  91 168 389 360  60  15 151 235 386 197 226  67 174 102 185 325  82\n",
            " 277  50 138 254 362 273  77 179  35 122  27 219 152 171 303  14  23 243\n",
            " 209 266 344 216 139 247 249 233  80 170 100  96 397  87 339 218 343 215\n",
            " 393 131  16 313 105 192 110 113  30   1 194 129 394 172 365 257 258 367\n",
            " 177 355 112  11 296 231 165 180  51 338 135 279 311  20 294 228 238 276\n",
            "  34 283 224  57 154  40 375 175 211  22 275 395 134 340 108 260 217  81\n",
            "  79 183 328 239 383   3 335 356 143 350  66 163  76 237 384 156 146 323\n",
            " 193 280 245  24 388  59  21 318 188  62 301  86 319 125 282 307 101 240\n",
            "  49  58 187 169 352 381 317 268 207 241 288  56 302 314 270  73 263 390\n",
            " 115 287 191 104 176 333 332   7 351  69 369 127 377  78 120 315  29 184\n",
            " 289  95]\n",
            "-------\n",
            "[[6.000e+00 2.500e+02 1.000e+02 3.781e+03 1.700e+01 7.400e+01]\n",
            " [6.000e+00 2.580e+02 9.500e+01 3.193e+03 1.780e+01 7.600e+01]\n",
            " [8.000e+00 3.600e+02 1.500e+02 3.940e+03 1.300e+01 7.900e+01]\n",
            " ...\n",
            " [4.000e+00 1.400e+02 9.200e+01 2.572e+03 1.490e+01 7.600e+01]\n",
            " [8.000e+00 3.500e+02 1.550e+02 4.360e+03 1.490e+01 7.900e+01]\n",
            " [8.000e+00 4.550e+02 2.250e+02 4.951e+03 1.100e+01 7.300e+01]]\n",
            "(6, 2)\n",
            "(2, 3)\n",
            "(3, 2)\n",
            "(2, 1)\n",
            "(1, 2)\n",
            "(1, 3)\n",
            "(1, 2)\n",
            "(1, 1)\n",
            "[[0.         0.00090338]\n",
            " [0.         0.03141337]\n",
            " [       nan        nan]\n",
            " [0.         0.49298883]\n",
            " [0.         0.0027085 ]\n",
            " [0.         0.01281842]] [[0.         0.         0.        ]\n",
            " [3.05315443 0.         0.        ]] [[0.64393076 0.        ]\n",
            " [0.         0.        ]\n",
            " [0.00115695 0.        ]] [[-29.73969942]\n",
            " [  0.        ]] [0.         0.00016833] [ 0.08272995  0.         -0.00059062] [9.45222054 0.        ] [-4966.00093604]\n",
            "251.71953459452533\n",
            "[[ 0.  0.]\n",
            " [ 0.  0.]\n",
            " [nan nan]\n",
            " [ 0.  0.]\n",
            " [ 0.  0.]\n",
            " [ 0.  0.]] [[0. 0. 0.]\n",
            " [0. 0. 0.]] [[0. 0.]\n",
            " [0. 0.]\n",
            " [0. 0.]] [[0.]\n",
            " [0.]] [0. 0.] [0. 0. 0.] [0. 0.] [-4965.99730314]\n",
            "251.71917858112928\n",
            "[[ 0.  0.]\n",
            " [ 0.  0.]\n",
            " [nan nan]\n",
            " [ 0.  0.]\n",
            " [ 0.  0.]\n",
            " [ 0.  0.]] [[0. 0. 0.]\n",
            " [0. 0. 0.]] [[0. 0.]\n",
            " [0. 0.]\n",
            " [0. 0.]] [[0.]\n",
            " [0.]] [0. 0.] [0. 0. 0.] [0. 0.] [-4965.99730314]\n",
            "251.71917858112928\n",
            "[[ 0.  0.]\n",
            " [ 0.  0.]\n",
            " [nan nan]\n",
            " [ 0.  0.]\n",
            " [ 0.  0.]\n",
            " [ 0.  0.]] [[0. 0. 0.]\n",
            " [0. 0. 0.]] [[0. 0.]\n",
            " [0. 0.]\n",
            " [0. 0.]] [[0.]\n",
            " [0.]] [0. 0.] [0. 0. 0.] [0. 0.] [-4965.99730314]\n",
            "251.71917858112928\n",
            "[[ 0.  0.]\n",
            " [ 0.  0.]\n",
            " [nan nan]\n",
            " [ 0.  0.]\n",
            " [ 0.  0.]\n",
            " [ 0.  0.]] [[0. 0. 0.]\n",
            " [0. 0. 0.]] [[0. 0.]\n",
            " [0. 0.]\n",
            " [0. 0.]] [[0.]\n",
            " [0.]] [0. 0.] [0. 0. 0.] [0. 0.] [-4965.99730314]\n",
            "251.71917858112928\n",
            "[[ 0.  0.]\n",
            " [ 0.  0.]\n",
            " [nan nan]\n",
            " [ 0.  0.]\n",
            " [ 0.  0.]\n",
            " [ 0.  0.]] [[0. 0. 0.]\n",
            " [0. 0. 0.]] [[0. 0.]\n",
            " [0. 0.]\n",
            " [0. 0.]] [[0.]\n",
            " [0.]] [0. 0.] [0. 0. 0.] [0. 0.] [-4965.99730314]\n",
            "251.71917858112928\n",
            "[[ 0.  0.]\n",
            " [ 0.  0.]\n",
            " [nan nan]\n",
            " [ 0.  0.]\n",
            " [ 0.  0.]\n",
            " [ 0.  0.]] [[0. 0. 0.]\n",
            " [0. 0. 0.]] [[0. 0.]\n",
            " [0. 0.]\n",
            " [0. 0.]] [[0.]\n",
            " [0.]] [0. 0.] [0. 0. 0.] [0. 0.] [-4965.99730314]\n",
            "251.71917858112928\n",
            "[[ 0.  0.]\n",
            " [ 0.  0.]\n",
            " [nan nan]\n",
            " [ 0.  0.]\n",
            " [ 0.  0.]\n",
            " [ 0.  0.]] [[0. 0. 0.]\n",
            " [0. 0. 0.]] [[0. 0.]\n",
            " [0. 0.]\n",
            " [0. 0.]] [[0.]\n",
            " [0.]] [0. 0.] [0. 0. 0.] [0. 0.] [-4965.99730314]\n",
            "251.71917858112928\n",
            "[[ 0.  0.]\n",
            " [ 0.  0.]\n",
            " [nan nan]\n",
            " [ 0.  0.]\n",
            " [ 0.  0.]\n",
            " [ 0.  0.]] [[0. 0. 0.]\n",
            " [0. 0. 0.]] [[0. 0.]\n",
            " [0. 0.]\n",
            " [0. 0.]] [[0.]\n",
            " [0.]] [0. 0.] [0. 0. 0.] [0. 0.] [-4965.99730314]\n",
            "251.71917858112928\n",
            "[[ 0.  0.]\n",
            " [ 0.  0.]\n",
            " [nan nan]\n",
            " [ 0.  0.]\n",
            " [ 0.  0.]\n",
            " [ 0.  0.]] [[0. 0. 0.]\n",
            " [0. 0. 0.]] [[0. 0.]\n",
            " [0. 0.]\n",
            " [0. 0.]] [[0.]\n",
            " [0.]] [0. 0.] [0. 0. 0.] [0. 0.] [-4965.99730314]\n",
            "251.71917858112928\n",
            "[[ 0.  0.]\n",
            " [ 0.  0.]\n",
            " [nan nan]\n",
            " [ 0.  0.]\n",
            " [ 0.  0.]\n",
            " [ 0.  0.]] [[0. 0. 0.]\n",
            " [0. 0. 0.]] [[0. 0.]\n",
            " [0. 0.]\n",
            " [0. 0.]] [[0.]\n",
            " [0.]] [0. 0.] [0. 0. 0.] [0. 0.] [-4965.99730314]\n",
            "251.71917858112928\n",
            "[[ 0.  0.]\n",
            " [ 0.  0.]\n",
            " [nan nan]\n",
            " [ 0.  0.]\n",
            " [ 0.  0.]\n",
            " [ 0.  0.]] [[0. 0. 0.]\n",
            " [0. 0. 0.]] [[0. 0.]\n",
            " [0. 0.]\n",
            " [0. 0.]] [[0.]\n",
            " [0.]] [0. 0.] [0. 0. 0.] [0. 0.] [-4965.99730314]\n",
            "251.71917858112928\n",
            "[[ 0.  0.]\n",
            " [ 0.  0.]\n",
            " [nan nan]\n",
            " [ 0.  0.]\n",
            " [ 0.  0.]\n",
            " [ 0.  0.]] [[0. 0. 0.]\n",
            " [0. 0. 0.]] [[0. 0.]\n",
            " [0. 0.]\n",
            " [0. 0.]] [[0.]\n",
            " [0.]] [0. 0.] [0. 0. 0.] [0. 0.] [-4965.99730314]\n",
            "251.71917858112928\n",
            "[[ 0.  0.]\n",
            " [ 0.  0.]\n",
            " [nan nan]\n",
            " [ 0.  0.]\n",
            " [ 0.  0.]\n",
            " [ 0.  0.]] [[0. 0. 0.]\n",
            " [0. 0. 0.]] [[0. 0.]\n",
            " [0. 0.]\n",
            " [0. 0.]] [[0.]\n",
            " [0.]] [0. 0.] [0. 0. 0.] [0. 0.] [-4965.99730314]\n",
            "251.71917858112928\n",
            "[[ 0.  0.]\n",
            " [ 0.  0.]\n",
            " [nan nan]\n",
            " [ 0.  0.]\n",
            " [ 0.  0.]\n",
            " [ 0.  0.]] [[0. 0. 0.]\n",
            " [0. 0. 0.]] [[0. 0.]\n",
            " [0. 0.]\n",
            " [0. 0.]] [[0.]\n",
            " [0.]] [0. 0.] [0. 0. 0.] [0. 0.] [-4965.99730314]\n",
            "251.71917858112928\n",
            "[[ 0.  0.]\n",
            " [ 0.  0.]\n",
            " [nan nan]\n",
            " [ 0.  0.]\n",
            " [ 0.  0.]\n",
            " [ 0.  0.]] [[0. 0. 0.]\n",
            " [0. 0. 0.]] [[0. 0.]\n",
            " [0. 0.]\n",
            " [0. 0.]] [[0.]\n",
            " [0.]] [0. 0.] [0. 0. 0.] [0. 0.] [-4965.99730314]\n",
            "251.71917858112928\n",
            "[[ 0.  0.]\n",
            " [ 0.  0.]\n",
            " [nan nan]\n",
            " [ 0.  0.]\n",
            " [ 0.  0.]\n",
            " [ 0.  0.]] [[0. 0. 0.]\n",
            " [0. 0. 0.]] [[0. 0.]\n",
            " [0. 0.]\n",
            " [0. 0.]] [[0.]\n",
            " [0.]] [0. 0.] [0. 0. 0.] [0. 0.] [-4965.99730314]\n",
            "251.71917858112928\n",
            "[[ 0.  0.]\n",
            " [ 0.  0.]\n",
            " [nan nan]\n",
            " [ 0.  0.]\n",
            " [ 0.  0.]\n",
            " [ 0.  0.]] [[0. 0. 0.]\n",
            " [0. 0. 0.]] [[0. 0.]\n",
            " [0. 0.]\n",
            " [0. 0.]] [[0.]\n",
            " [0.]] [0. 0.] [0. 0. 0.] [0. 0.] [-4965.99730314]\n",
            "251.71917858112928\n",
            "[[ 0.  0.]\n",
            " [ 0.  0.]\n",
            " [nan nan]\n",
            " [ 0.  0.]\n",
            " [ 0.  0.]\n",
            " [ 0.  0.]] [[0. 0. 0.]\n",
            " [0. 0. 0.]] [[0. 0.]\n",
            " [0. 0.]\n",
            " [0. 0.]] [[0.]\n",
            " [0.]] [0. 0.] [0. 0. 0.] [0. 0.] [-4965.99730314]\n",
            "251.71917858112928\n",
            "[[ 0.  0.]\n",
            " [ 0.  0.]\n",
            " [nan nan]\n",
            " [ 0.  0.]\n",
            " [ 0.  0.]\n",
            " [ 0.  0.]] [[0. 0. 0.]\n",
            " [0. 0. 0.]] [[0. 0.]\n",
            " [0. 0.]\n",
            " [0. 0.]] [[0.]\n",
            " [0.]] [0. 0.] [0. 0. 0.] [0. 0.] [-4965.99730314]\n",
            "251.71917858112928\n",
            "[[ 0.  0.]\n",
            " [ 0.  0.]\n",
            " [nan nan]\n",
            " [ 0.  0.]\n",
            " [ 0.  0.]\n",
            " [ 0.  0.]] [[0. 0. 0.]\n",
            " [0. 0. 0.]] [[0. 0.]\n",
            " [0. 0.]\n",
            " [0. 0.]] [[0.]\n",
            " [0.]] [0. 0.] [0. 0. 0.] [0. 0.] [-4965.99730314]\n",
            "251.71917858112928\n"
          ]
        },
        {
          "output_type": "display_data",
          "data": {
            "text/plain": [
              "<Figure size 640x480 with 1 Axes>"
            ],
            "image/svg+xml": "<?xml version=\"1.0\" encoding=\"utf-8\" standalone=\"no\"?>\n<!DOCTYPE svg PUBLIC \"-//W3C//DTD SVG 1.1//EN\"\n  \"http://www.w3.org/Graphics/SVG/1.1/DTD/svg11.dtd\">\n<svg xmlns:xlink=\"http://www.w3.org/1999/xlink\" width=\"433.55125pt\" height=\"325.986375pt\" viewBox=\"0 0 433.55125 325.986375\" xmlns=\"http://www.w3.org/2000/svg\" version=\"1.1\">\n <metadata>\n  <rdf:RDF xmlns:dc=\"http://purl.org/dc/elements/1.1/\" xmlns:cc=\"http://creativecommons.org/ns#\" xmlns:rdf=\"http://www.w3.org/1999/02/22-rdf-syntax-ns#\">\n   <cc:Work>\n    <dc:type rdf:resource=\"http://purl.org/dc/dcmitype/StillImage\"/>\n    <dc:date>2024-09-13T16:09:11.371125</dc:date>\n    <dc:format>image/svg+xml</dc:format>\n    <dc:creator>\n     <cc:Agent>\n      <dc:title>Matplotlib v3.7.1, https://matplotlib.org/</dc:title>\n     </cc:Agent>\n    </dc:creator>\n   </cc:Work>\n  </rdf:RDF>\n </metadata>\n <defs>\n  <style type=\"text/css\">*{stroke-linejoin: round; stroke-linecap: butt}</style>\n </defs>\n <g id=\"figure_1\">\n  <g id=\"patch_1\">\n   <path d=\"M 0 325.986375 \nL 433.55125 325.986375 \nL 433.55125 0 \nL 0 0 \nz\n\" style=\"fill: #ffffff\"/>\n  </g>\n  <g id=\"axes_1\">\n   <g id=\"patch_2\">\n    <path d=\"M 69.23125 288.430125 \nL 426.35125 288.430125 \nL 426.35125 22.318125 \nL 69.23125 22.318125 \nz\n\" style=\"fill: #ffffff\"/>\n   </g>\n   <g id=\"matplotlib.axis_1\">\n    <g id=\"xtick_1\">\n     <g id=\"line2d_1\">\n      <defs>\n       <path id=\"m4cef69fb37\" d=\"M 0 0 \nL 0 3.5 \n\" style=\"stroke: #000000; stroke-width: 0.8\"/>\n      </defs>\n      <g>\n       <use xlink:href=\"#m4cef69fb37\" x=\"85.463977\" y=\"288.430125\" style=\"stroke: #000000; stroke-width: 0.8\"/>\n      </g>\n     </g>\n     <g id=\"text_1\">\n      <!-- 0.0 -->\n      <g transform=\"translate(77.512415 303.028562) scale(0.1 -0.1)\">\n       <defs>\n        <path id=\"DejaVuSans-30\" d=\"M 2034 4250 \nQ 1547 4250 1301 3770 \nQ 1056 3291 1056 2328 \nQ 1056 1369 1301 889 \nQ 1547 409 2034 409 \nQ 2525 409 2770 889 \nQ 3016 1369 3016 2328 \nQ 3016 3291 2770 3770 \nQ 2525 4250 2034 4250 \nz\nM 2034 4750 \nQ 2819 4750 3233 4129 \nQ 3647 3509 3647 2328 \nQ 3647 1150 3233 529 \nQ 2819 -91 2034 -91 \nQ 1250 -91 836 529 \nQ 422 1150 422 2328 \nQ 422 3509 836 4129 \nQ 1250 4750 2034 4750 \nz\n\" transform=\"scale(0.015625)\"/>\n        <path id=\"DejaVuSans-2e\" d=\"M 684 794 \nL 1344 794 \nL 1344 0 \nL 684 0 \nL 684 794 \nz\n\" transform=\"scale(0.015625)\"/>\n       </defs>\n       <use xlink:href=\"#DejaVuSans-30\"/>\n       <use xlink:href=\"#DejaVuSans-2e\" x=\"63.623047\"/>\n       <use xlink:href=\"#DejaVuSans-30\" x=\"95.410156\"/>\n      </g>\n     </g>\n    </g>\n    <g id=\"xtick_2\">\n     <g id=\"line2d_2\">\n      <g>\n       <use xlink:href=\"#m4cef69fb37\" x=\"126.045795\" y=\"288.430125\" style=\"stroke: #000000; stroke-width: 0.8\"/>\n      </g>\n     </g>\n     <g id=\"text_2\">\n      <!-- 2.5 -->\n      <g transform=\"translate(118.094233 303.028562) scale(0.1 -0.1)\">\n       <defs>\n        <path id=\"DejaVuSans-32\" d=\"M 1228 531 \nL 3431 531 \nL 3431 0 \nL 469 0 \nL 469 531 \nQ 828 903 1448 1529 \nQ 2069 2156 2228 2338 \nQ 2531 2678 2651 2914 \nQ 2772 3150 2772 3378 \nQ 2772 3750 2511 3984 \nQ 2250 4219 1831 4219 \nQ 1534 4219 1204 4116 \nQ 875 4013 500 3803 \nL 500 4441 \nQ 881 4594 1212 4672 \nQ 1544 4750 1819 4750 \nQ 2544 4750 2975 4387 \nQ 3406 4025 3406 3419 \nQ 3406 3131 3298 2873 \nQ 3191 2616 2906 2266 \nQ 2828 2175 2409 1742 \nQ 1991 1309 1228 531 \nz\n\" transform=\"scale(0.015625)\"/>\n        <path id=\"DejaVuSans-35\" d=\"M 691 4666 \nL 3169 4666 \nL 3169 4134 \nL 1269 4134 \nL 1269 2991 \nQ 1406 3038 1543 3061 \nQ 1681 3084 1819 3084 \nQ 2600 3084 3056 2656 \nQ 3513 2228 3513 1497 \nQ 3513 744 3044 326 \nQ 2575 -91 1722 -91 \nQ 1428 -91 1123 -41 \nQ 819 9 494 109 \nL 494 744 \nQ 775 591 1075 516 \nQ 1375 441 1709 441 \nQ 2250 441 2565 725 \nQ 2881 1009 2881 1497 \nQ 2881 1984 2565 2268 \nQ 2250 2553 1709 2553 \nQ 1456 2553 1204 2497 \nQ 953 2441 691 2322 \nL 691 4666 \nz\n\" transform=\"scale(0.015625)\"/>\n       </defs>\n       <use xlink:href=\"#DejaVuSans-32\"/>\n       <use xlink:href=\"#DejaVuSans-2e\" x=\"63.623047\"/>\n       <use xlink:href=\"#DejaVuSans-35\" x=\"95.410156\"/>\n      </g>\n     </g>\n    </g>\n    <g id=\"xtick_3\">\n     <g id=\"line2d_3\">\n      <g>\n       <use xlink:href=\"#m4cef69fb37\" x=\"166.627614\" y=\"288.430125\" style=\"stroke: #000000; stroke-width: 0.8\"/>\n      </g>\n     </g>\n     <g id=\"text_3\">\n      <!-- 5.0 -->\n      <g transform=\"translate(158.676051 303.028562) scale(0.1 -0.1)\">\n       <use xlink:href=\"#DejaVuSans-35\"/>\n       <use xlink:href=\"#DejaVuSans-2e\" x=\"63.623047\"/>\n       <use xlink:href=\"#DejaVuSans-30\" x=\"95.410156\"/>\n      </g>\n     </g>\n    </g>\n    <g id=\"xtick_4\">\n     <g id=\"line2d_4\">\n      <g>\n       <use xlink:href=\"#m4cef69fb37\" x=\"207.209432\" y=\"288.430125\" style=\"stroke: #000000; stroke-width: 0.8\"/>\n      </g>\n     </g>\n     <g id=\"text_4\">\n      <!-- 7.5 -->\n      <g transform=\"translate(199.257869 303.028562) scale(0.1 -0.1)\">\n       <defs>\n        <path id=\"DejaVuSans-37\" d=\"M 525 4666 \nL 3525 4666 \nL 3525 4397 \nL 1831 0 \nL 1172 0 \nL 2766 4134 \nL 525 4134 \nL 525 4666 \nz\n\" transform=\"scale(0.015625)\"/>\n       </defs>\n       <use xlink:href=\"#DejaVuSans-37\"/>\n       <use xlink:href=\"#DejaVuSans-2e\" x=\"63.623047\"/>\n       <use xlink:href=\"#DejaVuSans-35\" x=\"95.410156\"/>\n      </g>\n     </g>\n    </g>\n    <g id=\"xtick_5\">\n     <g id=\"line2d_5\">\n      <g>\n       <use xlink:href=\"#m4cef69fb37\" x=\"247.79125\" y=\"288.430125\" style=\"stroke: #000000; stroke-width: 0.8\"/>\n      </g>\n     </g>\n     <g id=\"text_5\">\n      <!-- 10.0 -->\n      <g transform=\"translate(236.658438 303.028562) scale(0.1 -0.1)\">\n       <defs>\n        <path id=\"DejaVuSans-31\" d=\"M 794 531 \nL 1825 531 \nL 1825 4091 \nL 703 3866 \nL 703 4441 \nL 1819 4666 \nL 2450 4666 \nL 2450 531 \nL 3481 531 \nL 3481 0 \nL 794 0 \nL 794 531 \nz\n\" transform=\"scale(0.015625)\"/>\n       </defs>\n       <use xlink:href=\"#DejaVuSans-31\"/>\n       <use xlink:href=\"#DejaVuSans-30\" x=\"63.623047\"/>\n       <use xlink:href=\"#DejaVuSans-2e\" x=\"127.246094\"/>\n       <use xlink:href=\"#DejaVuSans-30\" x=\"159.033203\"/>\n      </g>\n     </g>\n    </g>\n    <g id=\"xtick_6\">\n     <g id=\"line2d_6\">\n      <g>\n       <use xlink:href=\"#m4cef69fb37\" x=\"288.373068\" y=\"288.430125\" style=\"stroke: #000000; stroke-width: 0.8\"/>\n      </g>\n     </g>\n     <g id=\"text_6\">\n      <!-- 12.5 -->\n      <g transform=\"translate(277.240256 303.028562) scale(0.1 -0.1)\">\n       <use xlink:href=\"#DejaVuSans-31\"/>\n       <use xlink:href=\"#DejaVuSans-32\" x=\"63.623047\"/>\n       <use xlink:href=\"#DejaVuSans-2e\" x=\"127.246094\"/>\n       <use xlink:href=\"#DejaVuSans-35\" x=\"159.033203\"/>\n      </g>\n     </g>\n    </g>\n    <g id=\"xtick_7\">\n     <g id=\"line2d_7\">\n      <g>\n       <use xlink:href=\"#m4cef69fb37\" x=\"328.954886\" y=\"288.430125\" style=\"stroke: #000000; stroke-width: 0.8\"/>\n      </g>\n     </g>\n     <g id=\"text_7\">\n      <!-- 15.0 -->\n      <g transform=\"translate(317.822074 303.028562) scale(0.1 -0.1)\">\n       <use xlink:href=\"#DejaVuSans-31\"/>\n       <use xlink:href=\"#DejaVuSans-35\" x=\"63.623047\"/>\n       <use xlink:href=\"#DejaVuSans-2e\" x=\"127.246094\"/>\n       <use xlink:href=\"#DejaVuSans-30\" x=\"159.033203\"/>\n      </g>\n     </g>\n    </g>\n    <g id=\"xtick_8\">\n     <g id=\"line2d_8\">\n      <g>\n       <use xlink:href=\"#m4cef69fb37\" x=\"369.536705\" y=\"288.430125\" style=\"stroke: #000000; stroke-width: 0.8\"/>\n      </g>\n     </g>\n     <g id=\"text_8\">\n      <!-- 17.5 -->\n      <g transform=\"translate(358.403892 303.028562) scale(0.1 -0.1)\">\n       <use xlink:href=\"#DejaVuSans-31\"/>\n       <use xlink:href=\"#DejaVuSans-37\" x=\"63.623047\"/>\n       <use xlink:href=\"#DejaVuSans-2e\" x=\"127.246094\"/>\n       <use xlink:href=\"#DejaVuSans-35\" x=\"159.033203\"/>\n      </g>\n     </g>\n    </g>\n    <g id=\"xtick_9\">\n     <g id=\"line2d_9\">\n      <g>\n       <use xlink:href=\"#m4cef69fb37\" x=\"410.118523\" y=\"288.430125\" style=\"stroke: #000000; stroke-width: 0.8\"/>\n      </g>\n     </g>\n     <g id=\"text_9\">\n      <!-- 20.0 -->\n      <g transform=\"translate(398.98571 303.028562) scale(0.1 -0.1)\">\n       <use xlink:href=\"#DejaVuSans-32\"/>\n       <use xlink:href=\"#DejaVuSans-30\" x=\"63.623047\"/>\n       <use xlink:href=\"#DejaVuSans-2e\" x=\"127.246094\"/>\n       <use xlink:href=\"#DejaVuSans-30\" x=\"159.033203\"/>\n      </g>\n     </g>\n    </g>\n    <g id=\"text_10\">\n     <!-- Epochs -->\n     <g transform=\"translate(229.875625 316.706687) scale(0.1 -0.1)\">\n      <defs>\n       <path id=\"DejaVuSans-45\" d=\"M 628 4666 \nL 3578 4666 \nL 3578 4134 \nL 1259 4134 \nL 1259 2753 \nL 3481 2753 \nL 3481 2222 \nL 1259 2222 \nL 1259 531 \nL 3634 531 \nL 3634 0 \nL 628 0 \nL 628 4666 \nz\n\" transform=\"scale(0.015625)\"/>\n       <path id=\"DejaVuSans-70\" d=\"M 1159 525 \nL 1159 -1331 \nL 581 -1331 \nL 581 3500 \nL 1159 3500 \nL 1159 2969 \nQ 1341 3281 1617 3432 \nQ 1894 3584 2278 3584 \nQ 2916 3584 3314 3078 \nQ 3713 2572 3713 1747 \nQ 3713 922 3314 415 \nQ 2916 -91 2278 -91 \nQ 1894 -91 1617 61 \nQ 1341 213 1159 525 \nz\nM 3116 1747 \nQ 3116 2381 2855 2742 \nQ 2594 3103 2138 3103 \nQ 1681 3103 1420 2742 \nQ 1159 2381 1159 1747 \nQ 1159 1113 1420 752 \nQ 1681 391 2138 391 \nQ 2594 391 2855 752 \nQ 3116 1113 3116 1747 \nz\n\" transform=\"scale(0.015625)\"/>\n       <path id=\"DejaVuSans-6f\" d=\"M 1959 3097 \nQ 1497 3097 1228 2736 \nQ 959 2375 959 1747 \nQ 959 1119 1226 758 \nQ 1494 397 1959 397 \nQ 2419 397 2687 759 \nQ 2956 1122 2956 1747 \nQ 2956 2369 2687 2733 \nQ 2419 3097 1959 3097 \nz\nM 1959 3584 \nQ 2709 3584 3137 3096 \nQ 3566 2609 3566 1747 \nQ 3566 888 3137 398 \nQ 2709 -91 1959 -91 \nQ 1206 -91 779 398 \nQ 353 888 353 1747 \nQ 353 2609 779 3096 \nQ 1206 3584 1959 3584 \nz\n\" transform=\"scale(0.015625)\"/>\n       <path id=\"DejaVuSans-63\" d=\"M 3122 3366 \nL 3122 2828 \nQ 2878 2963 2633 3030 \nQ 2388 3097 2138 3097 \nQ 1578 3097 1268 2742 \nQ 959 2388 959 1747 \nQ 959 1106 1268 751 \nQ 1578 397 2138 397 \nQ 2388 397 2633 464 \nQ 2878 531 3122 666 \nL 3122 134 \nQ 2881 22 2623 -34 \nQ 2366 -91 2075 -91 \nQ 1284 -91 818 406 \nQ 353 903 353 1747 \nQ 353 2603 823 3093 \nQ 1294 3584 2113 3584 \nQ 2378 3584 2631 3529 \nQ 2884 3475 3122 3366 \nz\n\" transform=\"scale(0.015625)\"/>\n       <path id=\"DejaVuSans-68\" d=\"M 3513 2113 \nL 3513 0 \nL 2938 0 \nL 2938 2094 \nQ 2938 2591 2744 2837 \nQ 2550 3084 2163 3084 \nQ 1697 3084 1428 2787 \nQ 1159 2491 1159 1978 \nL 1159 0 \nL 581 0 \nL 581 4863 \nL 1159 4863 \nL 1159 2956 \nQ 1366 3272 1645 3428 \nQ 1925 3584 2291 3584 \nQ 2894 3584 3203 3211 \nQ 3513 2838 3513 2113 \nz\n\" transform=\"scale(0.015625)\"/>\n       <path id=\"DejaVuSans-73\" d=\"M 2834 3397 \nL 2834 2853 \nQ 2591 2978 2328 3040 \nQ 2066 3103 1784 3103 \nQ 1356 3103 1142 2972 \nQ 928 2841 928 2578 \nQ 928 2378 1081 2264 \nQ 1234 2150 1697 2047 \nL 1894 2003 \nQ 2506 1872 2764 1633 \nQ 3022 1394 3022 966 \nQ 3022 478 2636 193 \nQ 2250 -91 1575 -91 \nQ 1294 -91 989 -36 \nQ 684 19 347 128 \nL 347 722 \nQ 666 556 975 473 \nQ 1284 391 1588 391 \nQ 1994 391 2212 530 \nQ 2431 669 2431 922 \nQ 2431 1156 2273 1281 \nQ 2116 1406 1581 1522 \nL 1381 1569 \nQ 847 1681 609 1914 \nQ 372 2147 372 2553 \nQ 372 3047 722 3315 \nQ 1072 3584 1716 3584 \nQ 2034 3584 2315 3537 \nQ 2597 3491 2834 3397 \nz\n\" transform=\"scale(0.015625)\"/>\n      </defs>\n      <use xlink:href=\"#DejaVuSans-45\"/>\n      <use xlink:href=\"#DejaVuSans-70\" x=\"63.183594\"/>\n      <use xlink:href=\"#DejaVuSans-6f\" x=\"126.660156\"/>\n      <use xlink:href=\"#DejaVuSans-63\" x=\"187.841797\"/>\n      <use xlink:href=\"#DejaVuSans-68\" x=\"242.822266\"/>\n      <use xlink:href=\"#DejaVuSans-73\" x=\"306.201172\"/>\n     </g>\n    </g>\n   </g>\n   <g id=\"matplotlib.axis_2\">\n    <g id=\"ytick_1\">\n     <g id=\"line2d_10\">\n      <defs>\n       <path id=\"m9fb31372cb\" d=\"M 0 0 \nL -3.5 0 \n\" style=\"stroke: #000000; stroke-width: 0.8\"/>\n      </defs>\n      <g>\n       <use xlink:href=\"#m9fb31372cb\" x=\"69.23125\" y=\"261.779467\" style=\"stroke: #000000; stroke-width: 0.8\"/>\n      </g>\n     </g>\n     <g id=\"text_11\">\n      <!-- 0.00020 -->\n      <g transform=\"translate(20.878125 265.578686) scale(0.1 -0.1)\">\n       <use xlink:href=\"#DejaVuSans-30\"/>\n       <use xlink:href=\"#DejaVuSans-2e\" x=\"63.623047\"/>\n       <use xlink:href=\"#DejaVuSans-30\" x=\"95.410156\"/>\n       <use xlink:href=\"#DejaVuSans-30\" x=\"159.033203\"/>\n       <use xlink:href=\"#DejaVuSans-30\" x=\"222.65625\"/>\n       <use xlink:href=\"#DejaVuSans-32\" x=\"286.279297\"/>\n       <use xlink:href=\"#DejaVuSans-30\" x=\"349.902344\"/>\n      </g>\n     </g>\n    </g>\n    <g id=\"ytick_2\">\n     <g id=\"line2d_11\">\n      <g>\n       <use xlink:href=\"#m9fb31372cb\" x=\"69.23125\" y=\"227.803217\" style=\"stroke: #000000; stroke-width: 0.8\"/>\n      </g>\n     </g>\n     <g id=\"text_12\">\n      <!-- 0.00025 -->\n      <g transform=\"translate(20.878125 231.602436) scale(0.1 -0.1)\">\n       <use xlink:href=\"#DejaVuSans-30\"/>\n       <use xlink:href=\"#DejaVuSans-2e\" x=\"63.623047\"/>\n       <use xlink:href=\"#DejaVuSans-30\" x=\"95.410156\"/>\n       <use xlink:href=\"#DejaVuSans-30\" x=\"159.033203\"/>\n       <use xlink:href=\"#DejaVuSans-30\" x=\"222.65625\"/>\n       <use xlink:href=\"#DejaVuSans-32\" x=\"286.279297\"/>\n       <use xlink:href=\"#DejaVuSans-35\" x=\"349.902344\"/>\n      </g>\n     </g>\n    </g>\n    <g id=\"ytick_3\">\n     <g id=\"line2d_12\">\n      <g>\n       <use xlink:href=\"#m9fb31372cb\" x=\"69.23125\" y=\"193.826968\" style=\"stroke: #000000; stroke-width: 0.8\"/>\n      </g>\n     </g>\n     <g id=\"text_13\">\n      <!-- 0.00030 -->\n      <g transform=\"translate(20.878125 197.626187) scale(0.1 -0.1)\">\n       <defs>\n        <path id=\"DejaVuSans-33\" d=\"M 2597 2516 \nQ 3050 2419 3304 2112 \nQ 3559 1806 3559 1356 \nQ 3559 666 3084 287 \nQ 2609 -91 1734 -91 \nQ 1441 -91 1130 -33 \nQ 819 25 488 141 \nL 488 750 \nQ 750 597 1062 519 \nQ 1375 441 1716 441 \nQ 2309 441 2620 675 \nQ 2931 909 2931 1356 \nQ 2931 1769 2642 2001 \nQ 2353 2234 1838 2234 \nL 1294 2234 \nL 1294 2753 \nL 1863 2753 \nQ 2328 2753 2575 2939 \nQ 2822 3125 2822 3475 \nQ 2822 3834 2567 4026 \nQ 2313 4219 1838 4219 \nQ 1578 4219 1281 4162 \nQ 984 4106 628 3988 \nL 628 4550 \nQ 988 4650 1302 4700 \nQ 1616 4750 1894 4750 \nQ 2613 4750 3031 4423 \nQ 3450 4097 3450 3541 \nQ 3450 3153 3228 2886 \nQ 3006 2619 2597 2516 \nz\n\" transform=\"scale(0.015625)\"/>\n       </defs>\n       <use xlink:href=\"#DejaVuSans-30\"/>\n       <use xlink:href=\"#DejaVuSans-2e\" x=\"63.623047\"/>\n       <use xlink:href=\"#DejaVuSans-30\" x=\"95.410156\"/>\n       <use xlink:href=\"#DejaVuSans-30\" x=\"159.033203\"/>\n       <use xlink:href=\"#DejaVuSans-30\" x=\"222.65625\"/>\n       <use xlink:href=\"#DejaVuSans-33\" x=\"286.279297\"/>\n       <use xlink:href=\"#DejaVuSans-30\" x=\"349.902344\"/>\n      </g>\n     </g>\n    </g>\n    <g id=\"ytick_4\">\n     <g id=\"line2d_13\">\n      <g>\n       <use xlink:href=\"#m9fb31372cb\" x=\"69.23125\" y=\"159.850718\" style=\"stroke: #000000; stroke-width: 0.8\"/>\n      </g>\n     </g>\n     <g id=\"text_14\">\n      <!-- 0.00035 -->\n      <g transform=\"translate(20.878125 163.649937) scale(0.1 -0.1)\">\n       <use xlink:href=\"#DejaVuSans-30\"/>\n       <use xlink:href=\"#DejaVuSans-2e\" x=\"63.623047\"/>\n       <use xlink:href=\"#DejaVuSans-30\" x=\"95.410156\"/>\n       <use xlink:href=\"#DejaVuSans-30\" x=\"159.033203\"/>\n       <use xlink:href=\"#DejaVuSans-30\" x=\"222.65625\"/>\n       <use xlink:href=\"#DejaVuSans-33\" x=\"286.279297\"/>\n       <use xlink:href=\"#DejaVuSans-35\" x=\"349.902344\"/>\n      </g>\n     </g>\n    </g>\n    <g id=\"ytick_5\">\n     <g id=\"line2d_14\">\n      <g>\n       <use xlink:href=\"#m9fb31372cb\" x=\"69.23125\" y=\"125.874469\" style=\"stroke: #000000; stroke-width: 0.8\"/>\n      </g>\n     </g>\n     <g id=\"text_15\">\n      <!-- 0.00040 -->\n      <g transform=\"translate(20.878125 129.673687) scale(0.1 -0.1)\">\n       <defs>\n        <path id=\"DejaVuSans-34\" d=\"M 2419 4116 \nL 825 1625 \nL 2419 1625 \nL 2419 4116 \nz\nM 2253 4666 \nL 3047 4666 \nL 3047 1625 \nL 3713 1625 \nL 3713 1100 \nL 3047 1100 \nL 3047 0 \nL 2419 0 \nL 2419 1100 \nL 313 1100 \nL 313 1709 \nL 2253 4666 \nz\n\" transform=\"scale(0.015625)\"/>\n       </defs>\n       <use xlink:href=\"#DejaVuSans-30\"/>\n       <use xlink:href=\"#DejaVuSans-2e\" x=\"63.623047\"/>\n       <use xlink:href=\"#DejaVuSans-30\" x=\"95.410156\"/>\n       <use xlink:href=\"#DejaVuSans-30\" x=\"159.033203\"/>\n       <use xlink:href=\"#DejaVuSans-30\" x=\"222.65625\"/>\n       <use xlink:href=\"#DejaVuSans-34\" x=\"286.279297\"/>\n       <use xlink:href=\"#DejaVuSans-30\" x=\"349.902344\"/>\n      </g>\n     </g>\n    </g>\n    <g id=\"ytick_6\">\n     <g id=\"line2d_15\">\n      <g>\n       <use xlink:href=\"#m9fb31372cb\" x=\"69.23125\" y=\"91.898219\" style=\"stroke: #000000; stroke-width: 0.8\"/>\n      </g>\n     </g>\n     <g id=\"text_16\">\n      <!-- 0.00045 -->\n      <g transform=\"translate(20.878125 95.697438) scale(0.1 -0.1)\">\n       <use xlink:href=\"#DejaVuSans-30\"/>\n       <use xlink:href=\"#DejaVuSans-2e\" x=\"63.623047\"/>\n       <use xlink:href=\"#DejaVuSans-30\" x=\"95.410156\"/>\n       <use xlink:href=\"#DejaVuSans-30\" x=\"159.033203\"/>\n       <use xlink:href=\"#DejaVuSans-30\" x=\"222.65625\"/>\n       <use xlink:href=\"#DejaVuSans-34\" x=\"286.279297\"/>\n       <use xlink:href=\"#DejaVuSans-35\" x=\"349.902344\"/>\n      </g>\n     </g>\n    </g>\n    <g id=\"ytick_7\">\n     <g id=\"line2d_16\">\n      <g>\n       <use xlink:href=\"#m9fb31372cb\" x=\"69.23125\" y=\"57.92197\" style=\"stroke: #000000; stroke-width: 0.8\"/>\n      </g>\n     </g>\n     <g id=\"text_17\">\n      <!-- 0.00050 -->\n      <g transform=\"translate(20.878125 61.721188) scale(0.1 -0.1)\">\n       <use xlink:href=\"#DejaVuSans-30\"/>\n       <use xlink:href=\"#DejaVuSans-2e\" x=\"63.623047\"/>\n       <use xlink:href=\"#DejaVuSans-30\" x=\"95.410156\"/>\n       <use xlink:href=\"#DejaVuSans-30\" x=\"159.033203\"/>\n       <use xlink:href=\"#DejaVuSans-30\" x=\"222.65625\"/>\n       <use xlink:href=\"#DejaVuSans-35\" x=\"286.279297\"/>\n       <use xlink:href=\"#DejaVuSans-30\" x=\"349.902344\"/>\n      </g>\n     </g>\n    </g>\n    <g id=\"ytick_8\">\n     <g id=\"line2d_17\">\n      <g>\n       <use xlink:href=\"#m9fb31372cb\" x=\"69.23125\" y=\"23.94572\" style=\"stroke: #000000; stroke-width: 0.8\"/>\n      </g>\n     </g>\n     <g id=\"text_18\">\n      <!-- 0.00055 -->\n      <g transform=\"translate(20.878125 27.744939) scale(0.1 -0.1)\">\n       <use xlink:href=\"#DejaVuSans-30\"/>\n       <use xlink:href=\"#DejaVuSans-2e\" x=\"63.623047\"/>\n       <use xlink:href=\"#DejaVuSans-30\" x=\"95.410156\"/>\n       <use xlink:href=\"#DejaVuSans-30\" x=\"159.033203\"/>\n       <use xlink:href=\"#DejaVuSans-30\" x=\"222.65625\"/>\n       <use xlink:href=\"#DejaVuSans-35\" x=\"286.279297\"/>\n       <use xlink:href=\"#DejaVuSans-35\" x=\"349.902344\"/>\n      </g>\n     </g>\n    </g>\n    <g id=\"text_19\">\n     <!-- Mean Squared Loss -->\n     <g transform=\"translate(14.798438 203.917875) rotate(-90) scale(0.1 -0.1)\">\n      <defs>\n       <path id=\"DejaVuSans-4d\" d=\"M 628 4666 \nL 1569 4666 \nL 2759 1491 \nL 3956 4666 \nL 4897 4666 \nL 4897 0 \nL 4281 0 \nL 4281 4097 \nL 3078 897 \nL 2444 897 \nL 1241 4097 \nL 1241 0 \nL 628 0 \nL 628 4666 \nz\n\" transform=\"scale(0.015625)\"/>\n       <path id=\"DejaVuSans-65\" d=\"M 3597 1894 \nL 3597 1613 \nL 953 1613 \nQ 991 1019 1311 708 \nQ 1631 397 2203 397 \nQ 2534 397 2845 478 \nQ 3156 559 3463 722 \nL 3463 178 \nQ 3153 47 2828 -22 \nQ 2503 -91 2169 -91 \nQ 1331 -91 842 396 \nQ 353 884 353 1716 \nQ 353 2575 817 3079 \nQ 1281 3584 2069 3584 \nQ 2775 3584 3186 3129 \nQ 3597 2675 3597 1894 \nz\nM 3022 2063 \nQ 3016 2534 2758 2815 \nQ 2500 3097 2075 3097 \nQ 1594 3097 1305 2825 \nQ 1016 2553 972 2059 \nL 3022 2063 \nz\n\" transform=\"scale(0.015625)\"/>\n       <path id=\"DejaVuSans-61\" d=\"M 2194 1759 \nQ 1497 1759 1228 1600 \nQ 959 1441 959 1056 \nQ 959 750 1161 570 \nQ 1363 391 1709 391 \nQ 2188 391 2477 730 \nQ 2766 1069 2766 1631 \nL 2766 1759 \nL 2194 1759 \nz\nM 3341 1997 \nL 3341 0 \nL 2766 0 \nL 2766 531 \nQ 2569 213 2275 61 \nQ 1981 -91 1556 -91 \nQ 1019 -91 701 211 \nQ 384 513 384 1019 \nQ 384 1609 779 1909 \nQ 1175 2209 1959 2209 \nL 2766 2209 \nL 2766 2266 \nQ 2766 2663 2505 2880 \nQ 2244 3097 1772 3097 \nQ 1472 3097 1187 3025 \nQ 903 2953 641 2809 \nL 641 3341 \nQ 956 3463 1253 3523 \nQ 1550 3584 1831 3584 \nQ 2591 3584 2966 3190 \nQ 3341 2797 3341 1997 \nz\n\" transform=\"scale(0.015625)\"/>\n       <path id=\"DejaVuSans-6e\" d=\"M 3513 2113 \nL 3513 0 \nL 2938 0 \nL 2938 2094 \nQ 2938 2591 2744 2837 \nQ 2550 3084 2163 3084 \nQ 1697 3084 1428 2787 \nQ 1159 2491 1159 1978 \nL 1159 0 \nL 581 0 \nL 581 3500 \nL 1159 3500 \nL 1159 2956 \nQ 1366 3272 1645 3428 \nQ 1925 3584 2291 3584 \nQ 2894 3584 3203 3211 \nQ 3513 2838 3513 2113 \nz\n\" transform=\"scale(0.015625)\"/>\n       <path id=\"DejaVuSans-20\" transform=\"scale(0.015625)\"/>\n       <path id=\"DejaVuSans-53\" d=\"M 3425 4513 \nL 3425 3897 \nQ 3066 4069 2747 4153 \nQ 2428 4238 2131 4238 \nQ 1616 4238 1336 4038 \nQ 1056 3838 1056 3469 \nQ 1056 3159 1242 3001 \nQ 1428 2844 1947 2747 \nL 2328 2669 \nQ 3034 2534 3370 2195 \nQ 3706 1856 3706 1288 \nQ 3706 609 3251 259 \nQ 2797 -91 1919 -91 \nQ 1588 -91 1214 -16 \nQ 841 59 441 206 \nL 441 856 \nQ 825 641 1194 531 \nQ 1563 422 1919 422 \nQ 2459 422 2753 634 \nQ 3047 847 3047 1241 \nQ 3047 1584 2836 1778 \nQ 2625 1972 2144 2069 \nL 1759 2144 \nQ 1053 2284 737 2584 \nQ 422 2884 422 3419 \nQ 422 4038 858 4394 \nQ 1294 4750 2059 4750 \nQ 2388 4750 2728 4690 \nQ 3069 4631 3425 4513 \nz\n\" transform=\"scale(0.015625)\"/>\n       <path id=\"DejaVuSans-71\" d=\"M 947 1747 \nQ 947 1113 1208 752 \nQ 1469 391 1925 391 \nQ 2381 391 2643 752 \nQ 2906 1113 2906 1747 \nQ 2906 2381 2643 2742 \nQ 2381 3103 1925 3103 \nQ 1469 3103 1208 2742 \nQ 947 2381 947 1747 \nz\nM 2906 525 \nQ 2725 213 2448 61 \nQ 2172 -91 1784 -91 \nQ 1150 -91 751 415 \nQ 353 922 353 1747 \nQ 353 2572 751 3078 \nQ 1150 3584 1784 3584 \nQ 2172 3584 2448 3432 \nQ 2725 3281 2906 2969 \nL 2906 3500 \nL 3481 3500 \nL 3481 -1331 \nL 2906 -1331 \nL 2906 525 \nz\n\" transform=\"scale(0.015625)\"/>\n       <path id=\"DejaVuSans-75\" d=\"M 544 1381 \nL 544 3500 \nL 1119 3500 \nL 1119 1403 \nQ 1119 906 1312 657 \nQ 1506 409 1894 409 \nQ 2359 409 2629 706 \nQ 2900 1003 2900 1516 \nL 2900 3500 \nL 3475 3500 \nL 3475 0 \nL 2900 0 \nL 2900 538 \nQ 2691 219 2414 64 \nQ 2138 -91 1772 -91 \nQ 1169 -91 856 284 \nQ 544 659 544 1381 \nz\nM 1991 3584 \nL 1991 3584 \nz\n\" transform=\"scale(0.015625)\"/>\n       <path id=\"DejaVuSans-72\" d=\"M 2631 2963 \nQ 2534 3019 2420 3045 \nQ 2306 3072 2169 3072 \nQ 1681 3072 1420 2755 \nQ 1159 2438 1159 1844 \nL 1159 0 \nL 581 0 \nL 581 3500 \nL 1159 3500 \nL 1159 2956 \nQ 1341 3275 1631 3429 \nQ 1922 3584 2338 3584 \nQ 2397 3584 2469 3576 \nQ 2541 3569 2628 3553 \nL 2631 2963 \nz\n\" transform=\"scale(0.015625)\"/>\n       <path id=\"DejaVuSans-64\" d=\"M 2906 2969 \nL 2906 4863 \nL 3481 4863 \nL 3481 0 \nL 2906 0 \nL 2906 525 \nQ 2725 213 2448 61 \nQ 2172 -91 1784 -91 \nQ 1150 -91 751 415 \nQ 353 922 353 1747 \nQ 353 2572 751 3078 \nQ 1150 3584 1784 3584 \nQ 2172 3584 2448 3432 \nQ 2725 3281 2906 2969 \nz\nM 947 1747 \nQ 947 1113 1208 752 \nQ 1469 391 1925 391 \nQ 2381 391 2643 752 \nQ 2906 1113 2906 1747 \nQ 2906 2381 2643 2742 \nQ 2381 3103 1925 3103 \nQ 1469 3103 1208 2742 \nQ 947 2381 947 1747 \nz\n\" transform=\"scale(0.015625)\"/>\n       <path id=\"DejaVuSans-4c\" d=\"M 628 4666 \nL 1259 4666 \nL 1259 531 \nL 3531 531 \nL 3531 0 \nL 628 0 \nL 628 4666 \nz\n\" transform=\"scale(0.015625)\"/>\n      </defs>\n      <use xlink:href=\"#DejaVuSans-4d\"/>\n      <use xlink:href=\"#DejaVuSans-65\" x=\"86.279297\"/>\n      <use xlink:href=\"#DejaVuSans-61\" x=\"147.802734\"/>\n      <use xlink:href=\"#DejaVuSans-6e\" x=\"209.082031\"/>\n      <use xlink:href=\"#DejaVuSans-20\" x=\"272.460938\"/>\n      <use xlink:href=\"#DejaVuSans-53\" x=\"304.248047\"/>\n      <use xlink:href=\"#DejaVuSans-71\" x=\"367.724609\"/>\n      <use xlink:href=\"#DejaVuSans-75\" x=\"431.201172\"/>\n      <use xlink:href=\"#DejaVuSans-61\" x=\"494.580078\"/>\n      <use xlink:href=\"#DejaVuSans-72\" x=\"555.859375\"/>\n      <use xlink:href=\"#DejaVuSans-65\" x=\"594.722656\"/>\n      <use xlink:href=\"#DejaVuSans-64\" x=\"656.246094\"/>\n      <use xlink:href=\"#DejaVuSans-20\" x=\"719.722656\"/>\n      <use xlink:href=\"#DejaVuSans-4c\" x=\"751.509766\"/>\n      <use xlink:href=\"#DejaVuSans-6f\" x=\"805.472656\"/>\n      <use xlink:href=\"#DejaVuSans-73\" x=\"866.654297\"/>\n      <use xlink:href=\"#DejaVuSans-73\" x=\"918.753906\"/>\n     </g>\n    </g>\n    <g id=\"text_20\">\n     <!-- +2.51719e2 -->\n     <g transform=\"translate(69.23125 19.318125) scale(0.1 -0.1)\">\n      <defs>\n       <path id=\"DejaVuSans-2b\" d=\"M 2944 4013 \nL 2944 2272 \nL 4684 2272 \nL 4684 1741 \nL 2944 1741 \nL 2944 0 \nL 2419 0 \nL 2419 1741 \nL 678 1741 \nL 678 2272 \nL 2419 2272 \nL 2419 4013 \nL 2944 4013 \nz\n\" transform=\"scale(0.015625)\"/>\n       <path id=\"DejaVuSans-39\" d=\"M 703 97 \nL 703 672 \nQ 941 559 1184 500 \nQ 1428 441 1663 441 \nQ 2288 441 2617 861 \nQ 2947 1281 2994 2138 \nQ 2813 1869 2534 1725 \nQ 2256 1581 1919 1581 \nQ 1219 1581 811 2004 \nQ 403 2428 403 3163 \nQ 403 3881 828 4315 \nQ 1253 4750 1959 4750 \nQ 2769 4750 3195 4129 \nQ 3622 3509 3622 2328 \nQ 3622 1225 3098 567 \nQ 2575 -91 1691 -91 \nQ 1453 -91 1209 -44 \nQ 966 3 703 97 \nz\nM 1959 2075 \nQ 2384 2075 2632 2365 \nQ 2881 2656 2881 3163 \nQ 2881 3666 2632 3958 \nQ 2384 4250 1959 4250 \nQ 1534 4250 1286 3958 \nQ 1038 3666 1038 3163 \nQ 1038 2656 1286 2365 \nQ 1534 2075 1959 2075 \nz\n\" transform=\"scale(0.015625)\"/>\n      </defs>\n      <use xlink:href=\"#DejaVuSans-2b\"/>\n      <use xlink:href=\"#DejaVuSans-32\" x=\"83.789062\"/>\n      <use xlink:href=\"#DejaVuSans-2e\" x=\"147.412109\"/>\n      <use xlink:href=\"#DejaVuSans-35\" x=\"179.199219\"/>\n      <use xlink:href=\"#DejaVuSans-31\" x=\"242.822266\"/>\n      <use xlink:href=\"#DejaVuSans-37\" x=\"306.445312\"/>\n      <use xlink:href=\"#DejaVuSans-31\" x=\"370.068359\"/>\n      <use xlink:href=\"#DejaVuSans-39\" x=\"433.691406\"/>\n      <use xlink:href=\"#DejaVuSans-65\" x=\"497.314453\"/>\n      <use xlink:href=\"#DejaVuSans-32\" x=\"558.837891\"/>\n     </g>\n    </g>\n   </g>\n   <g id=\"line2d_18\">\n    <path d=\"M 85.463977 34.414125 \nL 101.696705 276.334125 \nL 117.929432 276.334125 \nL 134.162159 276.334125 \nL 150.394886 276.334125 \nL 166.627614 276.334125 \nL 182.860341 276.334125 \nL 199.093068 276.334125 \nL 215.325795 276.334125 \nL 231.558523 276.334125 \nL 247.79125 276.334125 \nL 264.023977 276.334125 \nL 280.256705 276.334125 \nL 296.489432 276.334125 \nL 312.722159 276.334125 \nL 328.954886 276.334125 \nL 345.187614 276.334125 \nL 361.420341 276.334125 \nL 377.653068 276.334125 \nL 393.885795 276.334125 \nL 410.118523 276.334125 \n\" clip-path=\"url(#pd0b0ee0959)\" style=\"fill: none; stroke: #1f77b4; stroke-width: 1.5; stroke-linecap: square\"/>\n   </g>\n   <g id=\"patch_3\">\n    <path d=\"M 69.23125 288.430125 \nL 69.23125 22.318125 \n\" style=\"fill: none; stroke: #000000; stroke-width: 0.8; stroke-linejoin: miter; stroke-linecap: square\"/>\n   </g>\n   <g id=\"patch_4\">\n    <path d=\"M 426.35125 288.430125 \nL 426.35125 22.318125 \n\" style=\"fill: none; stroke: #000000; stroke-width: 0.8; stroke-linejoin: miter; stroke-linecap: square\"/>\n   </g>\n   <g id=\"patch_5\">\n    <path d=\"M 69.23125 288.430125 \nL 426.35125 288.430125 \n\" style=\"fill: none; stroke: #000000; stroke-width: 0.8; stroke-linejoin: miter; stroke-linecap: square\"/>\n   </g>\n   <g id=\"patch_6\">\n    <path d=\"M 69.23125 22.318125 \nL 426.35125 22.318125 \n\" style=\"fill: none; stroke: #000000; stroke-width: 0.8; stroke-linejoin: miter; stroke-linecap: square\"/>\n   </g>\n   <g id=\"text_21\">\n    <!-- Epochs vs Mean Squared Loss -->\n    <g transform=\"translate(157.549375 16.318125) scale(0.12 -0.12)\">\n     <defs>\n      <path id=\"DejaVuSans-76\" d=\"M 191 3500 \nL 800 3500 \nL 1894 563 \nL 2988 3500 \nL 3597 3500 \nL 2284 0 \nL 1503 0 \nL 191 3500 \nz\n\" transform=\"scale(0.015625)\"/>\n     </defs>\n     <use xlink:href=\"#DejaVuSans-45\"/>\n     <use xlink:href=\"#DejaVuSans-70\" x=\"63.183594\"/>\n     <use xlink:href=\"#DejaVuSans-6f\" x=\"126.660156\"/>\n     <use xlink:href=\"#DejaVuSans-63\" x=\"187.841797\"/>\n     <use xlink:href=\"#DejaVuSans-68\" x=\"242.822266\"/>\n     <use xlink:href=\"#DejaVuSans-73\" x=\"306.201172\"/>\n     <use xlink:href=\"#DejaVuSans-20\" x=\"358.300781\"/>\n     <use xlink:href=\"#DejaVuSans-76\" x=\"390.087891\"/>\n     <use xlink:href=\"#DejaVuSans-73\" x=\"449.267578\"/>\n     <use xlink:href=\"#DejaVuSans-20\" x=\"501.367188\"/>\n     <use xlink:href=\"#DejaVuSans-4d\" x=\"533.154297\"/>\n     <use xlink:href=\"#DejaVuSans-65\" x=\"619.433594\"/>\n     <use xlink:href=\"#DejaVuSans-61\" x=\"680.957031\"/>\n     <use xlink:href=\"#DejaVuSans-6e\" x=\"742.236328\"/>\n     <use xlink:href=\"#DejaVuSans-20\" x=\"805.615234\"/>\n     <use xlink:href=\"#DejaVuSans-53\" x=\"837.402344\"/>\n     <use xlink:href=\"#DejaVuSans-71\" x=\"900.878906\"/>\n     <use xlink:href=\"#DejaVuSans-75\" x=\"964.355469\"/>\n     <use xlink:href=\"#DejaVuSans-61\" x=\"1027.734375\"/>\n     <use xlink:href=\"#DejaVuSans-72\" x=\"1089.013672\"/>\n     <use xlink:href=\"#DejaVuSans-65\" x=\"1127.876953\"/>\n     <use xlink:href=\"#DejaVuSans-64\" x=\"1189.400391\"/>\n     <use xlink:href=\"#DejaVuSans-20\" x=\"1252.876953\"/>\n     <use xlink:href=\"#DejaVuSans-4c\" x=\"1284.664062\"/>\n     <use xlink:href=\"#DejaVuSans-6f\" x=\"1338.626953\"/>\n     <use xlink:href=\"#DejaVuSans-73\" x=\"1399.808594\"/>\n     <use xlink:href=\"#DejaVuSans-73\" x=\"1451.908203\"/>\n    </g>\n   </g>\n  </g>\n </g>\n <defs>\n  <clipPath id=\"pd0b0ee0959\">\n   <rect x=\"69.23125\" y=\"22.318125\" width=\"357.12\" height=\"266.112\"/>\n  </clipPath>\n </defs>\n</svg>\n"
          },
          "metadata": {}
        }
      ],
      "source": [
        "# DO NOT EDIT\n",
        "# TEST CODE FOR CHECKING THE FUNCTION.\n",
        "weights1,bias1,weights2,bias2,weights3,bias3,weights4,bias4=main(X,Y,20,0.01)"
      ]
    },
    {
      "cell_type": "markdown",
      "source": [
        "### If your output is correct, your graph should look like this:\n",
        "\n",
        "<center>\n",
        "\n",
        "![Google Drive Image](https://drive.google.com/uc?export=view&id=1haxQ_iz4AsZlmKiDOZoOe_DRvPHrU_Rd)\n",
        "\n",
        "</center>"
      ],
      "metadata": {
        "id": "HhEpsxUWmisO"
      }
    }
  ],
  "metadata": {
    "colab": {
      "provenance": []
    },
    "kernelspec": {
      "display_name": "Python 3",
      "name": "python3"
    },
    "language_info": {
      "codemirror_mode": {
        "name": "ipython",
        "version": 3
      },
      "file_extension": ".py",
      "mimetype": "text/x-python",
      "name": "python",
      "nbconvert_exporter": "python",
      "pygments_lexer": "ipython3",
      "version": "3.9.2"
    },
    "otter": {
      "tests": {
        "Task01": {
          "name": "Task01",
          "points": 10,
          "suites": [
            {
              "cases": [],
              "scored": true,
              "setup": "",
              "teardown": "",
              "type": "doctest"
            }
          ]
        },
        "Task02": {
          "name": "Task02",
          "points": 20,
          "suites": [
            {
              "cases": [],
              "scored": true,
              "setup": "",
              "teardown": "",
              "type": "doctest"
            }
          ]
        },
        "Task03": {
          "name": "Task03",
          "points": 10,
          "suites": [
            {
              "cases": [],
              "scored": true,
              "setup": "",
              "teardown": "",
              "type": "doctest"
            }
          ]
        },
        "Task04": {
          "name": "Task04",
          "points": 20,
          "suites": [
            {
              "cases": [],
              "scored": true,
              "setup": "",
              "teardown": "",
              "type": "doctest"
            }
          ]
        },
        "Task05": {
          "name": "Task05",
          "points": 20,
          "suites": [
            {
              "cases": [],
              "scored": true,
              "setup": "",
              "teardown": "",
              "type": "doctest"
            }
          ]
        },
        "Task06": {
          "name": "Task06",
          "points": 20,
          "suites": [
            {
              "cases": [],
              "scored": true,
              "setup": "",
              "teardown": "",
              "type": "doctest"
            }
          ]
        }
      }
    },
    "vscode": {
      "interpreter": {
        "hash": "341ce806ad348c6396969bf6bfc3e3b2899dcbddac3f00a64251096e015967a2"
      }
    }
  },
  "nbformat": 4,
  "nbformat_minor": 0
}